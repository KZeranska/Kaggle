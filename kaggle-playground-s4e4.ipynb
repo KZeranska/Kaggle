{
 "cells": [
  {
   "cell_type": "code",
   "execution_count": 1,
   "id": "66a47852",
   "metadata": {
    "_cell_guid": "b1076dfc-b9ad-4769-8c92-a6c4dae69d19",
    "_uuid": "8f2839f25d086af736a60e9eeb907d3b93b6e0e5",
    "execution": {
     "iopub.execute_input": "2024-04-09T09:10:31.270546Z",
     "iopub.status.busy": "2024-04-09T09:10:31.269500Z",
     "iopub.status.idle": "2024-04-09T09:10:32.628330Z",
     "shell.execute_reply": "2024-04-09T09:10:32.627171Z"
    },
    "papermill": {
     "duration": 1.372443,
     "end_time": "2024-04-09T09:10:32.630763",
     "exception": false,
     "start_time": "2024-04-09T09:10:31.258320",
     "status": "completed"
    },
    "tags": []
   },
   "outputs": [
    {
     "name": "stdout",
     "output_type": "stream",
     "text": [
      "/kaggle/input/playground-series-s4e4/sample_submission.csv\n",
      "/kaggle/input/playground-series-s4e4/train.csv\n",
      "/kaggle/input/playground-series-s4e4/test.csv\n"
     ]
    }
   ],
   "source": [
    "# This Python 3 environment comes with many helpful analytics libraries installed\n",
    "# It is defined by the kaggle/python Docker image: https://github.com/kaggle/docker-python\n",
    "# For example, here's several helpful packages to load\n",
    "\n",
    "import numpy as np # linear algebra\n",
    "import pandas as pd # data processing, CSV file I/O (e.g. pd.read_csv)\n",
    "\n",
    "# Input data files are available in the read-only \"../input/\" directory\n",
    "# For example, running this (by clicking run or pressing Shift+Enter) will list all files under the input directory\n",
    "\n",
    "import os\n",
    "for dirname, _, filenames in os.walk('/kaggle/input'):\n",
    "    for filename in filenames:\n",
    "        print(os.path.join(dirname, filename))\n",
    "\n",
    "# You can write up to 20GB to the current directory (/kaggle/working/) that gets preserved as output when you create a version using \"Save & Run All\" \n",
    "# You can also write temporary files to /kaggle/temp/, but they won't be saved outside of the current session"
   ]
  },
  {
   "cell_type": "code",
   "execution_count": 2,
   "id": "8cf93e5f",
   "metadata": {
    "execution": {
     "iopub.execute_input": "2024-04-09T09:10:32.650820Z",
     "iopub.status.busy": "2024-04-09T09:10:32.649834Z",
     "iopub.status.idle": "2024-04-09T09:10:35.279680Z",
     "shell.execute_reply": "2024-04-09T09:10:35.278738Z"
    },
    "papermill": {
     "duration": 2.642358,
     "end_time": "2024-04-09T09:10:35.282359",
     "exception": false,
     "start_time": "2024-04-09T09:10:32.640001",
     "status": "completed"
    },
    "tags": []
   },
   "outputs": [],
   "source": [
    "from sklearn.preprocessing import LabelEncoder\n",
    "\n",
    "import matplotlib.pyplot as plt\n",
    "import seaborn as sns"
   ]
  },
  {
   "cell_type": "code",
   "execution_count": 3,
   "id": "e9f10e7e",
   "metadata": {
    "execution": {
     "iopub.execute_input": "2024-04-09T09:10:35.303042Z",
     "iopub.status.busy": "2024-04-09T09:10:35.302005Z",
     "iopub.status.idle": "2024-04-09T09:10:35.698451Z",
     "shell.execute_reply": "2024-04-09T09:10:35.697539Z"
    },
    "papermill": {
     "duration": 0.409616,
     "end_time": "2024-04-09T09:10:35.701237",
     "exception": false,
     "start_time": "2024-04-09T09:10:35.291621",
     "status": "completed"
    },
    "tags": []
   },
   "outputs": [],
   "source": [
    "train= pd.read_csv('/kaggle/input/playground-series-s4e4/train.csv')\n",
    "test = pd.read_csv('/kaggle/input/playground-series-s4e4/test.csv')"
   ]
  },
  {
   "cell_type": "code",
   "execution_count": 4,
   "id": "1d7a4274",
   "metadata": {
    "execution": {
     "iopub.execute_input": "2024-04-09T09:10:35.721739Z",
     "iopub.status.busy": "2024-04-09T09:10:35.720896Z",
     "iopub.status.idle": "2024-04-09T09:10:35.759206Z",
     "shell.execute_reply": "2024-04-09T09:10:35.758148Z"
    },
    "papermill": {
     "duration": 0.051015,
     "end_time": "2024-04-09T09:10:35.761870",
     "exception": false,
     "start_time": "2024-04-09T09:10:35.710855",
     "status": "completed"
    },
    "tags": []
   },
   "outputs": [
    {
     "data": {
      "text/html": [
       "<div>\n",
       "<style scoped>\n",
       "    .dataframe tbody tr th:only-of-type {\n",
       "        vertical-align: middle;\n",
       "    }\n",
       "\n",
       "    .dataframe tbody tr th {\n",
       "        vertical-align: top;\n",
       "    }\n",
       "\n",
       "    .dataframe thead th {\n",
       "        text-align: right;\n",
       "    }\n",
       "</style>\n",
       "<table border=\"1\" class=\"dataframe\">\n",
       "  <thead>\n",
       "    <tr style=\"text-align: right;\">\n",
       "      <th></th>\n",
       "      <th>id</th>\n",
       "      <th>Sex</th>\n",
       "      <th>Length</th>\n",
       "      <th>Diameter</th>\n",
       "      <th>Height</th>\n",
       "      <th>Whole weight</th>\n",
       "      <th>Whole weight.1</th>\n",
       "      <th>Whole weight.2</th>\n",
       "      <th>Shell weight</th>\n",
       "      <th>Rings</th>\n",
       "    </tr>\n",
       "  </thead>\n",
       "  <tbody>\n",
       "    <tr>\n",
       "      <th>0</th>\n",
       "      <td>0</td>\n",
       "      <td>F</td>\n",
       "      <td>0.550</td>\n",
       "      <td>0.430</td>\n",
       "      <td>0.150</td>\n",
       "      <td>0.7715</td>\n",
       "      <td>0.3285</td>\n",
       "      <td>0.1465</td>\n",
       "      <td>0.2400</td>\n",
       "      <td>11</td>\n",
       "    </tr>\n",
       "    <tr>\n",
       "      <th>1</th>\n",
       "      <td>1</td>\n",
       "      <td>F</td>\n",
       "      <td>0.630</td>\n",
       "      <td>0.490</td>\n",
       "      <td>0.145</td>\n",
       "      <td>1.1300</td>\n",
       "      <td>0.4580</td>\n",
       "      <td>0.2765</td>\n",
       "      <td>0.3200</td>\n",
       "      <td>11</td>\n",
       "    </tr>\n",
       "    <tr>\n",
       "      <th>2</th>\n",
       "      <td>2</td>\n",
       "      <td>I</td>\n",
       "      <td>0.160</td>\n",
       "      <td>0.110</td>\n",
       "      <td>0.025</td>\n",
       "      <td>0.0210</td>\n",
       "      <td>0.0055</td>\n",
       "      <td>0.0030</td>\n",
       "      <td>0.0050</td>\n",
       "      <td>6</td>\n",
       "    </tr>\n",
       "    <tr>\n",
       "      <th>3</th>\n",
       "      <td>3</td>\n",
       "      <td>M</td>\n",
       "      <td>0.595</td>\n",
       "      <td>0.475</td>\n",
       "      <td>0.150</td>\n",
       "      <td>0.9145</td>\n",
       "      <td>0.3755</td>\n",
       "      <td>0.2055</td>\n",
       "      <td>0.2500</td>\n",
       "      <td>10</td>\n",
       "    </tr>\n",
       "    <tr>\n",
       "      <th>4</th>\n",
       "      <td>4</td>\n",
       "      <td>I</td>\n",
       "      <td>0.555</td>\n",
       "      <td>0.425</td>\n",
       "      <td>0.130</td>\n",
       "      <td>0.7820</td>\n",
       "      <td>0.3695</td>\n",
       "      <td>0.1600</td>\n",
       "      <td>0.1975</td>\n",
       "      <td>9</td>\n",
       "    </tr>\n",
       "    <tr>\n",
       "      <th>...</th>\n",
       "      <td>...</td>\n",
       "      <td>...</td>\n",
       "      <td>...</td>\n",
       "      <td>...</td>\n",
       "      <td>...</td>\n",
       "      <td>...</td>\n",
       "      <td>...</td>\n",
       "      <td>...</td>\n",
       "      <td>...</td>\n",
       "      <td>...</td>\n",
       "    </tr>\n",
       "    <tr>\n",
       "      <th>90610</th>\n",
       "      <td>90610</td>\n",
       "      <td>M</td>\n",
       "      <td>0.335</td>\n",
       "      <td>0.235</td>\n",
       "      <td>0.075</td>\n",
       "      <td>0.1585</td>\n",
       "      <td>0.0685</td>\n",
       "      <td>0.0370</td>\n",
       "      <td>0.0450</td>\n",
       "      <td>6</td>\n",
       "    </tr>\n",
       "    <tr>\n",
       "      <th>90611</th>\n",
       "      <td>90611</td>\n",
       "      <td>M</td>\n",
       "      <td>0.555</td>\n",
       "      <td>0.425</td>\n",
       "      <td>0.150</td>\n",
       "      <td>0.8790</td>\n",
       "      <td>0.3865</td>\n",
       "      <td>0.1815</td>\n",
       "      <td>0.2400</td>\n",
       "      <td>9</td>\n",
       "    </tr>\n",
       "    <tr>\n",
       "      <th>90612</th>\n",
       "      <td>90612</td>\n",
       "      <td>I</td>\n",
       "      <td>0.435</td>\n",
       "      <td>0.330</td>\n",
       "      <td>0.095</td>\n",
       "      <td>0.3215</td>\n",
       "      <td>0.1510</td>\n",
       "      <td>0.0785</td>\n",
       "      <td>0.0815</td>\n",
       "      <td>6</td>\n",
       "    </tr>\n",
       "    <tr>\n",
       "      <th>90613</th>\n",
       "      <td>90613</td>\n",
       "      <td>I</td>\n",
       "      <td>0.345</td>\n",
       "      <td>0.270</td>\n",
       "      <td>0.075</td>\n",
       "      <td>0.2000</td>\n",
       "      <td>0.0980</td>\n",
       "      <td>0.0490</td>\n",
       "      <td>0.0700</td>\n",
       "      <td>6</td>\n",
       "    </tr>\n",
       "    <tr>\n",
       "      <th>90614</th>\n",
       "      <td>90614</td>\n",
       "      <td>I</td>\n",
       "      <td>0.425</td>\n",
       "      <td>0.325</td>\n",
       "      <td>0.100</td>\n",
       "      <td>0.3455</td>\n",
       "      <td>0.1525</td>\n",
       "      <td>0.0785</td>\n",
       "      <td>0.1050</td>\n",
       "      <td>8</td>\n",
       "    </tr>\n",
       "  </tbody>\n",
       "</table>\n",
       "<p>90615 rows × 10 columns</p>\n",
       "</div>"
      ],
      "text/plain": [
       "          id Sex  Length  Diameter  Height  Whole weight  Whole weight.1  \\\n",
       "0          0   F   0.550     0.430   0.150        0.7715          0.3285   \n",
       "1          1   F   0.630     0.490   0.145        1.1300          0.4580   \n",
       "2          2   I   0.160     0.110   0.025        0.0210          0.0055   \n",
       "3          3   M   0.595     0.475   0.150        0.9145          0.3755   \n",
       "4          4   I   0.555     0.425   0.130        0.7820          0.3695   \n",
       "...      ...  ..     ...       ...     ...           ...             ...   \n",
       "90610  90610   M   0.335     0.235   0.075        0.1585          0.0685   \n",
       "90611  90611   M   0.555     0.425   0.150        0.8790          0.3865   \n",
       "90612  90612   I   0.435     0.330   0.095        0.3215          0.1510   \n",
       "90613  90613   I   0.345     0.270   0.075        0.2000          0.0980   \n",
       "90614  90614   I   0.425     0.325   0.100        0.3455          0.1525   \n",
       "\n",
       "       Whole weight.2  Shell weight  Rings  \n",
       "0              0.1465        0.2400     11  \n",
       "1              0.2765        0.3200     11  \n",
       "2              0.0030        0.0050      6  \n",
       "3              0.2055        0.2500     10  \n",
       "4              0.1600        0.1975      9  \n",
       "...               ...           ...    ...  \n",
       "90610          0.0370        0.0450      6  \n",
       "90611          0.1815        0.2400      9  \n",
       "90612          0.0785        0.0815      6  \n",
       "90613          0.0490        0.0700      6  \n",
       "90614          0.0785        0.1050      8  \n",
       "\n",
       "[90615 rows x 10 columns]"
      ]
     },
     "execution_count": 4,
     "metadata": {},
     "output_type": "execute_result"
    }
   ],
   "source": [
    "train"
   ]
  },
  {
   "cell_type": "code",
   "execution_count": 5,
   "id": "67bb993b",
   "metadata": {
    "execution": {
     "iopub.execute_input": "2024-04-09T09:10:35.783815Z",
     "iopub.status.busy": "2024-04-09T09:10:35.783418Z",
     "iopub.status.idle": "2024-04-09T09:10:35.808769Z",
     "shell.execute_reply": "2024-04-09T09:10:35.807789Z"
    },
    "papermill": {
     "duration": 0.038992,
     "end_time": "2024-04-09T09:10:35.811081",
     "exception": false,
     "start_time": "2024-04-09T09:10:35.772089",
     "status": "completed"
    },
    "tags": []
   },
   "outputs": [
    {
     "data": {
      "text/html": [
       "<div>\n",
       "<style scoped>\n",
       "    .dataframe tbody tr th:only-of-type {\n",
       "        vertical-align: middle;\n",
       "    }\n",
       "\n",
       "    .dataframe tbody tr th {\n",
       "        vertical-align: top;\n",
       "    }\n",
       "\n",
       "    .dataframe thead th {\n",
       "        text-align: right;\n",
       "    }\n",
       "</style>\n",
       "<table border=\"1\" class=\"dataframe\">\n",
       "  <thead>\n",
       "    <tr style=\"text-align: right;\">\n",
       "      <th></th>\n",
       "      <th>id</th>\n",
       "      <th>Sex</th>\n",
       "      <th>Length</th>\n",
       "      <th>Diameter</th>\n",
       "      <th>Height</th>\n",
       "      <th>Whole weight</th>\n",
       "      <th>Whole weight.1</th>\n",
       "      <th>Whole weight.2</th>\n",
       "      <th>Shell weight</th>\n",
       "    </tr>\n",
       "  </thead>\n",
       "  <tbody>\n",
       "    <tr>\n",
       "      <th>0</th>\n",
       "      <td>90615</td>\n",
       "      <td>M</td>\n",
       "      <td>0.645</td>\n",
       "      <td>0.475</td>\n",
       "      <td>0.155</td>\n",
       "      <td>1.2380</td>\n",
       "      <td>0.6185</td>\n",
       "      <td>0.3125</td>\n",
       "      <td>0.3005</td>\n",
       "    </tr>\n",
       "    <tr>\n",
       "      <th>1</th>\n",
       "      <td>90616</td>\n",
       "      <td>M</td>\n",
       "      <td>0.580</td>\n",
       "      <td>0.460</td>\n",
       "      <td>0.160</td>\n",
       "      <td>0.9830</td>\n",
       "      <td>0.4785</td>\n",
       "      <td>0.2195</td>\n",
       "      <td>0.2750</td>\n",
       "    </tr>\n",
       "    <tr>\n",
       "      <th>2</th>\n",
       "      <td>90617</td>\n",
       "      <td>M</td>\n",
       "      <td>0.560</td>\n",
       "      <td>0.420</td>\n",
       "      <td>0.140</td>\n",
       "      <td>0.8395</td>\n",
       "      <td>0.3525</td>\n",
       "      <td>0.1845</td>\n",
       "      <td>0.2405</td>\n",
       "    </tr>\n",
       "    <tr>\n",
       "      <th>3</th>\n",
       "      <td>90618</td>\n",
       "      <td>M</td>\n",
       "      <td>0.570</td>\n",
       "      <td>0.490</td>\n",
       "      <td>0.145</td>\n",
       "      <td>0.8740</td>\n",
       "      <td>0.3525</td>\n",
       "      <td>0.1865</td>\n",
       "      <td>0.2350</td>\n",
       "    </tr>\n",
       "    <tr>\n",
       "      <th>4</th>\n",
       "      <td>90619</td>\n",
       "      <td>I</td>\n",
       "      <td>0.415</td>\n",
       "      <td>0.325</td>\n",
       "      <td>0.110</td>\n",
       "      <td>0.3580</td>\n",
       "      <td>0.1575</td>\n",
       "      <td>0.0670</td>\n",
       "      <td>0.1050</td>\n",
       "    </tr>\n",
       "    <tr>\n",
       "      <th>...</th>\n",
       "      <td>...</td>\n",
       "      <td>...</td>\n",
       "      <td>...</td>\n",
       "      <td>...</td>\n",
       "      <td>...</td>\n",
       "      <td>...</td>\n",
       "      <td>...</td>\n",
       "      <td>...</td>\n",
       "      <td>...</td>\n",
       "    </tr>\n",
       "    <tr>\n",
       "      <th>60406</th>\n",
       "      <td>151021</td>\n",
       "      <td>I</td>\n",
       "      <td>0.345</td>\n",
       "      <td>0.260</td>\n",
       "      <td>0.085</td>\n",
       "      <td>0.1775</td>\n",
       "      <td>0.0735</td>\n",
       "      <td>0.0265</td>\n",
       "      <td>0.0500</td>\n",
       "    </tr>\n",
       "    <tr>\n",
       "      <th>60407</th>\n",
       "      <td>151022</td>\n",
       "      <td>F</td>\n",
       "      <td>0.525</td>\n",
       "      <td>0.410</td>\n",
       "      <td>0.145</td>\n",
       "      <td>0.8445</td>\n",
       "      <td>0.3885</td>\n",
       "      <td>0.1670</td>\n",
       "      <td>0.2050</td>\n",
       "    </tr>\n",
       "    <tr>\n",
       "      <th>60408</th>\n",
       "      <td>151023</td>\n",
       "      <td>I</td>\n",
       "      <td>0.590</td>\n",
       "      <td>0.440</td>\n",
       "      <td>0.155</td>\n",
       "      <td>1.1220</td>\n",
       "      <td>0.3930</td>\n",
       "      <td>0.2000</td>\n",
       "      <td>0.2650</td>\n",
       "    </tr>\n",
       "    <tr>\n",
       "      <th>60409</th>\n",
       "      <td>151024</td>\n",
       "      <td>F</td>\n",
       "      <td>0.660</td>\n",
       "      <td>0.525</td>\n",
       "      <td>0.190</td>\n",
       "      <td>1.4935</td>\n",
       "      <td>0.5885</td>\n",
       "      <td>0.3575</td>\n",
       "      <td>0.4350</td>\n",
       "    </tr>\n",
       "    <tr>\n",
       "      <th>60410</th>\n",
       "      <td>151025</td>\n",
       "      <td>F</td>\n",
       "      <td>0.430</td>\n",
       "      <td>0.340</td>\n",
       "      <td>0.120</td>\n",
       "      <td>0.4150</td>\n",
       "      <td>0.1525</td>\n",
       "      <td>0.0910</td>\n",
       "      <td>0.0905</td>\n",
       "    </tr>\n",
       "  </tbody>\n",
       "</table>\n",
       "<p>60411 rows × 9 columns</p>\n",
       "</div>"
      ],
      "text/plain": [
       "           id Sex  Length  Diameter  Height  Whole weight  Whole weight.1  \\\n",
       "0       90615   M   0.645     0.475   0.155        1.2380          0.6185   \n",
       "1       90616   M   0.580     0.460   0.160        0.9830          0.4785   \n",
       "2       90617   M   0.560     0.420   0.140        0.8395          0.3525   \n",
       "3       90618   M   0.570     0.490   0.145        0.8740          0.3525   \n",
       "4       90619   I   0.415     0.325   0.110        0.3580          0.1575   \n",
       "...       ...  ..     ...       ...     ...           ...             ...   \n",
       "60406  151021   I   0.345     0.260   0.085        0.1775          0.0735   \n",
       "60407  151022   F   0.525     0.410   0.145        0.8445          0.3885   \n",
       "60408  151023   I   0.590     0.440   0.155        1.1220          0.3930   \n",
       "60409  151024   F   0.660     0.525   0.190        1.4935          0.5885   \n",
       "60410  151025   F   0.430     0.340   0.120        0.4150          0.1525   \n",
       "\n",
       "       Whole weight.2  Shell weight  \n",
       "0              0.3125        0.3005  \n",
       "1              0.2195        0.2750  \n",
       "2              0.1845        0.2405  \n",
       "3              0.1865        0.2350  \n",
       "4              0.0670        0.1050  \n",
       "...               ...           ...  \n",
       "60406          0.0265        0.0500  \n",
       "60407          0.1670        0.2050  \n",
       "60408          0.2000        0.2650  \n",
       "60409          0.3575        0.4350  \n",
       "60410          0.0910        0.0905  \n",
       "\n",
       "[60411 rows x 9 columns]"
      ]
     },
     "execution_count": 5,
     "metadata": {},
     "output_type": "execute_result"
    }
   ],
   "source": [
    "test"
   ]
  },
  {
   "cell_type": "code",
   "execution_count": 6,
   "id": "23ee1b8e",
   "metadata": {
    "execution": {
     "iopub.execute_input": "2024-04-09T09:10:35.832046Z",
     "iopub.status.busy": "2024-04-09T09:10:35.831328Z",
     "iopub.status.idle": "2024-04-09T09:10:35.855061Z",
     "shell.execute_reply": "2024-04-09T09:10:35.853949Z"
    },
    "papermill": {
     "duration": 0.037129,
     "end_time": "2024-04-09T09:10:35.857669",
     "exception": false,
     "start_time": "2024-04-09T09:10:35.820540",
     "status": "completed"
    },
    "tags": []
   },
   "outputs": [
    {
     "data": {
      "text/plain": [
       "id                0\n",
       "Sex               0\n",
       "Length            0\n",
       "Diameter          0\n",
       "Height            0\n",
       "Whole weight      0\n",
       "Whole weight.1    0\n",
       "Whole weight.2    0\n",
       "Shell weight      0\n",
       "Rings             0\n",
       "dtype: int64"
      ]
     },
     "execution_count": 6,
     "metadata": {},
     "output_type": "execute_result"
    }
   ],
   "source": [
    "train.isna().sum()"
   ]
  },
  {
   "cell_type": "code",
   "execution_count": 7,
   "id": "87218741",
   "metadata": {
    "execution": {
     "iopub.execute_input": "2024-04-09T09:10:35.881300Z",
     "iopub.status.busy": "2024-04-09T09:10:35.880539Z",
     "iopub.status.idle": "2024-04-09T09:10:35.916387Z",
     "shell.execute_reply": "2024-04-09T09:10:35.915332Z"
    },
    "papermill": {
     "duration": 0.049487,
     "end_time": "2024-04-09T09:10:35.919026",
     "exception": false,
     "start_time": "2024-04-09T09:10:35.869539",
     "status": "completed"
    },
    "tags": []
   },
   "outputs": [
    {
     "data": {
      "text/plain": [
       "id                90615\n",
       "Sex                   3\n",
       "Length              157\n",
       "Diameter            126\n",
       "Height               90\n",
       "Whole weight       3175\n",
       "Whole weight.1     1799\n",
       "Whole weight.2      979\n",
       "Shell weight       1129\n",
       "Rings                28\n",
       "dtype: int64"
      ]
     },
     "execution_count": 7,
     "metadata": {},
     "output_type": "execute_result"
    }
   ],
   "source": [
    "train.nunique()"
   ]
  },
  {
   "cell_type": "code",
   "execution_count": 8,
   "id": "e962ac5d",
   "metadata": {
    "execution": {
     "iopub.execute_input": "2024-04-09T09:10:35.940831Z",
     "iopub.status.busy": "2024-04-09T09:10:35.940172Z",
     "iopub.status.idle": "2024-04-09T09:10:35.973115Z",
     "shell.execute_reply": "2024-04-09T09:10:35.971908Z"
    },
    "papermill": {
     "duration": 0.046906,
     "end_time": "2024-04-09T09:10:35.975972",
     "exception": false,
     "start_time": "2024-04-09T09:10:35.929066",
     "status": "completed"
    },
    "tags": []
   },
   "outputs": [
    {
     "name": "stdout",
     "output_type": "stream",
     "text": [
      "<class 'pandas.core.frame.DataFrame'>\n",
      "RangeIndex: 90615 entries, 0 to 90614\n",
      "Data columns (total 10 columns):\n",
      " #   Column          Non-Null Count  Dtype  \n",
      "---  ------          --------------  -----  \n",
      " 0   id              90615 non-null  int64  \n",
      " 1   Sex             90615 non-null  object \n",
      " 2   Length          90615 non-null  float64\n",
      " 3   Diameter        90615 non-null  float64\n",
      " 4   Height          90615 non-null  float64\n",
      " 5   Whole weight    90615 non-null  float64\n",
      " 6   Whole weight.1  90615 non-null  float64\n",
      " 7   Whole weight.2  90615 non-null  float64\n",
      " 8   Shell weight    90615 non-null  float64\n",
      " 9   Rings           90615 non-null  int64  \n",
      "dtypes: float64(7), int64(2), object(1)\n",
      "memory usage: 6.9+ MB\n"
     ]
    }
   ],
   "source": [
    "train.info()"
   ]
  },
  {
   "cell_type": "code",
   "execution_count": 9,
   "id": "9f29dfec",
   "metadata": {
    "execution": {
     "iopub.execute_input": "2024-04-09T09:10:35.998676Z",
     "iopub.status.busy": "2024-04-09T09:10:35.998299Z",
     "iopub.status.idle": "2024-04-09T09:10:36.006445Z",
     "shell.execute_reply": "2024-04-09T09:10:36.004452Z"
    },
    "papermill": {
     "duration": 0.021691,
     "end_time": "2024-04-09T09:10:36.008932",
     "exception": false,
     "start_time": "2024-04-09T09:10:35.987241",
     "status": "completed"
    },
    "tags": []
   },
   "outputs": [
    {
     "data": {
      "text/plain": [
       "Index(['id', 'Sex', 'Length', 'Diameter', 'Height', 'Whole weight',\n",
       "       'Whole weight.1', 'Whole weight.2', 'Shell weight', 'Rings'],\n",
       "      dtype='object')"
      ]
     },
     "execution_count": 9,
     "metadata": {},
     "output_type": "execute_result"
    }
   ],
   "source": [
    "train.columns"
   ]
  },
  {
   "cell_type": "code",
   "execution_count": 10,
   "id": "b493d7af",
   "metadata": {
    "execution": {
     "iopub.execute_input": "2024-04-09T09:10:36.035443Z",
     "iopub.status.busy": "2024-04-09T09:10:36.035086Z",
     "iopub.status.idle": "2024-04-09T09:10:36.039782Z",
     "shell.execute_reply": "2024-04-09T09:10:36.038542Z"
    },
    "papermill": {
     "duration": 0.020832,
     "end_time": "2024-04-09T09:10:36.042650",
     "exception": false,
     "start_time": "2024-04-09T09:10:36.021818",
     "status": "completed"
    },
    "tags": []
   },
   "outputs": [],
   "source": [
    "# train_en = pd.get_dummies(train, columns=['Sex'], dtype= int)\n",
    "\n",
    "# test_en = pd.get_dummies(test, columns=['Sex'], dtype=int)"
   ]
  },
  {
   "cell_type": "code",
   "execution_count": 11,
   "id": "c4941fce",
   "metadata": {
    "execution": {
     "iopub.execute_input": "2024-04-09T09:10:36.070843Z",
     "iopub.status.busy": "2024-04-09T09:10:36.069766Z",
     "iopub.status.idle": "2024-04-09T09:10:36.125746Z",
     "shell.execute_reply": "2024-04-09T09:10:36.124696Z"
    },
    "papermill": {
     "duration": 0.071893,
     "end_time": "2024-04-09T09:10:36.129109",
     "exception": false,
     "start_time": "2024-04-09T09:10:36.057216",
     "status": "completed"
    },
    "tags": []
   },
   "outputs": [],
   "source": [
    "le = LabelEncoder()\n",
    "train['Sex'] = le.fit_transform(train['Sex'])\n",
    "test['Sex'] = le.transform(test['Sex'])\n"
   ]
  },
  {
   "cell_type": "code",
   "execution_count": 12,
   "id": "489a08d5",
   "metadata": {
    "execution": {
     "iopub.execute_input": "2024-04-09T09:10:36.159485Z",
     "iopub.status.busy": "2024-04-09T09:10:36.158497Z",
     "iopub.status.idle": "2024-04-09T09:10:36.177447Z",
     "shell.execute_reply": "2024-04-09T09:10:36.176287Z"
    },
    "papermill": {
     "duration": 0.037155,
     "end_time": "2024-04-09T09:10:36.180277",
     "exception": false,
     "start_time": "2024-04-09T09:10:36.143122",
     "status": "completed"
    },
    "tags": []
   },
   "outputs": [
    {
     "data": {
      "text/html": [
       "<div>\n",
       "<style scoped>\n",
       "    .dataframe tbody tr th:only-of-type {\n",
       "        vertical-align: middle;\n",
       "    }\n",
       "\n",
       "    .dataframe tbody tr th {\n",
       "        vertical-align: top;\n",
       "    }\n",
       "\n",
       "    .dataframe thead th {\n",
       "        text-align: right;\n",
       "    }\n",
       "</style>\n",
       "<table border=\"1\" class=\"dataframe\">\n",
       "  <thead>\n",
       "    <tr style=\"text-align: right;\">\n",
       "      <th></th>\n",
       "      <th>id</th>\n",
       "      <th>Sex</th>\n",
       "      <th>Length</th>\n",
       "      <th>Diameter</th>\n",
       "      <th>Height</th>\n",
       "      <th>Whole weight</th>\n",
       "      <th>Whole weight.1</th>\n",
       "      <th>Whole weight.2</th>\n",
       "      <th>Shell weight</th>\n",
       "      <th>Rings</th>\n",
       "    </tr>\n",
       "  </thead>\n",
       "  <tbody>\n",
       "    <tr>\n",
       "      <th>0</th>\n",
       "      <td>0</td>\n",
       "      <td>0</td>\n",
       "      <td>0.550</td>\n",
       "      <td>0.430</td>\n",
       "      <td>0.150</td>\n",
       "      <td>0.7715</td>\n",
       "      <td>0.3285</td>\n",
       "      <td>0.1465</td>\n",
       "      <td>0.2400</td>\n",
       "      <td>11</td>\n",
       "    </tr>\n",
       "    <tr>\n",
       "      <th>1</th>\n",
       "      <td>1</td>\n",
       "      <td>0</td>\n",
       "      <td>0.630</td>\n",
       "      <td>0.490</td>\n",
       "      <td>0.145</td>\n",
       "      <td>1.1300</td>\n",
       "      <td>0.4580</td>\n",
       "      <td>0.2765</td>\n",
       "      <td>0.3200</td>\n",
       "      <td>11</td>\n",
       "    </tr>\n",
       "    <tr>\n",
       "      <th>2</th>\n",
       "      <td>2</td>\n",
       "      <td>1</td>\n",
       "      <td>0.160</td>\n",
       "      <td>0.110</td>\n",
       "      <td>0.025</td>\n",
       "      <td>0.0210</td>\n",
       "      <td>0.0055</td>\n",
       "      <td>0.0030</td>\n",
       "      <td>0.0050</td>\n",
       "      <td>6</td>\n",
       "    </tr>\n",
       "    <tr>\n",
       "      <th>3</th>\n",
       "      <td>3</td>\n",
       "      <td>2</td>\n",
       "      <td>0.595</td>\n",
       "      <td>0.475</td>\n",
       "      <td>0.150</td>\n",
       "      <td>0.9145</td>\n",
       "      <td>0.3755</td>\n",
       "      <td>0.2055</td>\n",
       "      <td>0.2500</td>\n",
       "      <td>10</td>\n",
       "    </tr>\n",
       "    <tr>\n",
       "      <th>4</th>\n",
       "      <td>4</td>\n",
       "      <td>1</td>\n",
       "      <td>0.555</td>\n",
       "      <td>0.425</td>\n",
       "      <td>0.130</td>\n",
       "      <td>0.7820</td>\n",
       "      <td>0.3695</td>\n",
       "      <td>0.1600</td>\n",
       "      <td>0.1975</td>\n",
       "      <td>9</td>\n",
       "    </tr>\n",
       "  </tbody>\n",
       "</table>\n",
       "</div>"
      ],
      "text/plain": [
       "   id  Sex  Length  Diameter  Height  Whole weight  Whole weight.1  \\\n",
       "0   0    0   0.550     0.430   0.150        0.7715          0.3285   \n",
       "1   1    0   0.630     0.490   0.145        1.1300          0.4580   \n",
       "2   2    1   0.160     0.110   0.025        0.0210          0.0055   \n",
       "3   3    2   0.595     0.475   0.150        0.9145          0.3755   \n",
       "4   4    1   0.555     0.425   0.130        0.7820          0.3695   \n",
       "\n",
       "   Whole weight.2  Shell weight  Rings  \n",
       "0          0.1465        0.2400     11  \n",
       "1          0.2765        0.3200     11  \n",
       "2          0.0030        0.0050      6  \n",
       "3          0.2055        0.2500     10  \n",
       "4          0.1600        0.1975      9  "
      ]
     },
     "execution_count": 12,
     "metadata": {},
     "output_type": "execute_result"
    }
   ],
   "source": [
    "train.head()"
   ]
  },
  {
   "cell_type": "code",
   "execution_count": 13,
   "id": "33325fbe",
   "metadata": {
    "execution": {
     "iopub.execute_input": "2024-04-09T09:10:36.211136Z",
     "iopub.status.busy": "2024-04-09T09:10:36.210123Z",
     "iopub.status.idle": "2024-04-09T09:10:36.223841Z",
     "shell.execute_reply": "2024-04-09T09:10:36.222568Z"
    },
    "papermill": {
     "duration": 0.032723,
     "end_time": "2024-04-09T09:10:36.226718",
     "exception": false,
     "start_time": "2024-04-09T09:10:36.193995",
     "status": "completed"
    },
    "tags": []
   },
   "outputs": [],
   "source": [
    "train = train.drop('id', axis=1)\n",
    "test = test.drop('id', axis=1)"
   ]
  },
  {
   "cell_type": "code",
   "execution_count": 14,
   "id": "6584df0b",
   "metadata": {
    "execution": {
     "iopub.execute_input": "2024-04-09T09:10:36.251013Z",
     "iopub.status.busy": "2024-04-09T09:10:36.249728Z",
     "iopub.status.idle": "2024-04-09T09:10:36.283141Z",
     "shell.execute_reply": "2024-04-09T09:10:36.281790Z"
    },
    "papermill": {
     "duration": 0.048857,
     "end_time": "2024-04-09T09:10:36.286407",
     "exception": false,
     "start_time": "2024-04-09T09:10:36.237550",
     "status": "completed"
    },
    "tags": []
   },
   "outputs": [
    {
     "data": {
      "text/html": [
       "<div>\n",
       "<style scoped>\n",
       "    .dataframe tbody tr th:only-of-type {\n",
       "        vertical-align: middle;\n",
       "    }\n",
       "\n",
       "    .dataframe tbody tr th {\n",
       "        vertical-align: top;\n",
       "    }\n",
       "\n",
       "    .dataframe thead th {\n",
       "        text-align: right;\n",
       "    }\n",
       "</style>\n",
       "<table border=\"1\" class=\"dataframe\">\n",
       "  <thead>\n",
       "    <tr style=\"text-align: right;\">\n",
       "      <th></th>\n",
       "      <th>Sex</th>\n",
       "      <th>Length</th>\n",
       "      <th>Diameter</th>\n",
       "      <th>Height</th>\n",
       "      <th>Whole weight</th>\n",
       "      <th>Whole weight.1</th>\n",
       "      <th>Whole weight.2</th>\n",
       "      <th>Shell weight</th>\n",
       "    </tr>\n",
       "  </thead>\n",
       "  <tbody>\n",
       "    <tr>\n",
       "      <th>0</th>\n",
       "      <td>0</td>\n",
       "      <td>0.550</td>\n",
       "      <td>0.430</td>\n",
       "      <td>0.150</td>\n",
       "      <td>0.7715</td>\n",
       "      <td>0.3285</td>\n",
       "      <td>0.1465</td>\n",
       "      <td>0.2400</td>\n",
       "    </tr>\n",
       "    <tr>\n",
       "      <th>1</th>\n",
       "      <td>0</td>\n",
       "      <td>0.630</td>\n",
       "      <td>0.490</td>\n",
       "      <td>0.145</td>\n",
       "      <td>1.1300</td>\n",
       "      <td>0.4580</td>\n",
       "      <td>0.2765</td>\n",
       "      <td>0.3200</td>\n",
       "    </tr>\n",
       "    <tr>\n",
       "      <th>2</th>\n",
       "      <td>1</td>\n",
       "      <td>0.160</td>\n",
       "      <td>0.110</td>\n",
       "      <td>0.025</td>\n",
       "      <td>0.0210</td>\n",
       "      <td>0.0055</td>\n",
       "      <td>0.0030</td>\n",
       "      <td>0.0050</td>\n",
       "    </tr>\n",
       "    <tr>\n",
       "      <th>3</th>\n",
       "      <td>2</td>\n",
       "      <td>0.595</td>\n",
       "      <td>0.475</td>\n",
       "      <td>0.150</td>\n",
       "      <td>0.9145</td>\n",
       "      <td>0.3755</td>\n",
       "      <td>0.2055</td>\n",
       "      <td>0.2500</td>\n",
       "    </tr>\n",
       "    <tr>\n",
       "      <th>4</th>\n",
       "      <td>1</td>\n",
       "      <td>0.555</td>\n",
       "      <td>0.425</td>\n",
       "      <td>0.130</td>\n",
       "      <td>0.7820</td>\n",
       "      <td>0.3695</td>\n",
       "      <td>0.1600</td>\n",
       "      <td>0.1975</td>\n",
       "    </tr>\n",
       "    <tr>\n",
       "      <th>...</th>\n",
       "      <td>...</td>\n",
       "      <td>...</td>\n",
       "      <td>...</td>\n",
       "      <td>...</td>\n",
       "      <td>...</td>\n",
       "      <td>...</td>\n",
       "      <td>...</td>\n",
       "      <td>...</td>\n",
       "    </tr>\n",
       "    <tr>\n",
       "      <th>90610</th>\n",
       "      <td>2</td>\n",
       "      <td>0.335</td>\n",
       "      <td>0.235</td>\n",
       "      <td>0.075</td>\n",
       "      <td>0.1585</td>\n",
       "      <td>0.0685</td>\n",
       "      <td>0.0370</td>\n",
       "      <td>0.0450</td>\n",
       "    </tr>\n",
       "    <tr>\n",
       "      <th>90611</th>\n",
       "      <td>2</td>\n",
       "      <td>0.555</td>\n",
       "      <td>0.425</td>\n",
       "      <td>0.150</td>\n",
       "      <td>0.8790</td>\n",
       "      <td>0.3865</td>\n",
       "      <td>0.1815</td>\n",
       "      <td>0.2400</td>\n",
       "    </tr>\n",
       "    <tr>\n",
       "      <th>90612</th>\n",
       "      <td>1</td>\n",
       "      <td>0.435</td>\n",
       "      <td>0.330</td>\n",
       "      <td>0.095</td>\n",
       "      <td>0.3215</td>\n",
       "      <td>0.1510</td>\n",
       "      <td>0.0785</td>\n",
       "      <td>0.0815</td>\n",
       "    </tr>\n",
       "    <tr>\n",
       "      <th>90613</th>\n",
       "      <td>1</td>\n",
       "      <td>0.345</td>\n",
       "      <td>0.270</td>\n",
       "      <td>0.075</td>\n",
       "      <td>0.2000</td>\n",
       "      <td>0.0980</td>\n",
       "      <td>0.0490</td>\n",
       "      <td>0.0700</td>\n",
       "    </tr>\n",
       "    <tr>\n",
       "      <th>90614</th>\n",
       "      <td>1</td>\n",
       "      <td>0.425</td>\n",
       "      <td>0.325</td>\n",
       "      <td>0.100</td>\n",
       "      <td>0.3455</td>\n",
       "      <td>0.1525</td>\n",
       "      <td>0.0785</td>\n",
       "      <td>0.1050</td>\n",
       "    </tr>\n",
       "  </tbody>\n",
       "</table>\n",
       "<p>90615 rows × 8 columns</p>\n",
       "</div>"
      ],
      "text/plain": [
       "       Sex  Length  Diameter  Height  Whole weight  Whole weight.1  \\\n",
       "0        0   0.550     0.430   0.150        0.7715          0.3285   \n",
       "1        0   0.630     0.490   0.145        1.1300          0.4580   \n",
       "2        1   0.160     0.110   0.025        0.0210          0.0055   \n",
       "3        2   0.595     0.475   0.150        0.9145          0.3755   \n",
       "4        1   0.555     0.425   0.130        0.7820          0.3695   \n",
       "...    ...     ...       ...     ...           ...             ...   \n",
       "90610    2   0.335     0.235   0.075        0.1585          0.0685   \n",
       "90611    2   0.555     0.425   0.150        0.8790          0.3865   \n",
       "90612    1   0.435     0.330   0.095        0.3215          0.1510   \n",
       "90613    1   0.345     0.270   0.075        0.2000          0.0980   \n",
       "90614    1   0.425     0.325   0.100        0.3455          0.1525   \n",
       "\n",
       "       Whole weight.2  Shell weight  \n",
       "0              0.1465        0.2400  \n",
       "1              0.2765        0.3200  \n",
       "2              0.0030        0.0050  \n",
       "3              0.2055        0.2500  \n",
       "4              0.1600        0.1975  \n",
       "...               ...           ...  \n",
       "90610          0.0370        0.0450  \n",
       "90611          0.1815        0.2400  \n",
       "90612          0.0785        0.0815  \n",
       "90613          0.0490        0.0700  \n",
       "90614          0.0785        0.1050  \n",
       "\n",
       "[90615 rows x 8 columns]"
      ]
     },
     "execution_count": 14,
     "metadata": {},
     "output_type": "execute_result"
    }
   ],
   "source": [
    "features = train.drop('Rings', axis=1)\n",
    "features"
   ]
  },
  {
   "cell_type": "code",
   "execution_count": null,
   "id": "45547e9e",
   "metadata": {
    "papermill": {
     "duration": 0.014046,
     "end_time": "2024-04-09T09:10:36.316418",
     "exception": false,
     "start_time": "2024-04-09T09:10:36.302372",
     "status": "completed"
    },
    "tags": []
   },
   "outputs": [],
   "source": []
  },
  {
   "cell_type": "code",
   "execution_count": 15,
   "id": "75361abe",
   "metadata": {
    "execution": {
     "iopub.execute_input": "2024-04-09T09:10:36.342056Z",
     "iopub.status.busy": "2024-04-09T09:10:36.341145Z",
     "iopub.status.idle": "2024-04-09T09:10:36.969547Z",
     "shell.execute_reply": "2024-04-09T09:10:36.968395Z"
    },
    "papermill": {
     "duration": 0.644167,
     "end_time": "2024-04-09T09:10:36.971998",
     "exception": false,
     "start_time": "2024-04-09T09:10:36.327831",
     "status": "completed"
    },
    "tags": []
   },
   "outputs": [
    {
     "data": {
      "image/png": "[encoded data removed]",
      "text/plain": [
       "<Figure size 1500x1100 with 2 Axes>"
      ]
     },
     "metadata": {},
     "output_type": "display_data"
    }
   ],
   "source": [
    "#correlation matrix\n",
    "corr_matrix=features.corr()\n",
    "\n",
    "mask = np.zeros_like(corr_matrix)\n",
    "mask[np.triu_indices_from(mask)] = True\n",
    "\n",
    "f,ax=plt.subplots(figsize=(15,11))\n",
    "sns.heatmap(corr_matrix, mask=mask, annot=True)\n",
    "plt.suptitle('Correlation Matrix')\n",
    "plt.show()"
   ]
  },
  {
   "cell_type": "code",
   "execution_count": 16,
   "id": "ef1c997d",
   "metadata": {
    "execution": {
     "iopub.execute_input": "2024-04-09T09:10:36.998680Z",
     "iopub.status.busy": "2024-04-09T09:10:36.997652Z",
     "iopub.status.idle": "2024-04-09T09:10:39.230963Z",
     "shell.execute_reply": "2024-04-09T09:10:39.229936Z"
    },
    "papermill": {
     "duration": 2.250262,
     "end_time": "2024-04-09T09:10:39.234237",
     "exception": false,
     "start_time": "2024-04-09T09:10:36.983975",
     "status": "completed"
    },
    "tags": []
   },
   "outputs": [
    {
     "data": {
      "image/png": "[encoded data removed]",
      "text/plain": [
       "<Figure size 1500x1500 with 9 Axes>"
      ]
     },
     "metadata": {},
     "output_type": "display_data"
    }
   ],
   "source": [
    "# # plot features as histograms\n",
    "features.hist(bins=30, figsize=(15,15))\n",
    "plt.show()"
   ]
  },
  {
   "cell_type": "code",
   "execution_count": 17,
   "id": "50634821",
   "metadata": {
    "execution": {
     "iopub.execute_input": "2024-04-09T09:10:39.264937Z",
     "iopub.status.busy": "2024-04-09T09:10:39.263920Z",
     "iopub.status.idle": "2024-04-09T09:10:39.280554Z",
     "shell.execute_reply": "2024-04-09T09:10:39.279507Z"
    },
    "papermill": {
     "duration": 0.034776,
     "end_time": "2024-04-09T09:10:39.282844",
     "exception": false,
     "start_time": "2024-04-09T09:10:39.248068",
     "status": "completed"
    },
    "tags": []
   },
   "outputs": [
    {
     "data": {
      "text/plain": [
       "Whole weight.1    0.591973\n",
       "Shell weight      0.479092\n",
       "Whole weight.2    0.476733\n",
       "Whole weight      0.429316\n",
       "Height            0.309975\n",
       "Sex              -0.089467\n",
       "Diameter         -0.695236\n",
       "Length           -0.732015\n",
       "dtype: float64"
      ]
     },
     "execution_count": 17,
     "metadata": {},
     "output_type": "execute_result"
    }
   ],
   "source": [
    "# Skew function of Pandas\n",
    "skew = features.skew().sort_values(ascending=False)\n",
    "skew"
   ]
  },
  {
   "cell_type": "code",
   "execution_count": 18,
   "id": "8d24ac01",
   "metadata": {
    "execution": {
     "iopub.execute_input": "2024-04-09T09:10:39.311961Z",
     "iopub.status.busy": "2024-04-09T09:10:39.311075Z",
     "iopub.status.idle": "2024-04-09T09:10:39.319824Z",
     "shell.execute_reply": "2024-04-09T09:10:39.318764Z"
    },
    "papermill": {
     "duration": 0.025648,
     "end_time": "2024-04-09T09:10:39.322138",
     "exception": false,
     "start_time": "2024-04-09T09:10:39.296490",
     "status": "completed"
    },
    "tags": []
   },
   "outputs": [
    {
     "data": {
      "text/plain": [
       "['Length',\n",
       " 'Diameter',\n",
       " 'Height',\n",
       " 'Whole weight',\n",
       " 'Whole weight.1',\n",
       " 'Whole weight.2',\n",
       " 'Shell weight']"
      ]
     },
     "execution_count": 18,
     "metadata": {},
     "output_type": "execute_result"
    }
   ],
   "source": [
    "num_cols = train.select_dtypes(include=float).columns.tolist()\n",
    "num_cols"
   ]
  },
  {
   "cell_type": "code",
   "execution_count": 19,
   "id": "b3bb7a48",
   "metadata": {
    "execution": {
     "iopub.execute_input": "2024-04-09T09:10:39.352951Z",
     "iopub.status.busy": "2024-04-09T09:10:39.351716Z",
     "iopub.status.idle": "2024-04-09T09:10:39.357034Z",
     "shell.execute_reply": "2024-04-09T09:10:39.355916Z"
    },
    "papermill": {
     "duration": 0.023315,
     "end_time": "2024-04-09T09:10:39.359338",
     "exception": false,
     "start_time": "2024-04-09T09:10:39.336023",
     "status": "completed"
    },
    "tags": []
   },
   "outputs": [],
   "source": [
    "# train_bc= train\n",
    "# train_bc[num_cols].shape"
   ]
  },
  {
   "cell_type": "code",
   "execution_count": 20,
   "id": "47ca9b35",
   "metadata": {
    "execution": {
     "iopub.execute_input": "2024-04-09T09:10:39.396174Z",
     "iopub.status.busy": "2024-04-09T09:10:39.395235Z",
     "iopub.status.idle": "2024-04-09T09:10:39.756503Z",
     "shell.execute_reply": "2024-04-09T09:10:39.755415Z"
    },
    "papermill": {
     "duration": 0.382398,
     "end_time": "2024-04-09T09:10:39.759179",
     "exception": false,
     "start_time": "2024-04-09T09:10:39.376781",
     "status": "completed"
    },
    "tags": []
   },
   "outputs": [],
   "source": [
    "#remove skew\n",
    "from sklearn.preprocessing import PowerTransformer\n",
    "train_bc= train\n",
    "bc_transformer = PowerTransformer(method = \"yeo-johnson\", standardize=True)\n",
    "train_bc[num_cols] = pd.DataFrame(bc_transformer.fit_transform(train_bc[num_cols]))\n",
    "\n",
    "test_bc= test\n",
    "test_bc[num_cols] = pd.DataFrame(bc_transformer.transform(test_bc[num_cols]))"
   ]
  },
  {
   "cell_type": "code",
   "execution_count": 21,
   "id": "df4ab0d2",
   "metadata": {
    "execution": {
     "iopub.execute_input": "2024-04-09T09:10:39.787494Z",
     "iopub.status.busy": "2024-04-09T09:10:39.786776Z",
     "iopub.status.idle": "2024-04-09T09:10:39.814551Z",
     "shell.execute_reply": "2024-04-09T09:10:39.813565Z"
    },
    "papermill": {
     "duration": 0.044578,
     "end_time": "2024-04-09T09:10:39.817019",
     "exception": false,
     "start_time": "2024-04-09T09:10:39.772441",
     "status": "completed"
    },
    "tags": []
   },
   "outputs": [],
   "source": [
    "from sklearn.preprocessing import StandardScaler\n",
    "sc= StandardScaler()\n",
    "train_sc= train_bc\n",
    "train_sc[num_cols]= pd.DataFrame(sc.fit_transform(train[num_cols]))\n",
    "train_sc.columns= train.columns\n",
    "\n",
    "test_sc= test_bc\n",
    "test_sc[num_cols]= pd.DataFrame(sc.transform(test[num_cols]))\n",
    "test_sc.columns= test.columns"
   ]
  },
  {
   "cell_type": "code",
   "execution_count": 22,
   "id": "b6aaf4b0",
   "metadata": {
    "execution": {
     "iopub.execute_input": "2024-04-09T09:10:39.845972Z",
     "iopub.status.busy": "2024-04-09T09:10:39.845366Z",
     "iopub.status.idle": "2024-04-09T09:10:42.470278Z",
     "shell.execute_reply": "2024-04-09T09:10:42.469201Z"
    },
    "papermill": {
     "duration": 2.64309,
     "end_time": "2024-04-09T09:10:42.473147",
     "exception": false,
     "start_time": "2024-04-09T09:10:39.830057",
     "status": "completed"
    },
    "tags": []
   },
   "outputs": [
    {
     "data": {
      "image/png": "[encoded data removed]",
      "text/plain": [
       "<Figure size 1500x1500 with 9 Axes>"
      ]
     },
     "metadata": {},
     "output_type": "display_data"
    }
   ],
   "source": [
    "# # plot features as histograms\n",
    "train_bc.hist(bins=30, figsize=(15,15))\n",
    "plt.show()"
   ]
  },
  {
   "cell_type": "code",
   "execution_count": 23,
   "id": "1ec35dd3",
   "metadata": {
    "execution": {
     "iopub.execute_input": "2024-04-09T09:10:42.505747Z",
     "iopub.status.busy": "2024-04-09T09:10:42.505343Z",
     "iopub.status.idle": "2024-04-09T09:11:08.589602Z",
     "shell.execute_reply": "2024-04-09T09:11:08.588594Z"
    },
    "papermill": {
     "duration": 26.103577,
     "end_time": "2024-04-09T09:11:08.592006",
     "exception": false,
     "start_time": "2024-04-09T09:10:42.488429",
     "status": "completed"
    },
    "tags": []
   },
   "outputs": [
    {
     "name": "stderr",
     "output_type": "stream",
     "text": [
      "/opt/conda/lib/python3.10/site-packages/dask/dataframe/_pyarrow_compat.py:23: UserWarning: You are using pyarrow version 11.0.0 which is known to be insecure. See https://www.cve.org/CVERecord?id=CVE-2023-47248 for further details. Please upgrade to pyarrow>=14.0.1 or install pyarrow-hotfix to patch your current version.\n",
      "  warnings.warn(\n"
     ]
    },
    {
     "name": "stdout",
     "output_type": "stream",
     "text": [
      "[LightGBM] [Warning] Found whitespace in feature_names, replace with underlines\n",
      "[LightGBM] [Info] This is the GPU trainer!!\n",
      "[LightGBM] [Info] Total Bins 1332\n",
      "[LightGBM] [Info] Number of data points in the train set: 72492, number of used features: 8\n",
      "[LightGBM] [Info] Using GPU Device: Tesla T4, Vendor: NVIDIA Corporation\n",
      "[LightGBM] [Info] Compiling OpenCL Kernel with 256 bins...\n"
     ]
    },
    {
     "name": "stderr",
     "output_type": "stream",
     "text": [
      "1 warning generated.\n",
      "1 warning generated.\n",
      "1 warning generated.\n",
      "1 warning generated.\n",
      "1 warning generated.\n",
      "1 warning generated.\n",
      "1 warning generated.\n",
      "1 warning generated.\n",
      "1 warning generated.\n",
      "1 warning generated.\n",
      "1 warning generated.\n",
      "1 warning generated.\n",
      "1 warning generated.\n",
      "1 warning generated.\n",
      "1 warning generated.\n",
      "1 warning generated.\n",
      "1 warning generated.\n",
      "1 warning generated.\n",
      "1 warning generated.\n",
      "1 warning generated.\n",
      "1 warning generated.\n",
      "1 warning generated.\n",
      "1 warning generated.\n",
      "1 warning generated.\n",
      "1 warning generated.\n",
      "1 warning generated.\n",
      "1 warning generated.\n",
      "1 warning generated.\n",
      "1 warning generated.\n",
      "1 warning generated.\n",
      "1 warning generated.\n",
      "1 warning generated.\n",
      "1 warning generated.\n"
     ]
    },
    {
     "name": "stdout",
     "output_type": "stream",
     "text": [
      "[LightGBM] [Info] GPU programs have been built\n",
      "[LightGBM] [Info] Size of histogram bin entry: 8\n",
      "[LightGBM] [Info] 8 dense feature groups (0.55 MB) transferred to GPU in 0.001296 secs. 0 sparse feature groups\n",
      "[LightGBM] [Info] Start training from score 9.696642\n",
      "[LightGBM] [Warning] No further splits with positive gain, best gain: -inf\n",
      "[LightGBM] [Warning] No further splits with positive gain, best gain: -inf\n",
      "[LightGBM] [Warning] No further splits with positive gain, best gain: -inf\n",
      "[LightGBM] [Warning] No further splits with positive gain, best gain: -inf\n",
      "[LightGBM] [Warning] No further splits with positive gain, best gain: -inf\n",
      "[LightGBM] [Warning] No further splits with positive gain, best gain: -inf\n",
      "[LightGBM] [Warning] No further splits with positive gain, best gain: -inf\n",
      "[LightGBM] [Warning] No further splits with positive gain, best gain: -inf\n",
      "[LightGBM] [Warning] No further splits with positive gain, best gain: -inf\n",
      "[LightGBM] [Warning] No further splits with positive gain, best gain: -inf\n",
      "[LightGBM] [Warning] No further splits with positive gain, best gain: -inf\n",
      "[LightGBM] [Warning] No further splits with positive gain, best gain: -inf\n",
      "[LightGBM] [Warning] No further splits with positive gain, best gain: -inf\n",
      "[LightGBM] [Warning] No further splits with positive gain, best gain: -inf\n",
      "[LightGBM] [Warning] No further splits with positive gain, best gain: -inf\n",
      "[LightGBM] [Warning] No further splits with positive gain, best gain: -inf\n",
      "LightGBM of RMSE is ==> 1.8334849801965953\n"
     ]
    }
   ],
   "source": [
    "\n",
    "from sklearn.ensemble import GradientBoostingRegressor, HistGradientBoostingRegressor\n",
    "from sklearn.metrics import mean_squared_error\n",
    "from lightgbm import LGBMRegressor\n",
    "from xgboost import XGBRegressor\n",
    "\n",
    "from sklearn.model_selection import train_test_split\n",
    "from sklearn.metrics import mean_absolute_error\n",
    "\n",
    "#baseline model\n",
    "X = train_bc.drop(columns = ['Rings'], axis = 1)\n",
    "y = train_bc['Rings']\n",
    "\n",
    "X_train, X_test, y_train, y_test = train_test_split(X, y,test_size=0.2,random_state=0, stratify=y)\n",
    "\n",
    "# #GradientBoosting         \n",
    "# gb_md = GradientBoostingRegressor(loss = 'squared_error',\n",
    "#                                     n_estimators = 1000, \n",
    "#                                     max_depth = 8, \n",
    "#                                     learning_rate = 0.01,\n",
    "#                                     min_samples_split = 10, \n",
    "#                                     min_samples_leaf = 20).fit(X_train, y_train) \n",
    "    \n",
    "# gb_pred = gb_md.predict(X_test)\n",
    "# gb_mse = mean_squared_error(y_test, gb_pred)\n",
    "# gb_score = np.sqrt(gb_mse)\n",
    "# print('GradientBoositng of RMSE is ==>', gb_score)\n",
    "    \n",
    "    \n",
    "\n",
    "# #HistGradientBoosting   \n",
    "# hist_md = HistGradientBoostingRegressor(loss = 'squared_error',\n",
    "#                                         l2_regularization = 0.01,\n",
    "#                                         early_stopping = False,\n",
    "#                                         learning_rate = 0.01,\n",
    "#                                         max_iter = 1000,\n",
    "#                                         max_depth = 15,\n",
    "#                                         max_bins = 255,\n",
    "#                                         min_samples_leaf = 70,\n",
    "#                                         max_leaf_nodes = 115).fit(X_train, y_train)\n",
    "    \n",
    "# hist_pred = hist_md.predict(X_test)\n",
    "# hist_mse = mean_squared_error(y_test, hist_pred)\n",
    "# hist_score = np.sqrt(hist_mse)\n",
    "# print('HistGradient of RMSE is ==>', hist_score)\n",
    "        \n",
    "\n",
    "#LightGBM \n",
    "lgb_md = LGBMRegressor(objective = 'rmse', \n",
    "                        n_estimators = 1000,\n",
    "                        max_depth = 15,\n",
    "                        learning_rate = 0.01,\n",
    "                        num_leaves = 105,\n",
    "                        reg_alpha = 8,\n",
    "                        reg_lambda = 3,\n",
    "                        subsample = 0.6,\n",
    "                        colsample_bytree = 0.8,\n",
    "                        device = 'gpu').fit(X_train, y_train)\n",
    "    \n",
    "lgb_pred = lgb_md.predict(X_test)\n",
    "lgm_mse = mean_squared_error(y_test, lgb_pred)\n",
    "lgb_score = np.sqrt(lgm_mse)\n",
    "print('LightGBM of RMSE is ==>', lgb_score)\n",
    "        \n",
    "\n",
    "# #XGBoost         \n",
    "# xgb_md = XGBRegressor(objective = 'reg:absoluteerror',\n",
    "#                         tree_method = 'gpu_hist',\n",
    "#                         eval_metric= 'rmse',\n",
    "#                         colsample_bytree = 0.9, \n",
    "#                         gamma = 0.65, \n",
    "#                         learning_rate = 0.01, \n",
    "#                         max_depth = 7, \n",
    "#                         min_child_weight = 20, \n",
    "#                         n_estimators = 1000, \n",
    "#                         subsample = 0.7).fit(X_train, y_train)\n",
    "# xgb_pred = xgb_md.predict(X_test)\n",
    "# xgb_mse = mean_squared_error(y_test, xgb_pred)\n",
    "# xgb_score = np.sqrt(xgb_mse)\n",
    "# print( 'XGBoost of RMSE is ==>', xgb_score)\n",
    "    "
   ]
  },
  {
   "cell_type": "code",
   "execution_count": 24,
   "id": "0577721c",
   "metadata": {
    "execution": {
     "iopub.execute_input": "2024-04-09T09:11:08.632242Z",
     "iopub.status.busy": "2024-04-09T09:11:08.631095Z",
     "iopub.status.idle": "2024-04-09T09:11:14.050257Z",
     "shell.execute_reply": "2024-04-09T09:11:14.049102Z"
    },
    "papermill": {
     "duration": 5.44123,
     "end_time": "2024-04-09T09:11:14.052621",
     "exception": false,
     "start_time": "2024-04-09T09:11:08.611391",
     "status": "completed"
    },
    "tags": []
   },
   "outputs": [
    {
     "data": {
      "text/plain": [
       "array([10.02975625,  9.80585139,  9.93914114, ..., 12.49296715,\n",
       "       13.69042909,  8.67326919])"
      ]
     },
     "execution_count": 24,
     "metadata": {},
     "output_type": "execute_result"
    }
   ],
   "source": [
    "predictions= lgb_md.predict(test_sc)\n",
    "predictions"
   ]
  },
  {
   "cell_type": "code",
   "execution_count": 25,
   "id": "445bc93b",
   "metadata": {
    "execution": {
     "iopub.execute_input": "2024-04-09T09:11:14.092485Z",
     "iopub.status.busy": "2024-04-09T09:11:14.092099Z",
     "iopub.status.idle": "2024-04-09T09:11:14.135589Z",
     "shell.execute_reply": "2024-04-09T09:11:14.134544Z"
    },
    "papermill": {
     "duration": 0.065258,
     "end_time": "2024-04-09T09:11:14.137843",
     "exception": false,
     "start_time": "2024-04-09T09:11:14.072585",
     "status": "completed"
    },
    "tags": []
   },
   "outputs": [
    {
     "data": {
      "text/html": [
       "<div>\n",
       "<style scoped>\n",
       "    .dataframe tbody tr th:only-of-type {\n",
       "        vertical-align: middle;\n",
       "    }\n",
       "\n",
       "    .dataframe tbody tr th {\n",
       "        vertical-align: top;\n",
       "    }\n",
       "\n",
       "    .dataframe thead th {\n",
       "        text-align: right;\n",
       "    }\n",
       "</style>\n",
       "<table border=\"1\" class=\"dataframe\">\n",
       "  <thead>\n",
       "    <tr style=\"text-align: right;\">\n",
       "      <th></th>\n",
       "      <th>id</th>\n",
       "      <th>Rings</th>\n",
       "    </tr>\n",
       "  </thead>\n",
       "  <tbody>\n",
       "    <tr>\n",
       "      <th>0</th>\n",
       "      <td>90615</td>\n",
       "      <td>10</td>\n",
       "    </tr>\n",
       "    <tr>\n",
       "      <th>1</th>\n",
       "      <td>90616</td>\n",
       "      <td>10</td>\n",
       "    </tr>\n",
       "    <tr>\n",
       "      <th>2</th>\n",
       "      <td>90617</td>\n",
       "      <td>10</td>\n",
       "    </tr>\n",
       "    <tr>\n",
       "      <th>3</th>\n",
       "      <td>90618</td>\n",
       "      <td>10</td>\n",
       "    </tr>\n",
       "    <tr>\n",
       "      <th>4</th>\n",
       "      <td>90619</td>\n",
       "      <td>10</td>\n",
       "    </tr>\n",
       "    <tr>\n",
       "      <th>...</th>\n",
       "      <td>...</td>\n",
       "      <td>...</td>\n",
       "    </tr>\n",
       "    <tr>\n",
       "      <th>60406</th>\n",
       "      <td>151021</td>\n",
       "      <td>10</td>\n",
       "    </tr>\n",
       "    <tr>\n",
       "      <th>60407</th>\n",
       "      <td>151022</td>\n",
       "      <td>10</td>\n",
       "    </tr>\n",
       "    <tr>\n",
       "      <th>60408</th>\n",
       "      <td>151023</td>\n",
       "      <td>10</td>\n",
       "    </tr>\n",
       "    <tr>\n",
       "      <th>60409</th>\n",
       "      <td>151024</td>\n",
       "      <td>10</td>\n",
       "    </tr>\n",
       "    <tr>\n",
       "      <th>60410</th>\n",
       "      <td>151025</td>\n",
       "      <td>10</td>\n",
       "    </tr>\n",
       "  </tbody>\n",
       "</table>\n",
       "<p>60411 rows × 2 columns</p>\n",
       "</div>"
      ],
      "text/plain": [
       "           id  Rings\n",
       "0       90615     10\n",
       "1       90616     10\n",
       "2       90617     10\n",
       "3       90618     10\n",
       "4       90619     10\n",
       "...       ...    ...\n",
       "60406  151021     10\n",
       "60407  151022     10\n",
       "60408  151023     10\n",
       "60409  151024     10\n",
       "60410  151025     10\n",
       "\n",
       "[60411 rows x 2 columns]"
      ]
     },
     "execution_count": 25,
     "metadata": {},
     "output_type": "execute_result"
    }
   ],
   "source": [
    "submission = pd.read_csv('/kaggle/input/playground-series-s4e4/sample_submission.csv')\n",
    "submission"
   ]
  },
  {
   "cell_type": "code",
   "execution_count": 26,
   "id": "1e54c67b",
   "metadata": {
    "execution": {
     "iopub.execute_input": "2024-04-09T09:11:14.176626Z",
     "iopub.status.busy": "2024-04-09T09:11:14.175702Z",
     "iopub.status.idle": "2024-04-09T09:11:14.376526Z",
     "shell.execute_reply": "2024-04-09T09:11:14.375422Z"
    },
    "papermill": {
     "duration": 0.222923,
     "end_time": "2024-04-09T09:11:14.379129",
     "exception": false,
     "start_time": "2024-04-09T09:11:14.156206",
     "status": "completed"
    },
    "tags": []
   },
   "outputs": [
    {
     "data": {
      "text/html": [
       "<div>\n",
       "<style scoped>\n",
       "    .dataframe tbody tr th:only-of-type {\n",
       "        vertical-align: middle;\n",
       "    }\n",
       "\n",
       "    .dataframe tbody tr th {\n",
       "        vertical-align: top;\n",
       "    }\n",
       "\n",
       "    .dataframe thead th {\n",
       "        text-align: right;\n",
       "    }\n",
       "</style>\n",
       "<table border=\"1\" class=\"dataframe\">\n",
       "  <thead>\n",
       "    <tr style=\"text-align: right;\">\n",
       "      <th></th>\n",
       "      <th>id</th>\n",
       "      <th>Rings</th>\n",
       "    </tr>\n",
       "  </thead>\n",
       "  <tbody>\n",
       "    <tr>\n",
       "      <th>0</th>\n",
       "      <td>90615</td>\n",
       "      <td>10.029756</td>\n",
       "    </tr>\n",
       "    <tr>\n",
       "      <th>1</th>\n",
       "      <td>90616</td>\n",
       "      <td>9.805851</td>\n",
       "    </tr>\n",
       "    <tr>\n",
       "      <th>2</th>\n",
       "      <td>90617</td>\n",
       "      <td>9.939141</td>\n",
       "    </tr>\n",
       "    <tr>\n",
       "      <th>3</th>\n",
       "      <td>90618</td>\n",
       "      <td>10.590287</td>\n",
       "    </tr>\n",
       "    <tr>\n",
       "      <th>4</th>\n",
       "      <td>90619</td>\n",
       "      <td>7.554881</td>\n",
       "    </tr>\n",
       "  </tbody>\n",
       "</table>\n",
       "</div>"
      ],
      "text/plain": [
       "      id      Rings\n",
       "0  90615  10.029756\n",
       "1  90616   9.805851\n",
       "2  90617   9.939141\n",
       "3  90618  10.590287\n",
       "4  90619   7.554881"
      ]
     },
     "execution_count": 26,
     "metadata": {},
     "output_type": "execute_result"
    }
   ],
   "source": [
    "submission['Rings']= predictions\n",
    "submission.to_csv('submission.csv', index=False)\n",
    "submission.head()"
   ]
  }
 ],
 "metadata": {
  "kaggle": {
   "accelerator": "nvidiaTeslaT4",
   "dataSources": [
    {
     "databundleVersionId": 8096274,
     "sourceId": 72489,
     "sourceType": "competition"
    }
   ],
   "dockerImageVersionId": 30674,
   "isGpuEnabled": true,
   "isInternetEnabled": true,
   "language": "python",
   "sourceType": "notebook"
  },
  "kernelspec": {
   "display_name": "Python 3",
   "language": "python",
   "name": "python3"
  },
  "language_info": {
   "codemirror_mode": {
    "name": "ipython",
    "version": 3
   },
   "file_extension": ".py",
   "mimetype": "text/x-python",
   "name": "python",
   "nbconvert_exporter": "python",
   "pygments_lexer": "ipython3",
   "version": "3.10.13"
  },
  "papermill": {
   "default_parameters": {},
   "duration": 48.593084,
   "end_time": "2024-04-09T09:11:15.421423",
   "environment_variables": {},
   "exception": null,
   "input_path": "__notebook__.ipynb",
   "output_path": "__notebook__.ipynb",
   "parameters": {},
   "start_time": "2024-04-09T09:10:26.828339",
   "version": "2.5.0"
  }
 },
 "nbformat": 4,
 "nbformat_minor": 5
}
