{
 "cells": [
  {
   "cell_type": "code",
   "execution_count": 1,
   "id": "e1e088e2",
   "metadata": {
    "_cell_guid": "b1076dfc-b9ad-4769-8c92-a6c4dae69d19",
    "_uuid": "8f2839f25d086af736a60e9eeb907d3b93b6e0e5",
    "execution": {
     "iopub.execute_input": "2024-04-15T11:41:40.626184Z",
     "iopub.status.busy": "2024-04-15T11:41:40.625841Z",
     "iopub.status.idle": "2024-04-15T11:41:41.916854Z",
     "shell.execute_reply": "2024-04-15T11:41:41.915661Z"
    },
    "papermill": {
     "duration": 1.304864,
     "end_time": "2024-04-15T11:41:41.919014",
     "exception": false,
     "start_time": "2024-04-15T11:41:40.614150",
     "status": "completed"
    },
    "tags": []
   },
   "outputs": [
    {
     "name": "stdout",
     "output_type": "stream",
     "text": [
      "/kaggle/input/abalone-uci/abalone_original.csv\n",
      "/kaggle/input/playground-series-s4e4/sample_submission.csv\n",
      "/kaggle/input/playground-series-s4e4/train.csv\n",
      "/kaggle/input/playground-series-s4e4/test.csv\n",
      "/kaggle/input/abalone-dataset/abalone.csv\n"
     ]
    }
   ],
   "source": [
    "# This Python 3 environment comes with many helpful analytics libraries installed\n",
    "# It is defined by the kaggle/python Docker image: https://github.com/kaggle/docker-python\n",
    "# For example, here's several helpful packages to load\n",
    "\n",
    "import numpy as np # linear algebra\n",
    "import pandas as pd # data processing, CSV file I/O (e.g. pd.read_csv)\n",
    "\n",
    "# Input data files are available in the read-only \"../input/\" directory\n",
    "# For example, running this (by clicking run or pressing Shift+Enter) will list all files under the input directory\n",
    "\n",
    "import os\n",
    "for dirname, _, filenames in os.walk('/kaggle/input'):\n",
    "    for filename in filenames:\n",
    "        print(os.path.join(dirname, filename))\n",
    "\n",
    "# You can write up to 20GB to the current directory (/kaggle/working/) that gets preserved as output when you create a version using \"Save & Run All\" \n",
    "# You can also write temporary files to /kaggle/temp/, but they won't be saved outside of the current session"
   ]
  },
  {
   "cell_type": "code",
   "execution_count": 2,
   "id": "9e233ade",
   "metadata": {
    "execution": {
     "iopub.execute_input": "2024-04-15T11:41:41.940549Z",
     "iopub.status.busy": "2024-04-15T11:41:41.940189Z",
     "iopub.status.idle": "2024-04-15T11:41:44.317962Z",
     "shell.execute_reply": "2024-04-15T11:41:44.317199Z"
    },
    "papermill": {
     "duration": 2.391107,
     "end_time": "2024-04-15T11:41:44.320232",
     "exception": false,
     "start_time": "2024-04-15T11:41:41.929125",
     "status": "completed"
    },
    "tags": []
   },
   "outputs": [],
   "source": [
    "from sklearn.preprocessing import LabelEncoder\n",
    "\n",
    "import matplotlib.pyplot as plt\n",
    "import seaborn as sns"
   ]
  },
  {
   "cell_type": "code",
   "execution_count": 3,
   "id": "dbf0662c",
   "metadata": {
    "execution": {
     "iopub.execute_input": "2024-04-15T11:41:44.340935Z",
     "iopub.status.busy": "2024-04-15T11:41:44.340585Z",
     "iopub.status.idle": "2024-04-15T11:41:44.678354Z",
     "shell.execute_reply": "2024-04-15T11:41:44.677467Z"
    },
    "papermill": {
     "duration": 0.350375,
     "end_time": "2024-04-15T11:41:44.680585",
     "exception": false,
     "start_time": "2024-04-15T11:41:44.330210",
     "status": "completed"
    },
    "tags": []
   },
   "outputs": [],
   "source": [
    "train= pd.read_csv('/kaggle/input/playground-series-s4e4/train.csv')\n",
    "test = pd.read_csv('/kaggle/input/playground-series-s4e4/test.csv')\n",
    "original = pd.read_csv('/kaggle/input/abalone-dataset/abalone.csv')"
   ]
  },
  {
   "cell_type": "code",
   "execution_count": 4,
   "id": "0af691f5",
   "metadata": {
    "execution": {
     "iopub.execute_input": "2024-04-15T11:41:44.701930Z",
     "iopub.status.busy": "2024-04-15T11:41:44.701669Z",
     "iopub.status.idle": "2024-04-15T11:41:44.733390Z",
     "shell.execute_reply": "2024-04-15T11:41:44.732530Z"
    },
    "papermill": {
     "duration": 0.044294,
     "end_time": "2024-04-15T11:41:44.735254",
     "exception": false,
     "start_time": "2024-04-15T11:41:44.690960",
     "status": "completed"
    },
    "tags": []
   },
   "outputs": [
    {
     "data": {
      "text/html": [
       "<div>\n",
       "<style scoped>\n",
       "    .dataframe tbody tr th:only-of-type {\n",
       "        vertical-align: middle;\n",
       "    }\n",
       "\n",
       "    .dataframe tbody tr th {\n",
       "        vertical-align: top;\n",
       "    }\n",
       "\n",
       "    .dataframe thead th {\n",
       "        text-align: right;\n",
       "    }\n",
       "</style>\n",
       "<table border=\"1\" class=\"dataframe\">\n",
       "  <thead>\n",
       "    <tr style=\"text-align: right;\">\n",
       "      <th></th>\n",
       "      <th>id</th>\n",
       "      <th>Sex</th>\n",
       "      <th>Length</th>\n",
       "      <th>Diameter</th>\n",
       "      <th>Height</th>\n",
       "      <th>Whole weight</th>\n",
       "      <th>Whole weight.1</th>\n",
       "      <th>Whole weight.2</th>\n",
       "      <th>Shell weight</th>\n",
       "      <th>Rings</th>\n",
       "    </tr>\n",
       "  </thead>\n",
       "  <tbody>\n",
       "    <tr>\n",
       "      <th>0</th>\n",
       "      <td>0</td>\n",
       "      <td>F</td>\n",
       "      <td>0.550</td>\n",
       "      <td>0.430</td>\n",
       "      <td>0.150</td>\n",
       "      <td>0.7715</td>\n",
       "      <td>0.3285</td>\n",
       "      <td>0.1465</td>\n",
       "      <td>0.2400</td>\n",
       "      <td>11</td>\n",
       "    </tr>\n",
       "    <tr>\n",
       "      <th>1</th>\n",
       "      <td>1</td>\n",
       "      <td>F</td>\n",
       "      <td>0.630</td>\n",
       "      <td>0.490</td>\n",
       "      <td>0.145</td>\n",
       "      <td>1.1300</td>\n",
       "      <td>0.4580</td>\n",
       "      <td>0.2765</td>\n",
       "      <td>0.3200</td>\n",
       "      <td>11</td>\n",
       "    </tr>\n",
       "    <tr>\n",
       "      <th>2</th>\n",
       "      <td>2</td>\n",
       "      <td>I</td>\n",
       "      <td>0.160</td>\n",
       "      <td>0.110</td>\n",
       "      <td>0.025</td>\n",
       "      <td>0.0210</td>\n",
       "      <td>0.0055</td>\n",
       "      <td>0.0030</td>\n",
       "      <td>0.0050</td>\n",
       "      <td>6</td>\n",
       "    </tr>\n",
       "    <tr>\n",
       "      <th>3</th>\n",
       "      <td>3</td>\n",
       "      <td>M</td>\n",
       "      <td>0.595</td>\n",
       "      <td>0.475</td>\n",
       "      <td>0.150</td>\n",
       "      <td>0.9145</td>\n",
       "      <td>0.3755</td>\n",
       "      <td>0.2055</td>\n",
       "      <td>0.2500</td>\n",
       "      <td>10</td>\n",
       "    </tr>\n",
       "    <tr>\n",
       "      <th>4</th>\n",
       "      <td>4</td>\n",
       "      <td>I</td>\n",
       "      <td>0.555</td>\n",
       "      <td>0.425</td>\n",
       "      <td>0.130</td>\n",
       "      <td>0.7820</td>\n",
       "      <td>0.3695</td>\n",
       "      <td>0.1600</td>\n",
       "      <td>0.1975</td>\n",
       "      <td>9</td>\n",
       "    </tr>\n",
       "    <tr>\n",
       "      <th>...</th>\n",
       "      <td>...</td>\n",
       "      <td>...</td>\n",
       "      <td>...</td>\n",
       "      <td>...</td>\n",
       "      <td>...</td>\n",
       "      <td>...</td>\n",
       "      <td>...</td>\n",
       "      <td>...</td>\n",
       "      <td>...</td>\n",
       "      <td>...</td>\n",
       "    </tr>\n",
       "    <tr>\n",
       "      <th>90610</th>\n",
       "      <td>90610</td>\n",
       "      <td>M</td>\n",
       "      <td>0.335</td>\n",
       "      <td>0.235</td>\n",
       "      <td>0.075</td>\n",
       "      <td>0.1585</td>\n",
       "      <td>0.0685</td>\n",
       "      <td>0.0370</td>\n",
       "      <td>0.0450</td>\n",
       "      <td>6</td>\n",
       "    </tr>\n",
       "    <tr>\n",
       "      <th>90611</th>\n",
       "      <td>90611</td>\n",
       "      <td>M</td>\n",
       "      <td>0.555</td>\n",
       "      <td>0.425</td>\n",
       "      <td>0.150</td>\n",
       "      <td>0.8790</td>\n",
       "      <td>0.3865</td>\n",
       "      <td>0.1815</td>\n",
       "      <td>0.2400</td>\n",
       "      <td>9</td>\n",
       "    </tr>\n",
       "    <tr>\n",
       "      <th>90612</th>\n",
       "      <td>90612</td>\n",
       "      <td>I</td>\n",
       "      <td>0.435</td>\n",
       "      <td>0.330</td>\n",
       "      <td>0.095</td>\n",
       "      <td>0.3215</td>\n",
       "      <td>0.1510</td>\n",
       "      <td>0.0785</td>\n",
       "      <td>0.0815</td>\n",
       "      <td>6</td>\n",
       "    </tr>\n",
       "    <tr>\n",
       "      <th>90613</th>\n",
       "      <td>90613</td>\n",
       "      <td>I</td>\n",
       "      <td>0.345</td>\n",
       "      <td>0.270</td>\n",
       "      <td>0.075</td>\n",
       "      <td>0.2000</td>\n",
       "      <td>0.0980</td>\n",
       "      <td>0.0490</td>\n",
       "      <td>0.0700</td>\n",
       "      <td>6</td>\n",
       "    </tr>\n",
       "    <tr>\n",
       "      <th>90614</th>\n",
       "      <td>90614</td>\n",
       "      <td>I</td>\n",
       "      <td>0.425</td>\n",
       "      <td>0.325</td>\n",
       "      <td>0.100</td>\n",
       "      <td>0.3455</td>\n",
       "      <td>0.1525</td>\n",
       "      <td>0.0785</td>\n",
       "      <td>0.1050</td>\n",
       "      <td>8</td>\n",
       "    </tr>\n",
       "  </tbody>\n",
       "</table>\n",
       "<p>90615 rows × 10 columns</p>\n",
       "</div>"
      ],
      "text/plain": [
       "          id Sex  Length  Diameter  Height  Whole weight  Whole weight.1  \\\n",
       "0          0   F   0.550     0.430   0.150        0.7715          0.3285   \n",
       "1          1   F   0.630     0.490   0.145        1.1300          0.4580   \n",
       "2          2   I   0.160     0.110   0.025        0.0210          0.0055   \n",
       "3          3   M   0.595     0.475   0.150        0.9145          0.3755   \n",
       "4          4   I   0.555     0.425   0.130        0.7820          0.3695   \n",
       "...      ...  ..     ...       ...     ...           ...             ...   \n",
       "90610  90610   M   0.335     0.235   0.075        0.1585          0.0685   \n",
       "90611  90611   M   0.555     0.425   0.150        0.8790          0.3865   \n",
       "90612  90612   I   0.435     0.330   0.095        0.3215          0.1510   \n",
       "90613  90613   I   0.345     0.270   0.075        0.2000          0.0980   \n",
       "90614  90614   I   0.425     0.325   0.100        0.3455          0.1525   \n",
       "\n",
       "       Whole weight.2  Shell weight  Rings  \n",
       "0              0.1465        0.2400     11  \n",
       "1              0.2765        0.3200     11  \n",
       "2              0.0030        0.0050      6  \n",
       "3              0.2055        0.2500     10  \n",
       "4              0.1600        0.1975      9  \n",
       "...               ...           ...    ...  \n",
       "90610          0.0370        0.0450      6  \n",
       "90611          0.1815        0.2400      9  \n",
       "90612          0.0785        0.0815      6  \n",
       "90613          0.0490        0.0700      6  \n",
       "90614          0.0785        0.1050      8  \n",
       "\n",
       "[90615 rows x 10 columns]"
      ]
     },
     "execution_count": 4,
     "metadata": {},
     "output_type": "execute_result"
    }
   ],
   "source": [
    "train"
   ]
  },
  {
   "cell_type": "code",
   "execution_count": 5,
   "id": "0085d12d",
   "metadata": {
    "execution": {
     "iopub.execute_input": "2024-04-15T11:41:44.756500Z",
     "iopub.status.busy": "2024-04-15T11:41:44.756238Z",
     "iopub.status.idle": "2024-04-15T11:41:44.774784Z",
     "shell.execute_reply": "2024-04-15T11:41:44.773955Z"
    },
    "papermill": {
     "duration": 0.031248,
     "end_time": "2024-04-15T11:41:44.776660",
     "exception": false,
     "start_time": "2024-04-15T11:41:44.745412",
     "status": "completed"
    },
    "tags": []
   },
   "outputs": [
    {
     "data": {
      "text/html": [
       "<div>\n",
       "<style scoped>\n",
       "    .dataframe tbody tr th:only-of-type {\n",
       "        vertical-align: middle;\n",
       "    }\n",
       "\n",
       "    .dataframe tbody tr th {\n",
       "        vertical-align: top;\n",
       "    }\n",
       "\n",
       "    .dataframe thead th {\n",
       "        text-align: right;\n",
       "    }\n",
       "</style>\n",
       "<table border=\"1\" class=\"dataframe\">\n",
       "  <thead>\n",
       "    <tr style=\"text-align: right;\">\n",
       "      <th></th>\n",
       "      <th>id</th>\n",
       "      <th>Sex</th>\n",
       "      <th>Length</th>\n",
       "      <th>Diameter</th>\n",
       "      <th>Height</th>\n",
       "      <th>Whole weight</th>\n",
       "      <th>Whole weight.1</th>\n",
       "      <th>Whole weight.2</th>\n",
       "      <th>Shell weight</th>\n",
       "    </tr>\n",
       "  </thead>\n",
       "  <tbody>\n",
       "    <tr>\n",
       "      <th>0</th>\n",
       "      <td>90615</td>\n",
       "      <td>M</td>\n",
       "      <td>0.645</td>\n",
       "      <td>0.475</td>\n",
       "      <td>0.155</td>\n",
       "      <td>1.2380</td>\n",
       "      <td>0.6185</td>\n",
       "      <td>0.3125</td>\n",
       "      <td>0.3005</td>\n",
       "    </tr>\n",
       "    <tr>\n",
       "      <th>1</th>\n",
       "      <td>90616</td>\n",
       "      <td>M</td>\n",
       "      <td>0.580</td>\n",
       "      <td>0.460</td>\n",
       "      <td>0.160</td>\n",
       "      <td>0.9830</td>\n",
       "      <td>0.4785</td>\n",
       "      <td>0.2195</td>\n",
       "      <td>0.2750</td>\n",
       "    </tr>\n",
       "    <tr>\n",
       "      <th>2</th>\n",
       "      <td>90617</td>\n",
       "      <td>M</td>\n",
       "      <td>0.560</td>\n",
       "      <td>0.420</td>\n",
       "      <td>0.140</td>\n",
       "      <td>0.8395</td>\n",
       "      <td>0.3525</td>\n",
       "      <td>0.1845</td>\n",
       "      <td>0.2405</td>\n",
       "    </tr>\n",
       "    <tr>\n",
       "      <th>3</th>\n",
       "      <td>90618</td>\n",
       "      <td>M</td>\n",
       "      <td>0.570</td>\n",
       "      <td>0.490</td>\n",
       "      <td>0.145</td>\n",
       "      <td>0.8740</td>\n",
       "      <td>0.3525</td>\n",
       "      <td>0.1865</td>\n",
       "      <td>0.2350</td>\n",
       "    </tr>\n",
       "    <tr>\n",
       "      <th>4</th>\n",
       "      <td>90619</td>\n",
       "      <td>I</td>\n",
       "      <td>0.415</td>\n",
       "      <td>0.325</td>\n",
       "      <td>0.110</td>\n",
       "      <td>0.3580</td>\n",
       "      <td>0.1575</td>\n",
       "      <td>0.0670</td>\n",
       "      <td>0.1050</td>\n",
       "    </tr>\n",
       "    <tr>\n",
       "      <th>...</th>\n",
       "      <td>...</td>\n",
       "      <td>...</td>\n",
       "      <td>...</td>\n",
       "      <td>...</td>\n",
       "      <td>...</td>\n",
       "      <td>...</td>\n",
       "      <td>...</td>\n",
       "      <td>...</td>\n",
       "      <td>...</td>\n",
       "    </tr>\n",
       "    <tr>\n",
       "      <th>60406</th>\n",
       "      <td>151021</td>\n",
       "      <td>I</td>\n",
       "      <td>0.345</td>\n",
       "      <td>0.260</td>\n",
       "      <td>0.085</td>\n",
       "      <td>0.1775</td>\n",
       "      <td>0.0735</td>\n",
       "      <td>0.0265</td>\n",
       "      <td>0.0500</td>\n",
       "    </tr>\n",
       "    <tr>\n",
       "      <th>60407</th>\n",
       "      <td>151022</td>\n",
       "      <td>F</td>\n",
       "      <td>0.525</td>\n",
       "      <td>0.410</td>\n",
       "      <td>0.145</td>\n",
       "      <td>0.8445</td>\n",
       "      <td>0.3885</td>\n",
       "      <td>0.1670</td>\n",
       "      <td>0.2050</td>\n",
       "    </tr>\n",
       "    <tr>\n",
       "      <th>60408</th>\n",
       "      <td>151023</td>\n",
       "      <td>I</td>\n",
       "      <td>0.590</td>\n",
       "      <td>0.440</td>\n",
       "      <td>0.155</td>\n",
       "      <td>1.1220</td>\n",
       "      <td>0.3930</td>\n",
       "      <td>0.2000</td>\n",
       "      <td>0.2650</td>\n",
       "    </tr>\n",
       "    <tr>\n",
       "      <th>60409</th>\n",
       "      <td>151024</td>\n",
       "      <td>F</td>\n",
       "      <td>0.660</td>\n",
       "      <td>0.525</td>\n",
       "      <td>0.190</td>\n",
       "      <td>1.4935</td>\n",
       "      <td>0.5885</td>\n",
       "      <td>0.3575</td>\n",
       "      <td>0.4350</td>\n",
       "    </tr>\n",
       "    <tr>\n",
       "      <th>60410</th>\n",
       "      <td>151025</td>\n",
       "      <td>F</td>\n",
       "      <td>0.430</td>\n",
       "      <td>0.340</td>\n",
       "      <td>0.120</td>\n",
       "      <td>0.4150</td>\n",
       "      <td>0.1525</td>\n",
       "      <td>0.0910</td>\n",
       "      <td>0.0905</td>\n",
       "    </tr>\n",
       "  </tbody>\n",
       "</table>\n",
       "<p>60411 rows × 9 columns</p>\n",
       "</div>"
      ],
      "text/plain": [
       "           id Sex  Length  Diameter  Height  Whole weight  Whole weight.1  \\\n",
       "0       90615   M   0.645     0.475   0.155        1.2380          0.6185   \n",
       "1       90616   M   0.580     0.460   0.160        0.9830          0.4785   \n",
       "2       90617   M   0.560     0.420   0.140        0.8395          0.3525   \n",
       "3       90618   M   0.570     0.490   0.145        0.8740          0.3525   \n",
       "4       90619   I   0.415     0.325   0.110        0.3580          0.1575   \n",
       "...       ...  ..     ...       ...     ...           ...             ...   \n",
       "60406  151021   I   0.345     0.260   0.085        0.1775          0.0735   \n",
       "60407  151022   F   0.525     0.410   0.145        0.8445          0.3885   \n",
       "60408  151023   I   0.590     0.440   0.155        1.1220          0.3930   \n",
       "60409  151024   F   0.660     0.525   0.190        1.4935          0.5885   \n",
       "60410  151025   F   0.430     0.340   0.120        0.4150          0.1525   \n",
       "\n",
       "       Whole weight.2  Shell weight  \n",
       "0              0.3125        0.3005  \n",
       "1              0.2195        0.2750  \n",
       "2              0.1845        0.2405  \n",
       "3              0.1865        0.2350  \n",
       "4              0.0670        0.1050  \n",
       "...               ...           ...  \n",
       "60406          0.0265        0.0500  \n",
       "60407          0.1670        0.2050  \n",
       "60408          0.2000        0.2650  \n",
       "60409          0.3575        0.4350  \n",
       "60410          0.0910        0.0905  \n",
       "\n",
       "[60411 rows x 9 columns]"
      ]
     },
     "execution_count": 5,
     "metadata": {},
     "output_type": "execute_result"
    }
   ],
   "source": [
    "test"
   ]
  },
  {
   "cell_type": "code",
   "execution_count": 6,
   "id": "6a0100cf",
   "metadata": {
    "execution": {
     "iopub.execute_input": "2024-04-15T11:41:44.799383Z",
     "iopub.status.busy": "2024-04-15T11:41:44.799127Z",
     "iopub.status.idle": "2024-04-15T11:41:44.804807Z",
     "shell.execute_reply": "2024-04-15T11:41:44.803912Z"
    },
    "papermill": {
     "duration": 0.018636,
     "end_time": "2024-04-15T11:41:44.806728",
     "exception": false,
     "start_time": "2024-04-15T11:41:44.788092",
     "status": "completed"
    },
    "tags": []
   },
   "outputs": [
    {
     "data": {
      "text/plain": [
       "(Index(['id', 'Sex', 'Length', 'Diameter', 'Height', 'Whole weight',\n",
       "        'Whole weight.1', 'Whole weight.2', 'Shell weight', 'Rings'],\n",
       "       dtype='object'),\n",
       " Index(['Sex', 'Length', 'Diameter', 'Height', 'Whole weight', 'Shucked weight',\n",
       "        'Viscera weight', 'Shell weight', 'Rings'],\n",
       "       dtype='object'))"
      ]
     },
     "execution_count": 6,
     "metadata": {},
     "output_type": "execute_result"
    }
   ],
   "source": [
    "train.columns, original.columns"
   ]
  },
  {
   "cell_type": "code",
   "execution_count": 7,
   "id": "61a0bac9",
   "metadata": {
    "execution": {
     "iopub.execute_input": "2024-04-15T11:41:44.828400Z",
     "iopub.status.busy": "2024-04-15T11:41:44.828166Z",
     "iopub.status.idle": "2024-04-15T11:41:44.832334Z",
     "shell.execute_reply": "2024-04-15T11:41:44.831555Z"
    },
    "papermill": {
     "duration": 0.016971,
     "end_time": "2024-04-15T11:41:44.834134",
     "exception": false,
     "start_time": "2024-04-15T11:41:44.817163",
     "status": "completed"
    },
    "tags": []
   },
   "outputs": [],
   "source": [
    "original.rename(columns={'Shucked weight':'Whole weight.1',\n",
    "                         'Viscera weight':'Whole weight.2',\n",
    "                        },inplace=True)"
   ]
  },
  {
   "cell_type": "code",
   "execution_count": 8,
   "id": "33982d6e",
   "metadata": {
    "execution": {
     "iopub.execute_input": "2024-04-15T11:41:44.855751Z",
     "iopub.status.busy": "2024-04-15T11:41:44.855466Z",
     "iopub.status.idle": "2024-04-15T11:41:44.872459Z",
     "shell.execute_reply": "2024-04-15T11:41:44.871630Z"
    },
    "papermill": {
     "duration": 0.030114,
     "end_time": "2024-04-15T11:41:44.874606",
     "exception": false,
     "start_time": "2024-04-15T11:41:44.844492",
     "status": "completed"
    },
    "tags": []
   },
   "outputs": [
    {
     "data": {
      "text/html": [
       "<div>\n",
       "<style scoped>\n",
       "    .dataframe tbody tr th:only-of-type {\n",
       "        vertical-align: middle;\n",
       "    }\n",
       "\n",
       "    .dataframe tbody tr th {\n",
       "        vertical-align: top;\n",
       "    }\n",
       "\n",
       "    .dataframe thead th {\n",
       "        text-align: right;\n",
       "    }\n",
       "</style>\n",
       "<table border=\"1\" class=\"dataframe\">\n",
       "  <thead>\n",
       "    <tr style=\"text-align: right;\">\n",
       "      <th></th>\n",
       "      <th>Sex</th>\n",
       "      <th>Length</th>\n",
       "      <th>Diameter</th>\n",
       "      <th>Height</th>\n",
       "      <th>Whole weight</th>\n",
       "      <th>Whole weight.1</th>\n",
       "      <th>Whole weight.2</th>\n",
       "      <th>Shell weight</th>\n",
       "      <th>Rings</th>\n",
       "    </tr>\n",
       "  </thead>\n",
       "  <tbody>\n",
       "    <tr>\n",
       "      <th>0</th>\n",
       "      <td>M</td>\n",
       "      <td>0.455</td>\n",
       "      <td>0.365</td>\n",
       "      <td>0.095</td>\n",
       "      <td>0.5140</td>\n",
       "      <td>0.2245</td>\n",
       "      <td>0.1010</td>\n",
       "      <td>0.1500</td>\n",
       "      <td>15</td>\n",
       "    </tr>\n",
       "    <tr>\n",
       "      <th>1</th>\n",
       "      <td>M</td>\n",
       "      <td>0.350</td>\n",
       "      <td>0.265</td>\n",
       "      <td>0.090</td>\n",
       "      <td>0.2255</td>\n",
       "      <td>0.0995</td>\n",
       "      <td>0.0485</td>\n",
       "      <td>0.0700</td>\n",
       "      <td>7</td>\n",
       "    </tr>\n",
       "    <tr>\n",
       "      <th>2</th>\n",
       "      <td>F</td>\n",
       "      <td>0.530</td>\n",
       "      <td>0.420</td>\n",
       "      <td>0.135</td>\n",
       "      <td>0.6770</td>\n",
       "      <td>0.2565</td>\n",
       "      <td>0.1415</td>\n",
       "      <td>0.2100</td>\n",
       "      <td>9</td>\n",
       "    </tr>\n",
       "    <tr>\n",
       "      <th>3</th>\n",
       "      <td>M</td>\n",
       "      <td>0.440</td>\n",
       "      <td>0.365</td>\n",
       "      <td>0.125</td>\n",
       "      <td>0.5160</td>\n",
       "      <td>0.2155</td>\n",
       "      <td>0.1140</td>\n",
       "      <td>0.1550</td>\n",
       "      <td>10</td>\n",
       "    </tr>\n",
       "    <tr>\n",
       "      <th>4</th>\n",
       "      <td>I</td>\n",
       "      <td>0.330</td>\n",
       "      <td>0.255</td>\n",
       "      <td>0.080</td>\n",
       "      <td>0.2050</td>\n",
       "      <td>0.0895</td>\n",
       "      <td>0.0395</td>\n",
       "      <td>0.0550</td>\n",
       "      <td>7</td>\n",
       "    </tr>\n",
       "    <tr>\n",
       "      <th>...</th>\n",
       "      <td>...</td>\n",
       "      <td>...</td>\n",
       "      <td>...</td>\n",
       "      <td>...</td>\n",
       "      <td>...</td>\n",
       "      <td>...</td>\n",
       "      <td>...</td>\n",
       "      <td>...</td>\n",
       "      <td>...</td>\n",
       "    </tr>\n",
       "    <tr>\n",
       "      <th>4172</th>\n",
       "      <td>F</td>\n",
       "      <td>0.565</td>\n",
       "      <td>0.450</td>\n",
       "      <td>0.165</td>\n",
       "      <td>0.8870</td>\n",
       "      <td>0.3700</td>\n",
       "      <td>0.2390</td>\n",
       "      <td>0.2490</td>\n",
       "      <td>11</td>\n",
       "    </tr>\n",
       "    <tr>\n",
       "      <th>4173</th>\n",
       "      <td>M</td>\n",
       "      <td>0.590</td>\n",
       "      <td>0.440</td>\n",
       "      <td>0.135</td>\n",
       "      <td>0.9660</td>\n",
       "      <td>0.4390</td>\n",
       "      <td>0.2145</td>\n",
       "      <td>0.2605</td>\n",
       "      <td>10</td>\n",
       "    </tr>\n",
       "    <tr>\n",
       "      <th>4174</th>\n",
       "      <td>M</td>\n",
       "      <td>0.600</td>\n",
       "      <td>0.475</td>\n",
       "      <td>0.205</td>\n",
       "      <td>1.1760</td>\n",
       "      <td>0.5255</td>\n",
       "      <td>0.2875</td>\n",
       "      <td>0.3080</td>\n",
       "      <td>9</td>\n",
       "    </tr>\n",
       "    <tr>\n",
       "      <th>4175</th>\n",
       "      <td>F</td>\n",
       "      <td>0.625</td>\n",
       "      <td>0.485</td>\n",
       "      <td>0.150</td>\n",
       "      <td>1.0945</td>\n",
       "      <td>0.5310</td>\n",
       "      <td>0.2610</td>\n",
       "      <td>0.2960</td>\n",
       "      <td>10</td>\n",
       "    </tr>\n",
       "    <tr>\n",
       "      <th>4176</th>\n",
       "      <td>M</td>\n",
       "      <td>0.710</td>\n",
       "      <td>0.555</td>\n",
       "      <td>0.195</td>\n",
       "      <td>1.9485</td>\n",
       "      <td>0.9455</td>\n",
       "      <td>0.3765</td>\n",
       "      <td>0.4950</td>\n",
       "      <td>12</td>\n",
       "    </tr>\n",
       "  </tbody>\n",
       "</table>\n",
       "<p>4177 rows × 9 columns</p>\n",
       "</div>"
      ],
      "text/plain": [
       "     Sex  Length  Diameter  Height  Whole weight  Whole weight.1  \\\n",
       "0      M   0.455     0.365   0.095        0.5140          0.2245   \n",
       "1      M   0.350     0.265   0.090        0.2255          0.0995   \n",
       "2      F   0.530     0.420   0.135        0.6770          0.2565   \n",
       "3      M   0.440     0.365   0.125        0.5160          0.2155   \n",
       "4      I   0.330     0.255   0.080        0.2050          0.0895   \n",
       "...   ..     ...       ...     ...           ...             ...   \n",
       "4172   F   0.565     0.450   0.165        0.8870          0.3700   \n",
       "4173   M   0.590     0.440   0.135        0.9660          0.4390   \n",
       "4174   M   0.600     0.475   0.205        1.1760          0.5255   \n",
       "4175   F   0.625     0.485   0.150        1.0945          0.5310   \n",
       "4176   M   0.710     0.555   0.195        1.9485          0.9455   \n",
       "\n",
       "      Whole weight.2  Shell weight  Rings  \n",
       "0             0.1010        0.1500     15  \n",
       "1             0.0485        0.0700      7  \n",
       "2             0.1415        0.2100      9  \n",
       "3             0.1140        0.1550     10  \n",
       "4             0.0395        0.0550      7  \n",
       "...              ...           ...    ...  \n",
       "4172          0.2390        0.2490     11  \n",
       "4173          0.2145        0.2605     10  \n",
       "4174          0.2875        0.3080      9  \n",
       "4175          0.2610        0.2960     10  \n",
       "4176          0.3765        0.4950     12  \n",
       "\n",
       "[4177 rows x 9 columns]"
      ]
     },
     "execution_count": 8,
     "metadata": {},
     "output_type": "execute_result"
    }
   ],
   "source": [
    "original"
   ]
  },
  {
   "cell_type": "code",
   "execution_count": 9,
   "id": "8fde1a12",
   "metadata": {
    "execution": {
     "iopub.execute_input": "2024-04-15T11:41:44.897242Z",
     "iopub.status.busy": "2024-04-15T11:41:44.896973Z",
     "iopub.status.idle": "2024-04-15T11:41:44.916107Z",
     "shell.execute_reply": "2024-04-15T11:41:44.915273Z"
    },
    "papermill": {
     "duration": 0.032478,
     "end_time": "2024-04-15T11:41:44.918102",
     "exception": false,
     "start_time": "2024-04-15T11:41:44.885624",
     "status": "completed"
    },
    "tags": []
   },
   "outputs": [
    {
     "data": {
      "text/plain": [
       "id                0\n",
       "Sex               0\n",
       "Length            0\n",
       "Diameter          0\n",
       "Height            0\n",
       "Whole weight      0\n",
       "Whole weight.1    0\n",
       "Whole weight.2    0\n",
       "Shell weight      0\n",
       "Rings             0\n",
       "dtype: int64"
      ]
     },
     "execution_count": 9,
     "metadata": {},
     "output_type": "execute_result"
    }
   ],
   "source": [
    "train.isna().sum()"
   ]
  },
  {
   "cell_type": "code",
   "execution_count": 10,
   "id": "676fbbe7",
   "metadata": {
    "execution": {
     "iopub.execute_input": "2024-04-15T11:41:44.942764Z",
     "iopub.status.busy": "2024-04-15T11:41:44.942470Z",
     "iopub.status.idle": "2024-04-15T11:41:44.970957Z",
     "shell.execute_reply": "2024-04-15T11:41:44.970102Z"
    },
    "papermill": {
     "duration": 0.043898,
     "end_time": "2024-04-15T11:41:44.972889",
     "exception": false,
     "start_time": "2024-04-15T11:41:44.928991",
     "status": "completed"
    },
    "tags": []
   },
   "outputs": [
    {
     "data": {
      "text/plain": [
       "id                90615\n",
       "Sex                   3\n",
       "Length              157\n",
       "Diameter            126\n",
       "Height               90\n",
       "Whole weight       3175\n",
       "Whole weight.1     1799\n",
       "Whole weight.2      979\n",
       "Shell weight       1129\n",
       "Rings                28\n",
       "dtype: int64"
      ]
     },
     "execution_count": 10,
     "metadata": {},
     "output_type": "execute_result"
    }
   ],
   "source": [
    "train.nunique()"
   ]
  },
  {
   "cell_type": "code",
   "execution_count": 11,
   "id": "0d01b26b",
   "metadata": {
    "execution": {
     "iopub.execute_input": "2024-04-15T11:41:44.995869Z",
     "iopub.status.busy": "2024-04-15T11:41:44.995614Z",
     "iopub.status.idle": "2024-04-15T11:41:45.022002Z",
     "shell.execute_reply": "2024-04-15T11:41:45.020704Z"
    },
    "papermill": {
     "duration": 0.039802,
     "end_time": "2024-04-15T11:41:45.023901",
     "exception": false,
     "start_time": "2024-04-15T11:41:44.984099",
     "status": "completed"
    },
    "tags": []
   },
   "outputs": [
    {
     "name": "stdout",
     "output_type": "stream",
     "text": [
      "<class 'pandas.core.frame.DataFrame'>\n",
      "RangeIndex: 90615 entries, 0 to 90614\n",
      "Data columns (total 10 columns):\n",
      " #   Column          Non-Null Count  Dtype  \n",
      "---  ------          --------------  -----  \n",
      " 0   id              90615 non-null  int64  \n",
      " 1   Sex             90615 non-null  object \n",
      " 2   Length          90615 non-null  float64\n",
      " 3   Diameter        90615 non-null  float64\n",
      " 4   Height          90615 non-null  float64\n",
      " 5   Whole weight    90615 non-null  float64\n",
      " 6   Whole weight.1  90615 non-null  float64\n",
      " 7   Whole weight.2  90615 non-null  float64\n",
      " 8   Shell weight    90615 non-null  float64\n",
      " 9   Rings           90615 non-null  int64  \n",
      "dtypes: float64(7), int64(2), object(1)\n",
      "memory usage: 6.9+ MB\n"
     ]
    }
   ],
   "source": [
    "train.info()"
   ]
  },
  {
   "cell_type": "code",
   "execution_count": 12,
   "id": "714d1b78",
   "metadata": {
    "execution": {
     "iopub.execute_input": "2024-04-15T11:41:45.047726Z",
     "iopub.status.busy": "2024-04-15T11:41:45.047033Z",
     "iopub.status.idle": "2024-04-15T11:41:45.056961Z",
     "shell.execute_reply": "2024-04-15T11:41:45.056090Z"
    },
    "papermill": {
     "duration": 0.023774,
     "end_time": "2024-04-15T11:41:45.058976",
     "exception": false,
     "start_time": "2024-04-15T11:41:45.035202",
     "status": "completed"
    },
    "tags": []
   },
   "outputs": [],
   "source": [
    "train = train.drop('id', axis=1)\n",
    "test = test.drop('id', axis=1)"
   ]
  },
  {
   "cell_type": "code",
   "execution_count": 13,
   "id": "7382a3ed",
   "metadata": {
    "execution": {
     "iopub.execute_input": "2024-04-15T11:41:45.082221Z",
     "iopub.status.busy": "2024-04-15T11:41:45.081779Z",
     "iopub.status.idle": "2024-04-15T11:41:45.086802Z",
     "shell.execute_reply": "2024-04-15T11:41:45.085959Z"
    },
    "papermill": {
     "duration": 0.018732,
     "end_time": "2024-04-15T11:41:45.088710",
     "exception": false,
     "start_time": "2024-04-15T11:41:45.069978",
     "status": "completed"
    },
    "tags": []
   },
   "outputs": [
    {
     "data": {
      "text/plain": [
       "(90615, 9)"
      ]
     },
     "execution_count": 13,
     "metadata": {},
     "output_type": "execute_result"
    }
   ],
   "source": [
    "train.shape"
   ]
  },
  {
   "cell_type": "code",
   "execution_count": 14,
   "id": "420f4c8b",
   "metadata": {
    "execution": {
     "iopub.execute_input": "2024-04-15T11:41:45.112694Z",
     "iopub.status.busy": "2024-04-15T11:41:45.112388Z",
     "iopub.status.idle": "2024-04-15T11:41:45.122037Z",
     "shell.execute_reply": "2024-04-15T11:41:45.121139Z"
    },
    "papermill": {
     "duration": 0.023409,
     "end_time": "2024-04-15T11:41:45.123987",
     "exception": false,
     "start_time": "2024-04-15T11:41:45.100578",
     "status": "completed"
    },
    "tags": []
   },
   "outputs": [
    {
     "data": {
      "text/plain": [
       "(94792, 9)"
      ]
     },
     "execution_count": 14,
     "metadata": {},
     "output_type": "execute_result"
    }
   ],
   "source": [
    "train = pd.concat(objs=[train, original])\n",
    "train.shape"
   ]
  },
  {
   "cell_type": "code",
   "execution_count": 15,
   "id": "a2724b8f",
   "metadata": {
    "execution": {
     "iopub.execute_input": "2024-04-15T11:41:45.147804Z",
     "iopub.status.busy": "2024-04-15T11:41:45.147256Z",
     "iopub.status.idle": "2024-04-15T11:41:45.163838Z",
     "shell.execute_reply": "2024-04-15T11:41:45.163000Z"
    },
    "papermill": {
     "duration": 0.030654,
     "end_time": "2024-04-15T11:41:45.165961",
     "exception": false,
     "start_time": "2024-04-15T11:41:45.135307",
     "status": "completed"
    },
    "tags": []
   },
   "outputs": [
    {
     "data": {
      "text/html": [
       "<div>\n",
       "<style scoped>\n",
       "    .dataframe tbody tr th:only-of-type {\n",
       "        vertical-align: middle;\n",
       "    }\n",
       "\n",
       "    .dataframe tbody tr th {\n",
       "        vertical-align: top;\n",
       "    }\n",
       "\n",
       "    .dataframe thead th {\n",
       "        text-align: right;\n",
       "    }\n",
       "</style>\n",
       "<table border=\"1\" class=\"dataframe\">\n",
       "  <thead>\n",
       "    <tr style=\"text-align: right;\">\n",
       "      <th></th>\n",
       "      <th>Sex</th>\n",
       "      <th>Length</th>\n",
       "      <th>Diameter</th>\n",
       "      <th>Height</th>\n",
       "      <th>Whole weight</th>\n",
       "      <th>Whole weight.1</th>\n",
       "      <th>Whole weight.2</th>\n",
       "      <th>Shell weight</th>\n",
       "      <th>Rings</th>\n",
       "    </tr>\n",
       "  </thead>\n",
       "  <tbody>\n",
       "    <tr>\n",
       "      <th>0</th>\n",
       "      <td>F</td>\n",
       "      <td>0.550</td>\n",
       "      <td>0.430</td>\n",
       "      <td>0.150</td>\n",
       "      <td>0.7715</td>\n",
       "      <td>0.3285</td>\n",
       "      <td>0.1465</td>\n",
       "      <td>0.2400</td>\n",
       "      <td>11</td>\n",
       "    </tr>\n",
       "    <tr>\n",
       "      <th>1</th>\n",
       "      <td>F</td>\n",
       "      <td>0.630</td>\n",
       "      <td>0.490</td>\n",
       "      <td>0.145</td>\n",
       "      <td>1.1300</td>\n",
       "      <td>0.4580</td>\n",
       "      <td>0.2765</td>\n",
       "      <td>0.3200</td>\n",
       "      <td>11</td>\n",
       "    </tr>\n",
       "    <tr>\n",
       "      <th>2</th>\n",
       "      <td>I</td>\n",
       "      <td>0.160</td>\n",
       "      <td>0.110</td>\n",
       "      <td>0.025</td>\n",
       "      <td>0.0210</td>\n",
       "      <td>0.0055</td>\n",
       "      <td>0.0030</td>\n",
       "      <td>0.0050</td>\n",
       "      <td>6</td>\n",
       "    </tr>\n",
       "    <tr>\n",
       "      <th>3</th>\n",
       "      <td>M</td>\n",
       "      <td>0.595</td>\n",
       "      <td>0.475</td>\n",
       "      <td>0.150</td>\n",
       "      <td>0.9145</td>\n",
       "      <td>0.3755</td>\n",
       "      <td>0.2055</td>\n",
       "      <td>0.2500</td>\n",
       "      <td>10</td>\n",
       "    </tr>\n",
       "    <tr>\n",
       "      <th>4</th>\n",
       "      <td>I</td>\n",
       "      <td>0.555</td>\n",
       "      <td>0.425</td>\n",
       "      <td>0.130</td>\n",
       "      <td>0.7820</td>\n",
       "      <td>0.3695</td>\n",
       "      <td>0.1600</td>\n",
       "      <td>0.1975</td>\n",
       "      <td>9</td>\n",
       "    </tr>\n",
       "    <tr>\n",
       "      <th>...</th>\n",
       "      <td>...</td>\n",
       "      <td>...</td>\n",
       "      <td>...</td>\n",
       "      <td>...</td>\n",
       "      <td>...</td>\n",
       "      <td>...</td>\n",
       "      <td>...</td>\n",
       "      <td>...</td>\n",
       "      <td>...</td>\n",
       "    </tr>\n",
       "    <tr>\n",
       "      <th>4172</th>\n",
       "      <td>F</td>\n",
       "      <td>0.565</td>\n",
       "      <td>0.450</td>\n",
       "      <td>0.165</td>\n",
       "      <td>0.8870</td>\n",
       "      <td>0.3700</td>\n",
       "      <td>0.2390</td>\n",
       "      <td>0.2490</td>\n",
       "      <td>11</td>\n",
       "    </tr>\n",
       "    <tr>\n",
       "      <th>4173</th>\n",
       "      <td>M</td>\n",
       "      <td>0.590</td>\n",
       "      <td>0.440</td>\n",
       "      <td>0.135</td>\n",
       "      <td>0.9660</td>\n",
       "      <td>0.4390</td>\n",
       "      <td>0.2145</td>\n",
       "      <td>0.2605</td>\n",
       "      <td>10</td>\n",
       "    </tr>\n",
       "    <tr>\n",
       "      <th>4174</th>\n",
       "      <td>M</td>\n",
       "      <td>0.600</td>\n",
       "      <td>0.475</td>\n",
       "      <td>0.205</td>\n",
       "      <td>1.1760</td>\n",
       "      <td>0.5255</td>\n",
       "      <td>0.2875</td>\n",
       "      <td>0.3080</td>\n",
       "      <td>9</td>\n",
       "    </tr>\n",
       "    <tr>\n",
       "      <th>4175</th>\n",
       "      <td>F</td>\n",
       "      <td>0.625</td>\n",
       "      <td>0.485</td>\n",
       "      <td>0.150</td>\n",
       "      <td>1.0945</td>\n",
       "      <td>0.5310</td>\n",
       "      <td>0.2610</td>\n",
       "      <td>0.2960</td>\n",
       "      <td>10</td>\n",
       "    </tr>\n",
       "    <tr>\n",
       "      <th>4176</th>\n",
       "      <td>M</td>\n",
       "      <td>0.710</td>\n",
       "      <td>0.555</td>\n",
       "      <td>0.195</td>\n",
       "      <td>1.9485</td>\n",
       "      <td>0.9455</td>\n",
       "      <td>0.3765</td>\n",
       "      <td>0.4950</td>\n",
       "      <td>12</td>\n",
       "    </tr>\n",
       "  </tbody>\n",
       "</table>\n",
       "<p>94792 rows × 9 columns</p>\n",
       "</div>"
      ],
      "text/plain": [
       "     Sex  Length  Diameter  Height  Whole weight  Whole weight.1  \\\n",
       "0      F   0.550     0.430   0.150        0.7715          0.3285   \n",
       "1      F   0.630     0.490   0.145        1.1300          0.4580   \n",
       "2      I   0.160     0.110   0.025        0.0210          0.0055   \n",
       "3      M   0.595     0.475   0.150        0.9145          0.3755   \n",
       "4      I   0.555     0.425   0.130        0.7820          0.3695   \n",
       "...   ..     ...       ...     ...           ...             ...   \n",
       "4172   F   0.565     0.450   0.165        0.8870          0.3700   \n",
       "4173   M   0.590     0.440   0.135        0.9660          0.4390   \n",
       "4174   M   0.600     0.475   0.205        1.1760          0.5255   \n",
       "4175   F   0.625     0.485   0.150        1.0945          0.5310   \n",
       "4176   M   0.710     0.555   0.195        1.9485          0.9455   \n",
       "\n",
       "      Whole weight.2  Shell weight  Rings  \n",
       "0             0.1465        0.2400     11  \n",
       "1             0.2765        0.3200     11  \n",
       "2             0.0030        0.0050      6  \n",
       "3             0.2055        0.2500     10  \n",
       "4             0.1600        0.1975      9  \n",
       "...              ...           ...    ...  \n",
       "4172          0.2390        0.2490     11  \n",
       "4173          0.2145        0.2605     10  \n",
       "4174          0.2875        0.3080      9  \n",
       "4175          0.2610        0.2960     10  \n",
       "4176          0.3765        0.4950     12  \n",
       "\n",
       "[94792 rows x 9 columns]"
      ]
     },
     "execution_count": 15,
     "metadata": {},
     "output_type": "execute_result"
    }
   ],
   "source": [
    "train"
   ]
  },
  {
   "cell_type": "code",
   "execution_count": 16,
   "id": "ffca4912",
   "metadata": {
    "execution": {
     "iopub.execute_input": "2024-04-15T11:41:45.191199Z",
     "iopub.status.busy": "2024-04-15T11:41:45.190963Z",
     "iopub.status.idle": "2024-04-15T11:41:45.228155Z",
     "shell.execute_reply": "2024-04-15T11:41:45.227478Z"
    },
    "papermill": {
     "duration": 0.051738,
     "end_time": "2024-04-15T11:41:45.230039",
     "exception": false,
     "start_time": "2024-04-15T11:41:45.178301",
     "status": "completed"
    },
    "tags": []
   },
   "outputs": [],
   "source": [
    "le = LabelEncoder()\n",
    "train['Sex'] = le.fit_transform(train['Sex'])\n",
    "test['Sex'] = le.transform(test['Sex'])"
   ]
  },
  {
   "cell_type": "code",
   "execution_count": 17,
   "id": "203707d1",
   "metadata": {
    "execution": {
     "iopub.execute_input": "2024-04-15T11:41:45.254418Z",
     "iopub.status.busy": "2024-04-15T11:41:45.254183Z",
     "iopub.status.idle": "2024-04-15T11:41:45.273067Z",
     "shell.execute_reply": "2024-04-15T11:41:45.272202Z"
    },
    "papermill": {
     "duration": 0.033166,
     "end_time": "2024-04-15T11:41:45.274949",
     "exception": false,
     "start_time": "2024-04-15T11:41:45.241783",
     "status": "completed"
    },
    "tags": []
   },
   "outputs": [
    {
     "data": {
      "text/html": [
       "<div>\n",
       "<style scoped>\n",
       "    .dataframe tbody tr th:only-of-type {\n",
       "        vertical-align: middle;\n",
       "    }\n",
       "\n",
       "    .dataframe tbody tr th {\n",
       "        vertical-align: top;\n",
       "    }\n",
       "\n",
       "    .dataframe thead th {\n",
       "        text-align: right;\n",
       "    }\n",
       "</style>\n",
       "<table border=\"1\" class=\"dataframe\">\n",
       "  <thead>\n",
       "    <tr style=\"text-align: right;\">\n",
       "      <th></th>\n",
       "      <th>Sex</th>\n",
       "      <th>Length</th>\n",
       "      <th>Diameter</th>\n",
       "      <th>Height</th>\n",
       "      <th>Whole weight</th>\n",
       "      <th>Whole weight.1</th>\n",
       "      <th>Whole weight.2</th>\n",
       "      <th>Shell weight</th>\n",
       "    </tr>\n",
       "  </thead>\n",
       "  <tbody>\n",
       "    <tr>\n",
       "      <th>0</th>\n",
       "      <td>0</td>\n",
       "      <td>0.550</td>\n",
       "      <td>0.430</td>\n",
       "      <td>0.150</td>\n",
       "      <td>0.7715</td>\n",
       "      <td>0.3285</td>\n",
       "      <td>0.1465</td>\n",
       "      <td>0.2400</td>\n",
       "    </tr>\n",
       "    <tr>\n",
       "      <th>1</th>\n",
       "      <td>0</td>\n",
       "      <td>0.630</td>\n",
       "      <td>0.490</td>\n",
       "      <td>0.145</td>\n",
       "      <td>1.1300</td>\n",
       "      <td>0.4580</td>\n",
       "      <td>0.2765</td>\n",
       "      <td>0.3200</td>\n",
       "    </tr>\n",
       "    <tr>\n",
       "      <th>2</th>\n",
       "      <td>1</td>\n",
       "      <td>0.160</td>\n",
       "      <td>0.110</td>\n",
       "      <td>0.025</td>\n",
       "      <td>0.0210</td>\n",
       "      <td>0.0055</td>\n",
       "      <td>0.0030</td>\n",
       "      <td>0.0050</td>\n",
       "    </tr>\n",
       "    <tr>\n",
       "      <th>3</th>\n",
       "      <td>2</td>\n",
       "      <td>0.595</td>\n",
       "      <td>0.475</td>\n",
       "      <td>0.150</td>\n",
       "      <td>0.9145</td>\n",
       "      <td>0.3755</td>\n",
       "      <td>0.2055</td>\n",
       "      <td>0.2500</td>\n",
       "    </tr>\n",
       "    <tr>\n",
       "      <th>4</th>\n",
       "      <td>1</td>\n",
       "      <td>0.555</td>\n",
       "      <td>0.425</td>\n",
       "      <td>0.130</td>\n",
       "      <td>0.7820</td>\n",
       "      <td>0.3695</td>\n",
       "      <td>0.1600</td>\n",
       "      <td>0.1975</td>\n",
       "    </tr>\n",
       "    <tr>\n",
       "      <th>...</th>\n",
       "      <td>...</td>\n",
       "      <td>...</td>\n",
       "      <td>...</td>\n",
       "      <td>...</td>\n",
       "      <td>...</td>\n",
       "      <td>...</td>\n",
       "      <td>...</td>\n",
       "      <td>...</td>\n",
       "    </tr>\n",
       "    <tr>\n",
       "      <th>4172</th>\n",
       "      <td>0</td>\n",
       "      <td>0.565</td>\n",
       "      <td>0.450</td>\n",
       "      <td>0.165</td>\n",
       "      <td>0.8870</td>\n",
       "      <td>0.3700</td>\n",
       "      <td>0.2390</td>\n",
       "      <td>0.2490</td>\n",
       "    </tr>\n",
       "    <tr>\n",
       "      <th>4173</th>\n",
       "      <td>2</td>\n",
       "      <td>0.590</td>\n",
       "      <td>0.440</td>\n",
       "      <td>0.135</td>\n",
       "      <td>0.9660</td>\n",
       "      <td>0.4390</td>\n",
       "      <td>0.2145</td>\n",
       "      <td>0.2605</td>\n",
       "    </tr>\n",
       "    <tr>\n",
       "      <th>4174</th>\n",
       "      <td>2</td>\n",
       "      <td>0.600</td>\n",
       "      <td>0.475</td>\n",
       "      <td>0.205</td>\n",
       "      <td>1.1760</td>\n",
       "      <td>0.5255</td>\n",
       "      <td>0.2875</td>\n",
       "      <td>0.3080</td>\n",
       "    </tr>\n",
       "    <tr>\n",
       "      <th>4175</th>\n",
       "      <td>0</td>\n",
       "      <td>0.625</td>\n",
       "      <td>0.485</td>\n",
       "      <td>0.150</td>\n",
       "      <td>1.0945</td>\n",
       "      <td>0.5310</td>\n",
       "      <td>0.2610</td>\n",
       "      <td>0.2960</td>\n",
       "    </tr>\n",
       "    <tr>\n",
       "      <th>4176</th>\n",
       "      <td>2</td>\n",
       "      <td>0.710</td>\n",
       "      <td>0.555</td>\n",
       "      <td>0.195</td>\n",
       "      <td>1.9485</td>\n",
       "      <td>0.9455</td>\n",
       "      <td>0.3765</td>\n",
       "      <td>0.4950</td>\n",
       "    </tr>\n",
       "  </tbody>\n",
       "</table>\n",
       "<p>94792 rows × 8 columns</p>\n",
       "</div>"
      ],
      "text/plain": [
       "      Sex  Length  Diameter  Height  Whole weight  Whole weight.1  \\\n",
       "0       0   0.550     0.430   0.150        0.7715          0.3285   \n",
       "1       0   0.630     0.490   0.145        1.1300          0.4580   \n",
       "2       1   0.160     0.110   0.025        0.0210          0.0055   \n",
       "3       2   0.595     0.475   0.150        0.9145          0.3755   \n",
       "4       1   0.555     0.425   0.130        0.7820          0.3695   \n",
       "...   ...     ...       ...     ...           ...             ...   \n",
       "4172    0   0.565     0.450   0.165        0.8870          0.3700   \n",
       "4173    2   0.590     0.440   0.135        0.9660          0.4390   \n",
       "4174    2   0.600     0.475   0.205        1.1760          0.5255   \n",
       "4175    0   0.625     0.485   0.150        1.0945          0.5310   \n",
       "4176    2   0.710     0.555   0.195        1.9485          0.9455   \n",
       "\n",
       "      Whole weight.2  Shell weight  \n",
       "0             0.1465        0.2400  \n",
       "1             0.2765        0.3200  \n",
       "2             0.0030        0.0050  \n",
       "3             0.2055        0.2500  \n",
       "4             0.1600        0.1975  \n",
       "...              ...           ...  \n",
       "4172          0.2390        0.2490  \n",
       "4173          0.2145        0.2605  \n",
       "4174          0.2875        0.3080  \n",
       "4175          0.2610        0.2960  \n",
       "4176          0.3765        0.4950  \n",
       "\n",
       "[94792 rows x 8 columns]"
      ]
     },
     "execution_count": 17,
     "metadata": {},
     "output_type": "execute_result"
    }
   ],
   "source": [
    "features = train.drop('Rings', axis=1)\n",
    "features"
   ]
  },
  {
   "cell_type": "code",
   "execution_count": 18,
   "id": "784e93cc",
   "metadata": {
    "execution": {
     "iopub.execute_input": "2024-04-15T11:41:45.300416Z",
     "iopub.status.busy": "2024-04-15T11:41:45.300181Z",
     "iopub.status.idle": "2024-04-15T11:41:45.809970Z",
     "shell.execute_reply": "2024-04-15T11:41:45.809040Z"
    },
    "papermill": {
     "duration": 0.524694,
     "end_time": "2024-04-15T11:41:45.812083",
     "exception": false,
     "start_time": "2024-04-15T11:41:45.287389",
     "status": "completed"
    },
    "tags": []
   },
   "outputs": [
    {
     "data": {
      "image/png": "[encoded data removed]",
      "text/plain": [
       "<Figure size 1500x1100 with 2 Axes>"
      ]
     },
     "metadata": {},
     "output_type": "display_data"
    }
   ],
   "source": [
    "#correlation matrix\n",
    "corr_matrix=features.corr()\n",
    "\n",
    "mask = np.zeros_like(corr_matrix)\n",
    "mask[np.triu_indices_from(mask)] = True\n",
    "\n",
    "f,ax=plt.subplots(figsize=(15,11))\n",
    "sns.heatmap(corr_matrix, mask=mask, annot=True)\n",
    "plt.suptitle('Correlation Matrix')\n",
    "plt.show()"
   ]
  },
  {
   "cell_type": "code",
   "execution_count": 19,
   "id": "1c23b569",
   "metadata": {
    "execution": {
     "iopub.execute_input": "2024-04-15T11:41:45.840038Z",
     "iopub.status.busy": "2024-04-15T11:41:45.839541Z",
     "iopub.status.idle": "2024-04-15T11:41:47.589317Z",
     "shell.execute_reply": "2024-04-15T11:41:47.588302Z"
    },
    "papermill": {
     "duration": 1.767019,
     "end_time": "2024-04-15T11:41:47.592329",
     "exception": false,
     "start_time": "2024-04-15T11:41:45.825310",
     "status": "completed"
    },
    "tags": []
   },
   "outputs": [
    {
     "data": {
      "image/png": "[encoded data removed]",
      "text/plain": [
       "<Figure size 1500x1500 with 9 Axes>"
      ]
     },
     "metadata": {},
     "output_type": "display_data"
    }
   ],
   "source": [
    "# # plot features as histograms\n",
    "features.hist(bins=30, figsize=(15,15))\n",
    "plt.show()"
   ]
  },
  {
   "cell_type": "code",
   "execution_count": 20,
   "id": "57f4d78f",
   "metadata": {
    "execution": {
     "iopub.execute_input": "2024-04-15T11:41:47.626465Z",
     "iopub.status.busy": "2024-04-15T11:41:47.625702Z",
     "iopub.status.idle": "2024-04-15T11:41:47.641489Z",
     "shell.execute_reply": "2024-04-15T11:41:47.640573Z"
    },
    "papermill": {
     "duration": 0.034829,
     "end_time": "2024-04-15T11:41:47.643625",
     "exception": false,
     "start_time": "2024-04-15T11:41:47.608796",
     "status": "completed"
    },
    "tags": []
   },
   "outputs": [
    {
     "data": {
      "text/plain": [
       "Whole weight.1    0.601075\n",
       "Shell weight      0.488303\n",
       "Whole weight.2    0.485542\n",
       "Height            0.475841\n",
       "Whole weight      0.436328\n",
       "Sex              -0.089862\n",
       "Diameter         -0.690925\n",
       "Length           -0.727373\n",
       "dtype: float64"
      ]
     },
     "execution_count": 20,
     "metadata": {},
     "output_type": "execute_result"
    }
   ],
   "source": [
    "# Skew function of Pandas\n",
    "skew = features.skew().sort_values(ascending=False)\n",
    "skew"
   ]
  },
  {
   "cell_type": "code",
   "execution_count": 21,
   "id": "0036a35b",
   "metadata": {
    "execution": {
     "iopub.execute_input": "2024-04-15T11:41:47.678063Z",
     "iopub.status.busy": "2024-04-15T11:41:47.677754Z",
     "iopub.status.idle": "2024-04-15T11:41:47.685706Z",
     "shell.execute_reply": "2024-04-15T11:41:47.684852Z"
    },
    "papermill": {
     "duration": 0.027188,
     "end_time": "2024-04-15T11:41:47.687791",
     "exception": false,
     "start_time": "2024-04-15T11:41:47.660603",
     "status": "completed"
    },
    "tags": []
   },
   "outputs": [
    {
     "data": {
      "text/plain": [
       "['Length',\n",
       " 'Diameter',\n",
       " 'Height',\n",
       " 'Whole weight',\n",
       " 'Whole weight.1',\n",
       " 'Whole weight.2',\n",
       " 'Shell weight']"
      ]
     },
     "execution_count": 21,
     "metadata": {},
     "output_type": "execute_result"
    }
   ],
   "source": [
    "num_cols = train.select_dtypes(include=float).columns.tolist()\n",
    "num_cols"
   ]
  },
  {
   "cell_type": "code",
   "execution_count": 22,
   "id": "6c2c26ee",
   "metadata": {
    "execution": {
     "iopub.execute_input": "2024-04-15T11:41:47.720981Z",
     "iopub.status.busy": "2024-04-15T11:41:47.720696Z",
     "iopub.status.idle": "2024-04-15T11:41:47.724540Z",
     "shell.execute_reply": "2024-04-15T11:41:47.723669Z"
    },
    "papermill": {
     "duration": 0.023118,
     "end_time": "2024-04-15T11:41:47.726642",
     "exception": false,
     "start_time": "2024-04-15T11:41:47.703524",
     "status": "completed"
    },
    "tags": []
   },
   "outputs": [],
   "source": [
    "# train_bc= train\n",
    "# train_bc[num_cols].shape"
   ]
  },
  {
   "cell_type": "code",
   "execution_count": 23,
   "id": "a3b81ec0",
   "metadata": {
    "execution": {
     "iopub.execute_input": "2024-04-15T11:41:47.758387Z",
     "iopub.status.busy": "2024-04-15T11:41:47.758145Z",
     "iopub.status.idle": "2024-04-15T11:41:48.094692Z",
     "shell.execute_reply": "2024-04-15T11:41:48.093967Z"
    },
    "papermill": {
     "duration": 0.354954,
     "end_time": "2024-04-15T11:41:48.097101",
     "exception": false,
     "start_time": "2024-04-15T11:41:47.742147",
     "status": "completed"
    },
    "tags": []
   },
   "outputs": [],
   "source": [
    "#remove skew\n",
    "from sklearn.preprocessing import PowerTransformer\n",
    "train_bc= train\n",
    "bc_transformer = PowerTransformer(method = \"yeo-johnson\", standardize=True)\n",
    "train_bc[num_cols] = pd.DataFrame(bc_transformer.fit_transform(train_bc[num_cols]))\n",
    "\n",
    "test_bc= test\n",
    "test_bc[num_cols] = pd.DataFrame(bc_transformer.transform(test_bc[num_cols]))"
   ]
  },
  {
   "cell_type": "code",
   "execution_count": 24,
   "id": "7de024d0",
   "metadata": {
    "execution": {
     "iopub.execute_input": "2024-04-15T11:41:48.127885Z",
     "iopub.status.busy": "2024-04-15T11:41:48.127554Z",
     "iopub.status.idle": "2024-04-15T11:41:48.167955Z",
     "shell.execute_reply": "2024-04-15T11:41:48.167201Z"
    },
    "papermill": {
     "duration": 0.058224,
     "end_time": "2024-04-15T11:41:48.170315",
     "exception": false,
     "start_time": "2024-04-15T11:41:48.112091",
     "status": "completed"
    },
    "tags": []
   },
   "outputs": [],
   "source": [
    "from sklearn.preprocessing import StandardScaler\n",
    "sc= StandardScaler()\n",
    "train_sc= train_bc\n",
    "train_sc[num_cols]= pd.DataFrame(sc.fit_transform(train[num_cols]))\n",
    "train_sc.columns= train.columns\n",
    "\n",
    "test_sc= test_bc\n",
    "test_sc[num_cols]= pd.DataFrame(sc.transform(test[num_cols]))\n",
    "test_sc.columns= test.columns"
   ]
  },
  {
   "cell_type": "code",
   "execution_count": 25,
   "id": "0589b845",
   "metadata": {
    "execution": {
     "iopub.execute_input": "2024-04-15T11:41:48.201213Z",
     "iopub.status.busy": "2024-04-15T11:41:48.200953Z",
     "iopub.status.idle": "2024-04-15T11:41:48.232320Z",
     "shell.execute_reply": "2024-04-15T11:41:48.231613Z"
    },
    "papermill": {
     "duration": 0.048659,
     "end_time": "2024-04-15T11:41:48.234374",
     "exception": false,
     "start_time": "2024-04-15T11:41:48.185715",
     "status": "completed"
    },
    "tags": []
   },
   "outputs": [],
   "source": [
    "#normalize\n",
    "def normalize(df):\n",
    "    result = df.copy()\n",
    "    for feature_name in df.columns:\n",
    "        max_value = df[feature_name].max()\n",
    "        min_value = df[feature_name].min()\n",
    "        result[feature_name] = (df[feature_name] - min_value) / (max_value - min_value)\n",
    "    return result\n",
    "\n",
    "train_sc[num_cols]= normalize(train_sc[num_cols])\n",
    "test_sc[num_cols]= normalize(test_sc[num_cols])"
   ]
  },
  {
   "cell_type": "code",
   "execution_count": 26,
   "id": "c896dc3d",
   "metadata": {
    "execution": {
     "iopub.execute_input": "2024-04-15T11:41:48.264709Z",
     "iopub.status.busy": "2024-04-15T11:41:48.264407Z",
     "iopub.status.idle": "2024-04-15T11:41:50.331372Z",
     "shell.execute_reply": "2024-04-15T11:41:50.330478Z"
    },
    "papermill": {
     "duration": 2.08554,
     "end_time": "2024-04-15T11:41:50.334400",
     "exception": false,
     "start_time": "2024-04-15T11:41:48.248860",
     "status": "completed"
    },
    "tags": []
   },
   "outputs": [
    {
     "data": {
      "image/png": "[encoded data removed]",
      "text/plain": [
       "<Figure size 1500x1500 with 9 Axes>"
      ]
     },
     "metadata": {},
     "output_type": "display_data"
    }
   ],
   "source": [
    "# # plot features as histograms\n",
    "train_sc.hist(bins=30, figsize=(15,15))\n",
    "plt.show()"
   ]
  },
  {
   "cell_type": "code",
   "execution_count": 27,
   "id": "99bcead6",
   "metadata": {
    "execution": {
     "iopub.execute_input": "2024-04-15T11:41:50.368251Z",
     "iopub.status.busy": "2024-04-15T11:41:50.367515Z",
     "iopub.status.idle": "2024-04-15T11:41:50.372902Z",
     "shell.execute_reply": "2024-04-15T11:41:50.372119Z"
    },
    "papermill": {
     "duration": 0.023841,
     "end_time": "2024-04-15T11:41:50.374773",
     "exception": false,
     "start_time": "2024-04-15T11:41:50.350932",
     "status": "completed"
    },
    "tags": []
   },
   "outputs": [],
   "source": [
    "def RMSLE(y_true: list, y_pred: list) -> float:\n",
    "    \"\"\"\n",
    "    The Root Mean Squared Log Error (RMSLE) metric using only NumPy\n",
    "    \n",
    "    :param y_true: The ground truth labels given in the dataset\n",
    "    :param y_pred: Our predictions\n",
    "    :return: The RMSLE score\n",
    "    \"\"\"\n",
    "    n = len(y_true)\n",
    "    msle = np.sqrt(np.mean(np.square(np.log1p(y_pred) - np.log1p(y_true))))\n",
    "    return msle"
   ]
  },
  {
   "cell_type": "code",
   "execution_count": 28,
   "id": "bcf6aa6b",
   "metadata": {
    "execution": {
     "iopub.execute_input": "2024-04-15T11:41:50.407560Z",
     "iopub.status.busy": "2024-04-15T11:41:50.407270Z",
     "iopub.status.idle": "2024-04-15T11:41:50.647103Z",
     "shell.execute_reply": "2024-04-15T11:41:50.646337Z"
    },
    "papermill": {
     "duration": 0.259029,
     "end_time": "2024-04-15T11:41:50.649357",
     "exception": false,
     "start_time": "2024-04-15T11:41:50.390328",
     "status": "completed"
    },
    "tags": []
   },
   "outputs": [],
   "source": [
    "from sklearn.model_selection import train_test_split\n",
    "X = train_sc.drop(columns = ['Rings'], axis = 1)\n",
    "# y = np.log1p(train_sc['Rings'])\n",
    "y = train_sc['Rings']\n",
    "X_train, X_test, y_train, y_test = train_test_split(X, y,test_size=0.2,random_state=0, stratify=y)"
   ]
  },
  {
   "cell_type": "code",
   "execution_count": 29,
   "id": "19129ffc",
   "metadata": {
    "execution": {
     "iopub.execute_input": "2024-04-15T11:41:50.682953Z",
     "iopub.status.busy": "2024-04-15T11:41:50.682598Z",
     "iopub.status.idle": "2024-04-15T11:41:57.246539Z",
     "shell.execute_reply": "2024-04-15T11:41:57.245780Z"
    },
    "papermill": {
     "duration": 6.582985,
     "end_time": "2024-04-15T11:41:57.248903",
     "exception": false,
     "start_time": "2024-04-15T11:41:50.665918",
     "status": "completed"
    },
    "tags": []
   },
   "outputs": [
    {
     "name": "stderr",
     "output_type": "stream",
     "text": [
      "/opt/conda/lib/python3.10/site-packages/dask/dataframe/_pyarrow_compat.py:23: UserWarning: You are using pyarrow version 11.0.0 which is known to be insecure. See https://www.cve.org/CVERecord?id=CVE-2023-47248 for further details. Please upgrade to pyarrow>=14.0.1 or install pyarrow-hotfix to patch your current version.\n",
      "  warnings.warn(\n"
     ]
    }
   ],
   "source": [
    "\n",
    "from sklearn.ensemble import GradientBoostingRegressor, HistGradientBoostingRegressor\n",
    "from sklearn.metrics import mean_squared_error\n",
    "from lightgbm import LGBMRegressor\n",
    "from xgboost import XGBRegressor\n",
    "\n",
    "from sklearn.metrics import mean_absolute_error, mean_squared_log_error\n",
    "\n",
    "#baseline model\n",
    "\n",
    "# #GradientBoosting         \n",
    "# gb_md = GradientBoostingRegressor(loss = 'squared_error',\n",
    "#                                     n_estimators = 1000, \n",
    "#                                     max_depth = 8, \n",
    "#                                     learning_rate = 0.01,\n",
    "#                                     min_samples_split = 10, \n",
    "#                                     min_samples_leaf = 20).fit(X_train, y_train) \n",
    "    \n",
    "# gb_pred = gb_md.predict(X_test)\n",
    "# gb_msle = mean_squared_log_error(y_test, gb_pred)\n",
    "# gb_rmsle = np.sqrt(gb_msle)\n",
    "# print('GradientBoost of RMSLE is ==>', gb_rmsle)\n",
    "# # GradientBoost of RMSLE is ==> 0.14953954800983976    \n",
    "    \n",
    "\n",
    "# #HistGradientBoosting   \n",
    "# hist_md = HistGradientBoostingRegressor(loss = 'squared_error',\n",
    "#                                         l2_regularization = 0.01,\n",
    "#                                         early_stopping = True,\n",
    "#                                         learning_rate = 0.01,\n",
    "#                                         max_iter = 1000,\n",
    "#                                         max_depth = 15,\n",
    "#                                         max_bins = 255,\n",
    "#                                         min_samples_leaf = 70,\n",
    "#                                         max_leaf_nodes = 115).fit(X_train, y_train)\n",
    "    \n",
    "# hist_pred = hist_md.predict(X_test)\n",
    "# hist_msle = mean_squared_log_error(y_test, hist_pred)\n",
    "# hist_rmsle = np.sqrt(hist_msle)\n",
    "# print('HistGradient of RMSLE is ==>', hist_rmsle)\n",
    "# # HistGradient of RMSLE is ==> 0.1504204804153264       \n",
    "\n",
    "# #LightGBM \n",
    "# lgb_md = LGBMRegressor(objective = 'rmse', \n",
    "#                         n_estimators = 1000,\n",
    "#                         max_depth = 15,\n",
    "#                         learning_rate = 0.01,\n",
    "#                         num_leaves = 105,\n",
    "#                         reg_alpha = 8,\n",
    "#                         reg_lambda = 3,\n",
    "#                         subsample = 0.6,\n",
    "#                         colsample_bytree = 0.8,\n",
    "#                         device = 'gpu').fit(X_train, y_train)\n",
    "    \n",
    "# # lgb_pred = lgb_md.predict(X_test)\n",
    "# # lgm_msle = mean_squared_log_error(y_test, lgb_pred)\n",
    "# # lgb_rmsle = np.sqrt(lgm_msle)\n",
    "# # print('LightGBM of RMSLE is ==>', lgb_rmsle)\n",
    "\n",
    "# lgb_pred = lgb_md.predict(X_test)\n",
    "# lgb_rmsle = RMSLE(y_test, lgb_pred)\n",
    "# print('LightGBM of RMSLE is ==>', lgb_rmsle)\n",
    "\n",
    "# lgb_pred = np.expm1(lgb_md.predict(X_test))\n",
    "# lgm_mse = mean_squared_error(y_test, lgb_pred)\n",
    "# lgb_rmse = np.sqrt(lgm_mse)\n",
    "# print('LightGBM of RMSE is ==>', lgb_rmse)\n",
    "\n",
    "#LightGBM of RMSLE is ==> 0.14926952959686546\n",
    "\n",
    "# #XGBoost         \n",
    "# xgb_md = XGBRegressor(objective = 'reg:absoluteerror',\n",
    "#                         tree_method = 'gpu_hist',\n",
    "#                         eval_metric= 'rmse',\n",
    "#                         colsample_bytree = 0.9, \n",
    "#                         gamma = 0.65, \n",
    "#                         learning_rate = 0.01, \n",
    "#                         max_depth = 7, \n",
    "#                         min_child_weight = 20, \n",
    "#                         n_estimators = 1000, \n",
    "#                         subsample = 0.7).fit(X_train, y_train)\n",
    "# xgb_pred = xgb_md.predict(X_test)\n",
    "# xgm_msle = mean_squared_log_error(y_test, xgb_pred)\n",
    "# xgb_rmsle = np.sqrt(xgm_msle)\n",
    "# print('XGBoost of RMSLE is ==>', xgb_rmsle)\n",
    "# # XGBoost of RMSLE is ==> 0.1520093835487581"
   ]
  },
  {
   "cell_type": "code",
   "execution_count": 30,
   "id": "3b7142ac",
   "metadata": {
    "execution": {
     "iopub.execute_input": "2024-04-15T11:41:57.282855Z",
     "iopub.status.busy": "2024-04-15T11:41:57.282139Z",
     "iopub.status.idle": "2024-04-15T11:41:57.287480Z",
     "shell.execute_reply": "2024-04-15T11:41:57.286658Z"
    },
    "papermill": {
     "duration": 0.024097,
     "end_time": "2024-04-15T11:41:57.289399",
     "exception": false,
     "start_time": "2024-04-15T11:41:57.265302",
     "status": "completed"
    },
    "tags": []
   },
   "outputs": [],
   "source": [
    "# import lightgbm as lgb\n",
    "\n",
    "# #hyperparameter tuning\n",
    "# import optuna\n",
    "\n",
    "# def objective(trial):\n",
    "#     n_estimators = trial.suggest_int('n_estimators', 100, 10000)\n",
    "#     learning_rate = trial.suggest_float('learning_rate', 0.001, 2.00)\n",
    "#     max_depth = trial.suggest_int('max_depth', 5, 100)\n",
    "#     subsample = trial.suggest_float('subsample', 0.2, 1.0)\n",
    "#     colsample_bytree = trial.suggest_float('colsample_bytree', 0.2, 1.0)\n",
    "#     num_leaves = trial.suggest_int('num_leaves', 1, 500)\n",
    "#     min_child_weight = trial.suggest_float('min_child_weight', 0.1, 4.0)\n",
    "#     reg_alpha = trial.suggest_float('reg_alpha', 0.1, 20.0),\n",
    "#     reg_lambda = trial.suggest_float('reg_lambda', 0.1, 20.0)\n",
    "\n",
    "#     model = LGBMRegressor(\n",
    "#         metric = 'rmsle',\n",
    "#         n_estimators=n_estimators,\n",
    "#         learning_rate=learning_rate,\n",
    "#         max_depth=max_depth,\n",
    "#         subsample=subsample,\n",
    "#         colsample_bytree=colsample_bytree,\n",
    "#         min_child_weight = min_child_weight,\n",
    "#         num_leaves=num_leaves,\n",
    "#         reg_alpha= reg_alpha,\n",
    "#         reg_lambda=reg_lambda,\n",
    "#         verbose= -1,\n",
    "#         random_state=42\n",
    "#     )\n",
    "    \n",
    "#     model.fit(X_train, y_train)\n",
    "# #     xgb_pred = model.predict(X_test)\n",
    "# #     xgm_msle = mean_squared_log_error(y_test, xgb_pred)\n",
    "# #     xgb_rmsle = np.sqrt(xgm_msle)\n",
    "#     xgb_pred = model.predict(X_test)\n",
    "#     xgb_rmsle = RMSLE(y_test, xgb_pred)\n",
    "#     return xgb_rmsle\n",
    "\n",
    "# study = optuna.create_study(direction='minimize')\n",
    "# study.optimize(objective, n_trials=100)\n",
    "\n",
    "# best_params = study.best_params\n",
    "# print(\"Best Hyperparameters (LightGBM):\", best_params)"
   ]
  },
  {
   "cell_type": "code",
   "execution_count": 31,
   "id": "a2847d55",
   "metadata": {
    "execution": {
     "iopub.execute_input": "2024-04-15T11:41:57.321979Z",
     "iopub.status.busy": "2024-04-15T11:41:57.321705Z",
     "iopub.status.idle": "2024-04-15T11:41:57.326279Z",
     "shell.execute_reply": "2024-04-15T11:41:57.325456Z"
    },
    "papermill": {
     "duration": 0.022956,
     "end_time": "2024-04-15T11:41:57.328075",
     "exception": false,
     "start_time": "2024-04-15T11:41:57.305119",
     "status": "completed"
    },
    "tags": []
   },
   "outputs": [],
   "source": [
    "LGBMParams = {'n_estimators': 1780, 'learning_rate': 0.0013160072489254663, 'max_depth': 82, 'subsample': 0.5975330965836683, 'colsample_bytree': 0.6441762203013626, 'num_leaves': 98, 'min_child_weight': 0.5767525458115033, 'reg_alpha': 5.2921011114012275, 'reg_lambda': 11.89097883821672}"
   ]
  },
  {
   "cell_type": "code",
   "execution_count": 32,
   "id": "ac9dafd9",
   "metadata": {
    "execution": {
     "iopub.execute_input": "2024-04-15T11:41:57.360302Z",
     "iopub.status.busy": "2024-04-15T11:41:57.360025Z",
     "iopub.status.idle": "2024-04-15T11:42:10.582500Z",
     "shell.execute_reply": "2024-04-15T11:42:10.581528Z"
    },
    "papermill": {
     "duration": 13.240878,
     "end_time": "2024-04-15T11:42:10.584630",
     "exception": false,
     "start_time": "2024-04-15T11:41:57.343752",
     "status": "completed"
    },
    "tags": []
   },
   "outputs": [
    {
     "data": {
      "text/html": [
       "<style>#sk-container-id-1 {color: black;background-color: white;}#sk-container-id-1 pre{padding: 0;}#sk-container-id-1 div.sk-toggleable {background-color: white;}#sk-container-id-1 label.sk-toggleable__label {cursor: pointer;display: block;width: 100%;margin-bottom: 0;padding: 0.3em;box-sizing: border-box;text-align: center;}#sk-container-id-1 label.sk-toggleable__label-arrow:before {content: \"▸\";float: left;margin-right: 0.25em;color: #696969;}#sk-container-id-1 label.sk-toggleable__label-arrow:hover:before {color: black;}#sk-container-id-1 div.sk-estimator:hover label.sk-toggleable__label-arrow:before {color: black;}#sk-container-id-1 div.sk-toggleable__content {max-height: 0;max-width: 0;overflow: hidden;text-align: left;background-color: #f0f8ff;}#sk-container-id-1 div.sk-toggleable__content pre {margin: 0.2em;color: black;border-radius: 0.25em;background-color: #f0f8ff;}#sk-container-id-1 input.sk-toggleable__control:checked~div.sk-toggleable__content {max-height: 200px;max-width: 100%;overflow: auto;}#sk-container-id-1 input.sk-toggleable__control:checked~label.sk-toggleable__label-arrow:before {content: \"▾\";}#sk-container-id-1 div.sk-estimator input.sk-toggleable__control:checked~label.sk-toggleable__label {background-color: #d4ebff;}#sk-container-id-1 div.sk-label input.sk-toggleable__control:checked~label.sk-toggleable__label {background-color: #d4ebff;}#sk-container-id-1 input.sk-hidden--visually {border: 0;clip: rect(1px 1px 1px 1px);clip: rect(1px, 1px, 1px, 1px);height: 1px;margin: -1px;overflow: hidden;padding: 0;position: absolute;width: 1px;}#sk-container-id-1 div.sk-estimator {font-family: monospace;background-color: #f0f8ff;border: 1px dotted black;border-radius: 0.25em;box-sizing: border-box;margin-bottom: 0.5em;}#sk-container-id-1 div.sk-estimator:hover {background-color: #d4ebff;}#sk-container-id-1 div.sk-parallel-item::after {content: \"\";width: 100%;border-bottom: 1px solid gray;flex-grow: 1;}#sk-container-id-1 div.sk-label:hover label.sk-toggleable__label {background-color: #d4ebff;}#sk-container-id-1 div.sk-serial::before {content: \"\";position: absolute;border-left: 1px solid gray;box-sizing: border-box;top: 0;bottom: 0;left: 50%;z-index: 0;}#sk-container-id-1 div.sk-serial {display: flex;flex-direction: column;align-items: center;background-color: white;padding-right: 0.2em;padding-left: 0.2em;position: relative;}#sk-container-id-1 div.sk-item {position: relative;z-index: 1;}#sk-container-id-1 div.sk-parallel {display: flex;align-items: stretch;justify-content: center;background-color: white;position: relative;}#sk-container-id-1 div.sk-item::before, #sk-container-id-1 div.sk-parallel-item::before {content: \"\";position: absolute;border-left: 1px solid gray;box-sizing: border-box;top: 0;bottom: 0;left: 50%;z-index: -1;}#sk-container-id-1 div.sk-parallel-item {display: flex;flex-direction: column;z-index: 1;position: relative;background-color: white;}#sk-container-id-1 div.sk-parallel-item:first-child::after {align-self: flex-end;width: 50%;}#sk-container-id-1 div.sk-parallel-item:last-child::after {align-self: flex-start;width: 50%;}#sk-container-id-1 div.sk-parallel-item:only-child::after {width: 0;}#sk-container-id-1 div.sk-dashed-wrapped {border: 1px dashed gray;margin: 0 0.4em 0.5em 0.4em;box-sizing: border-box;padding-bottom: 0.4em;background-color: white;}#sk-container-id-1 div.sk-label label {font-family: monospace;font-weight: bold;display: inline-block;line-height: 1.2em;}#sk-container-id-1 div.sk-label-container {text-align: center;}#sk-container-id-1 div.sk-container {/* jupyter's `normalize.less` sets `[hidden] { display: none; }` but bootstrap.min.css set `[hidden] { display: none !important; }` so we also need the `!important` here to be able to override the default hidden behavior on the sphinx rendered scikit-learn.org. See: https://github.com/scikit-learn/scikit-learn/issues/21755 */display: inline-block !important;position: relative;}#sk-container-id-1 div.sk-text-repr-fallback {display: none;}</style><div id=\"sk-container-id-1\" class=\"sk-top-container\"><div class=\"sk-text-repr-fallback\"><pre>LGBMRegressor(colsample_bytree=0.6441762203013626,\n",
       "              learning_rate=0.0013160072489254663, max_depth=82, metric=&#x27;rmsle&#x27;,\n",
       "              min_child_weight=0.5767525458115033, n_estimators=1780,\n",
       "              num_leaves=98, random_state=42, reg_alpha=5.2921011114012275,\n",
       "              reg_lambda=11.89097883821672, subsample=0.5975330965836683,\n",
       "              verbose=-1)</pre><b>In a Jupyter environment, please rerun this cell to show the HTML representation or trust the notebook. <br />On GitHub, the HTML representation is unable to render, please try loading this page with nbviewer.org.</b></div><div class=\"sk-container\" hidden><div class=\"sk-item\"><div class=\"sk-estimator sk-toggleable\"><input class=\"sk-toggleable__control sk-hidden--visually\" id=\"sk-estimator-id-1\" type=\"checkbox\" checked><label for=\"sk-estimator-id-1\" class=\"sk-toggleable__label sk-toggleable__label-arrow\">LGBMRegressor</label><div class=\"sk-toggleable__content\"><pre>LGBMRegressor(colsample_bytree=0.6441762203013626,\n",
       "              learning_rate=0.0013160072489254663, max_depth=82, metric=&#x27;rmsle&#x27;,\n",
       "              min_child_weight=0.5767525458115033, n_estimators=1780,\n",
       "              num_leaves=98, random_state=42, reg_alpha=5.2921011114012275,\n",
       "              reg_lambda=11.89097883821672, subsample=0.5975330965836683,\n",
       "              verbose=-1)</pre></div></div></div></div></div>"
      ],
      "text/plain": [
       "LGBMRegressor(colsample_bytree=0.6441762203013626,\n",
       "              learning_rate=0.0013160072489254663, max_depth=82, metric='rmsle',\n",
       "              min_child_weight=0.5767525458115033, n_estimators=1780,\n",
       "              num_leaves=98, random_state=42, reg_alpha=5.2921011114012275,\n",
       "              reg_lambda=11.89097883821672, subsample=0.5975330965836683,\n",
       "              verbose=-1)"
      ]
     },
     "execution_count": 32,
     "metadata": {},
     "output_type": "execute_result"
    }
   ],
   "source": [
    "final_model = LGBMRegressor( **LGBMParams,\n",
    "        metric = 'rmsle',\n",
    "        verbose= -1,\n",
    "        random_state=42\n",
    "    )\n",
    "    \n",
    "final_model.fit(X_train, y_train)"
   ]
  },
  {
   "cell_type": "code",
   "execution_count": 33,
   "id": "a3dde202",
   "metadata": {
    "execution": {
     "iopub.execute_input": "2024-04-15T11:42:10.619432Z",
     "iopub.status.busy": "2024-04-15T11:42:10.618723Z",
     "iopub.status.idle": "2024-04-15T11:42:10.622536Z",
     "shell.execute_reply": "2024-04-15T11:42:10.621695Z"
    },
    "papermill": {
     "duration": 0.023148,
     "end_time": "2024-04-15T11:42:10.624446",
     "exception": false,
     "start_time": "2024-04-15T11:42:10.601298",
     "status": "completed"
    },
    "tags": []
   },
   "outputs": [],
   "source": [
    "# predictions= np.expm1(lgb_md.predict(test_sc))\n",
    "# predictions"
   ]
  },
  {
   "cell_type": "code",
   "execution_count": 34,
   "id": "da53134b",
   "metadata": {
    "execution": {
     "iopub.execute_input": "2024-04-15T11:42:10.659095Z",
     "iopub.status.busy": "2024-04-15T11:42:10.658799Z",
     "iopub.status.idle": "2024-04-15T11:42:18.414921Z",
     "shell.execute_reply": "2024-04-15T11:42:18.413894Z"
    },
    "papermill": {
     "duration": 7.776888,
     "end_time": "2024-04-15T11:42:18.417420",
     "exception": false,
     "start_time": "2024-04-15T11:42:10.640532",
     "status": "completed"
    },
    "tags": []
   },
   "outputs": [
    {
     "data": {
      "text/plain": [
       "array([10.02740444, 10.13502998, 10.21148461, ..., 11.35007593,\n",
       "       12.81140637,  9.28039647])"
      ]
     },
     "execution_count": 34,
     "metadata": {},
     "output_type": "execute_result"
    }
   ],
   "source": [
    "predictions= final_model.predict(test_sc)\n",
    "predictions"
   ]
  },
  {
   "cell_type": "code",
   "execution_count": 35,
   "id": "a6b376c8",
   "metadata": {
    "execution": {
     "iopub.execute_input": "2024-04-15T11:42:18.455862Z",
     "iopub.status.busy": "2024-04-15T11:42:18.455275Z",
     "iopub.status.idle": "2024-04-15T11:42:18.507998Z",
     "shell.execute_reply": "2024-04-15T11:42:18.507111Z"
    },
    "papermill": {
     "duration": 0.073167,
     "end_time": "2024-04-15T11:42:18.510093",
     "exception": false,
     "start_time": "2024-04-15T11:42:18.436926",
     "status": "completed"
    },
    "tags": []
   },
   "outputs": [
    {
     "data": {
      "text/html": [
       "<div>\n",
       "<style scoped>\n",
       "    .dataframe tbody tr th:only-of-type {\n",
       "        vertical-align: middle;\n",
       "    }\n",
       "\n",
       "    .dataframe tbody tr th {\n",
       "        vertical-align: top;\n",
       "    }\n",
       "\n",
       "    .dataframe thead th {\n",
       "        text-align: right;\n",
       "    }\n",
       "</style>\n",
       "<table border=\"1\" class=\"dataframe\">\n",
       "  <thead>\n",
       "    <tr style=\"text-align: right;\">\n",
       "      <th></th>\n",
       "      <th>id</th>\n",
       "      <th>Rings</th>\n",
       "    </tr>\n",
       "  </thead>\n",
       "  <tbody>\n",
       "    <tr>\n",
       "      <th>0</th>\n",
       "      <td>90615</td>\n",
       "      <td>10</td>\n",
       "    </tr>\n",
       "    <tr>\n",
       "      <th>1</th>\n",
       "      <td>90616</td>\n",
       "      <td>10</td>\n",
       "    </tr>\n",
       "    <tr>\n",
       "      <th>2</th>\n",
       "      <td>90617</td>\n",
       "      <td>10</td>\n",
       "    </tr>\n",
       "    <tr>\n",
       "      <th>3</th>\n",
       "      <td>90618</td>\n",
       "      <td>10</td>\n",
       "    </tr>\n",
       "    <tr>\n",
       "      <th>4</th>\n",
       "      <td>90619</td>\n",
       "      <td>10</td>\n",
       "    </tr>\n",
       "    <tr>\n",
       "      <th>...</th>\n",
       "      <td>...</td>\n",
       "      <td>...</td>\n",
       "    </tr>\n",
       "    <tr>\n",
       "      <th>60406</th>\n",
       "      <td>151021</td>\n",
       "      <td>10</td>\n",
       "    </tr>\n",
       "    <tr>\n",
       "      <th>60407</th>\n",
       "      <td>151022</td>\n",
       "      <td>10</td>\n",
       "    </tr>\n",
       "    <tr>\n",
       "      <th>60408</th>\n",
       "      <td>151023</td>\n",
       "      <td>10</td>\n",
       "    </tr>\n",
       "    <tr>\n",
       "      <th>60409</th>\n",
       "      <td>151024</td>\n",
       "      <td>10</td>\n",
       "    </tr>\n",
       "    <tr>\n",
       "      <th>60410</th>\n",
       "      <td>151025</td>\n",
       "      <td>10</td>\n",
       "    </tr>\n",
       "  </tbody>\n",
       "</table>\n",
       "<p>60411 rows × 2 columns</p>\n",
       "</div>"
      ],
      "text/plain": [
       "           id  Rings\n",
       "0       90615     10\n",
       "1       90616     10\n",
       "2       90617     10\n",
       "3       90618     10\n",
       "4       90619     10\n",
       "...       ...    ...\n",
       "60406  151021     10\n",
       "60407  151022     10\n",
       "60408  151023     10\n",
       "60409  151024     10\n",
       "60410  151025     10\n",
       "\n",
       "[60411 rows x 2 columns]"
      ]
     },
     "execution_count": 35,
     "metadata": {},
     "output_type": "execute_result"
    }
   ],
   "source": [
    "submission = pd.read_csv('/kaggle/input/playground-series-s4e4/sample_submission.csv')\n",
    "submission"
   ]
  },
  {
   "cell_type": "code",
   "execution_count": 36,
   "id": "94a15b96",
   "metadata": {
    "execution": {
     "iopub.execute_input": "2024-04-15T11:42:18.546786Z",
     "iopub.status.busy": "2024-04-15T11:42:18.546249Z",
     "iopub.status.idle": "2024-04-15T11:42:18.747549Z",
     "shell.execute_reply": "2024-04-15T11:42:18.746698Z"
    },
    "papermill": {
     "duration": 0.221812,
     "end_time": "2024-04-15T11:42:18.749698",
     "exception": false,
     "start_time": "2024-04-15T11:42:18.527886",
     "status": "completed"
    },
    "tags": []
   },
   "outputs": [
    {
     "data": {
      "text/html": [
       "<div>\n",
       "<style scoped>\n",
       "    .dataframe tbody tr th:only-of-type {\n",
       "        vertical-align: middle;\n",
       "    }\n",
       "\n",
       "    .dataframe tbody tr th {\n",
       "        vertical-align: top;\n",
       "    }\n",
       "\n",
       "    .dataframe thead th {\n",
       "        text-align: right;\n",
       "    }\n",
       "</style>\n",
       "<table border=\"1\" class=\"dataframe\">\n",
       "  <thead>\n",
       "    <tr style=\"text-align: right;\">\n",
       "      <th></th>\n",
       "      <th>id</th>\n",
       "      <th>Rings</th>\n",
       "    </tr>\n",
       "  </thead>\n",
       "  <tbody>\n",
       "    <tr>\n",
       "      <th>0</th>\n",
       "      <td>90615</td>\n",
       "      <td>10.027404</td>\n",
       "    </tr>\n",
       "    <tr>\n",
       "      <th>1</th>\n",
       "      <td>90616</td>\n",
       "      <td>10.135030</td>\n",
       "    </tr>\n",
       "    <tr>\n",
       "      <th>2</th>\n",
       "      <td>90617</td>\n",
       "      <td>10.211485</td>\n",
       "    </tr>\n",
       "    <tr>\n",
       "      <th>3</th>\n",
       "      <td>90618</td>\n",
       "      <td>10.451065</td>\n",
       "    </tr>\n",
       "    <tr>\n",
       "      <th>4</th>\n",
       "      <td>90619</td>\n",
       "      <td>7.847341</td>\n",
       "    </tr>\n",
       "  </tbody>\n",
       "</table>\n",
       "</div>"
      ],
      "text/plain": [
       "      id      Rings\n",
       "0  90615  10.027404\n",
       "1  90616  10.135030\n",
       "2  90617  10.211485\n",
       "3  90618  10.451065\n",
       "4  90619   7.847341"
      ]
     },
     "execution_count": 36,
     "metadata": {},
     "output_type": "execute_result"
    }
   ],
   "source": [
    "submission['Rings']= predictions\n",
    "submission.to_csv('submission.csv', index=False)\n",
    "submission.head()"
   ]
  }
 ],
 "metadata": {
  "kaggle": {
   "accelerator": "nvidiaTeslaT4",
   "dataSources": [
    {
     "databundleVersionId": 8096274,
     "sourceId": 72489,
     "sourceType": "competition"
    },
    {
     "datasetId": 37691,
     "sourceId": 57419,
     "sourceType": "datasetVersion"
    },
    {
     "datasetId": 102531,
     "sourceId": 243198,
     "sourceType": "datasetVersion"
    }
   ],
   "dockerImageVersionId": 30674,
   "isGpuEnabled": true,
   "isInternetEnabled": true,
   "language": "python",
   "sourceType": "notebook"
  },
  "kernelspec": {
   "display_name": "Python 3",
   "language": "python",
   "name": "python3"
  },
  "language_info": {
   "codemirror_mode": {
    "name": "ipython",
    "version": 3
   },
   "file_extension": ".py",
   "mimetype": "text/x-python",
   "name": "python",
   "nbconvert_exporter": "python",
   "pygments_lexer": "ipython3",
   "version": "3.10.13"
  },
  "papermill": {
   "default_parameters": {},
   "duration": 42.675299,
   "end_time": "2024-04-15T11:42:19.386177",
   "environment_variables": {},
   "exception": null,
   "input_path": "__notebook__.ipynb",
   "output_path": "__notebook__.ipynb",
   "parameters": {},
   "start_time": "2024-04-15T11:41:36.710878",
   "version": "2.5.0"
  }
 },
 "nbformat": 4,
 "nbformat_minor": 5
}
