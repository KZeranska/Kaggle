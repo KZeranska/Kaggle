{
 "cells": [
  {
   "cell_type": "code",
   "execution_count": 1,
   "id": "04e7c282",
   "metadata": {
    "_cell_guid": "b1076dfc-b9ad-4769-8c92-a6c4dae69d19",
    "_uuid": "8f2839f25d086af736a60e9eeb907d3b93b6e0e5",
    "execution": {
     "iopub.execute_input": "2024-03-19T09:58:55.144361Z",
     "iopub.status.busy": "2024-03-19T09:58:55.144025Z",
     "iopub.status.idle": "2024-03-19T09:58:55.951141Z",
     "shell.execute_reply": "2024-03-19T09:58:55.950196Z"
    },
    "papermill": {
     "duration": 0.822574,
     "end_time": "2024-03-19T09:58:55.953291",
     "exception": false,
     "start_time": "2024-03-19T09:58:55.130717",
     "status": "completed"
    },
    "tags": []
   },
   "outputs": [
    {
     "name": "stdout",
     "output_type": "stream",
     "text": [
      "/kaggle/input/obesity-or-cvd-risk-classifyregressorcluster/ObesityDataSet.csv\n",
      "/kaggle/input/playground-series-s4e2/sample_submission.csv\n",
      "/kaggle/input/playground-series-s4e2/train.csv\n",
      "/kaggle/input/playground-series-s4e2/test.csv\n"
     ]
    }
   ],
   "source": [
    "# This Python 3 environment comes with many helpful analytics libraries installed\n",
    "# It is defined by the kaggle/python Docker image: https://github.com/kaggle/docker-python\n",
    "# For example, here's several helpful packages to load\n",
    "\n",
    "import numpy as np # linear algebra\n",
    "import pandas as pd # data processing, CSV file I/O (e.g. pd.read_csv)\n",
    "\n",
    "# Input data files are available in the read-only \"../input/\" directory\n",
    "# For example, running this (by clicking run or pressing Shift+Enter) will list all files under the input directory\n",
    "\n",
    "import os\n",
    "for dirname, _, filenames in os.walk('/kaggle/input'):\n",
    "    for filename in filenames:\n",
    "        print(os.path.join(dirname, filename))\n",
    "\n",
    "# You can write up to 20GB to the current directory (/kaggle/working/) that gets preserved as output when you create a version using \"Save & Run All\" \n",
    "# You can also write temporary files to /kaggle/temp/, but they won't be saved outside of the current session"
   ]
  },
  {
   "cell_type": "code",
   "execution_count": 2,
   "id": "a868c465",
   "metadata": {
    "execution": {
     "iopub.execute_input": "2024-03-19T09:58:55.978072Z",
     "iopub.status.busy": "2024-03-19T09:58:55.977292Z",
     "iopub.status.idle": "2024-03-19T09:59:01.993817Z",
     "shell.execute_reply": "2024-03-19T09:59:01.993001Z"
    },
    "papermill": {
     "duration": 6.031254,
     "end_time": "2024-03-19T09:59:01.996221",
     "exception": false,
     "start_time": "2024-03-19T09:58:55.964967",
     "status": "completed"
    },
    "tags": []
   },
   "outputs": [
    {
     "name": "stderr",
     "output_type": "stream",
     "text": [
      "/opt/conda/lib/python3.10/site-packages/dask/dataframe/_pyarrow_compat.py:23: UserWarning: You are using pyarrow version 11.0.0 which is known to be insecure. See https://www.cve.org/CVERecord?id=CVE-2023-47248 for further details. Please upgrade to pyarrow>=14.0.1 or install pyarrow-hotfix to patch your current version.\n",
      "  warnings.warn(\n"
     ]
    }
   ],
   "source": [
    "import matplotlib.pyplot as plt\n",
    "import seaborn as sns\n",
    "\n",
    "from sklearn.preprocessing import OrdinalEncoder, OneHotEncoder\n",
    "\n",
    "from sklearn.model_selection import train_test_split\n",
    "from lightgbm import LGBMClassifier\n",
    "\n",
    "from sklearn.metrics import confusion_matrix, accuracy_score, classification_report"
   ]
  },
  {
   "cell_type": "code",
   "execution_count": 3,
   "id": "35dff41a",
   "metadata": {
    "execution": {
     "iopub.execute_input": "2024-03-19T09:59:02.021687Z",
     "iopub.status.busy": "2024-03-19T09:59:02.021087Z",
     "iopub.status.idle": "2024-03-19T09:59:02.259707Z",
     "shell.execute_reply": "2024-03-19T09:59:02.258855Z"
    },
    "papermill": {
     "duration": 0.253821,
     "end_time": "2024-03-19T09:59:02.262153",
     "exception": false,
     "start_time": "2024-03-19T09:59:02.008332",
     "status": "completed"
    },
    "tags": []
   },
   "outputs": [],
   "source": [
    "obesity_df_basic = pd.read_csv(\"/kaggle/input/playground-series-s4e2/train.csv\")\n",
    "obesity_df_original = pd.read_csv('/kaggle/input/obesity-or-cvd-risk-classifyregressorcluster/ObesityDataSet.csv')\n",
    "obesity_test = pd.read_csv(\"/kaggle/input/playground-series-s4e2/test.csv\")"
   ]
  },
  {
   "cell_type": "code",
   "execution_count": 4,
   "id": "19511d9f",
   "metadata": {
    "execution": {
     "iopub.execute_input": "2024-03-19T09:59:02.290729Z",
     "iopub.status.busy": "2024-03-19T09:59:02.290124Z",
     "iopub.status.idle": "2024-03-19T09:59:02.294291Z",
     "shell.execute_reply": "2024-03-19T09:59:02.293386Z"
    },
    "papermill": {
     "duration": 0.021206,
     "end_time": "2024-03-19T09:59:02.296385",
     "exception": false,
     "start_time": "2024-03-19T09:59:02.275179",
     "status": "completed"
    },
    "tags": []
   },
   "outputs": [],
   "source": [
    "test_data= obesity_test"
   ]
  },
  {
   "cell_type": "code",
   "execution_count": 5,
   "id": "27520141",
   "metadata": {
    "execution": {
     "iopub.execute_input": "2024-03-19T09:59:02.322268Z",
     "iopub.status.busy": "2024-03-19T09:59:02.321957Z",
     "iopub.status.idle": "2024-03-19T09:59:02.355530Z",
     "shell.execute_reply": "2024-03-19T09:59:02.354454Z"
    },
    "papermill": {
     "duration": 0.048832,
     "end_time": "2024-03-19T09:59:02.357426",
     "exception": false,
     "start_time": "2024-03-19T09:59:02.308594",
     "status": "completed"
    },
    "tags": []
   },
   "outputs": [
    {
     "name": "stdout",
     "output_type": "stream",
     "text": [
      "<class 'pandas.core.frame.DataFrame'>\n",
      "RangeIndex: 2111 entries, 0 to 2110\n",
      "Data columns (total 17 columns):\n",
      " #   Column                          Non-Null Count  Dtype  \n",
      "---  ------                          --------------  -----  \n",
      " 0   Gender                          2111 non-null   object \n",
      " 1   Age                             2111 non-null   float64\n",
      " 2   Height                          2111 non-null   float64\n",
      " 3   Weight                          2111 non-null   float64\n",
      " 4   family_history_with_overweight  2111 non-null   object \n",
      " 5   FAVC                            2111 non-null   object \n",
      " 6   FCVC                            2111 non-null   float64\n",
      " 7   NCP                             2111 non-null   float64\n",
      " 8   CAEC                            2111 non-null   object \n",
      " 9   SMOKE                           2111 non-null   object \n",
      " 10  CH2O                            2111 non-null   float64\n",
      " 11  SCC                             2111 non-null   object \n",
      " 12  FAF                             2111 non-null   float64\n",
      " 13  TUE                             2111 non-null   float64\n",
      " 14  CALC                            2111 non-null   object \n",
      " 15  MTRANS                          2111 non-null   object \n",
      " 16  NObeyesdad                      2111 non-null   object \n",
      "dtypes: float64(8), object(9)\n",
      "memory usage: 280.5+ KB\n",
      "None\n",
      "(2111, 17)\n",
      "Index(['Gender', 'Age', 'Height', 'Weight', 'family_history_with_overweight',\n",
      "       'FAVC', 'FCVC', 'NCP', 'CAEC', 'SMOKE', 'CH2O', 'SCC', 'FAF', 'TUE',\n",
      "       'CALC', 'MTRANS', 'NObeyesdad'],\n",
      "      dtype='object')\n"
     ]
    }
   ],
   "source": [
    "print(obesity_df_original.info())\n",
    "print(obesity_df_original.shape)\n",
    "print(obesity_df_original.columns)"
   ]
  },
  {
   "cell_type": "code",
   "execution_count": 6,
   "id": "f812d3a8",
   "metadata": {
    "execution": {
     "iopub.execute_input": "2024-03-19T09:59:02.382847Z",
     "iopub.status.busy": "2024-03-19T09:59:02.382309Z",
     "iopub.status.idle": "2024-03-19T09:59:02.424946Z",
     "shell.execute_reply": "2024-03-19T09:59:02.424044Z"
    },
    "papermill": {
     "duration": 0.058081,
     "end_time": "2024-03-19T09:59:02.427655",
     "exception": false,
     "start_time": "2024-03-19T09:59:02.369574",
     "status": "completed"
    },
    "tags": []
   },
   "outputs": [],
   "source": [
    "obesity_df= pd.concat([obesity_df_basic, obesity_df_original]).drop_duplicates()"
   ]
  },
  {
   "cell_type": "code",
   "execution_count": 7,
   "id": "5f4e95d9",
   "metadata": {
    "execution": {
     "iopub.execute_input": "2024-03-19T09:59:02.454349Z",
     "iopub.status.busy": "2024-03-19T09:59:02.453690Z",
     "iopub.status.idle": "2024-03-19T09:59:02.458685Z",
     "shell.execute_reply": "2024-03-19T09:59:02.457756Z"
    },
    "papermill": {
     "duration": 0.020892,
     "end_time": "2024-03-19T09:59:02.461084",
     "exception": false,
     "start_time": "2024-03-19T09:59:02.440192",
     "status": "completed"
    },
    "tags": []
   },
   "outputs": [
    {
     "name": "stdout",
     "output_type": "stream",
     "text": [
      "(20758, 18)\n",
      "(2111, 17)\n",
      "(22845, 18)\n"
     ]
    }
   ],
   "source": [
    "print(obesity_df_basic.shape)\n",
    "print(obesity_df_original.shape)\n",
    "print(obesity_df.shape)"
   ]
  },
  {
   "cell_type": "code",
   "execution_count": 8,
   "id": "7c8ba10c",
   "metadata": {
    "execution": {
     "iopub.execute_input": "2024-03-19T09:59:02.486747Z",
     "iopub.status.busy": "2024-03-19T09:59:02.486453Z",
     "iopub.status.idle": "2024-03-19T09:59:02.512516Z",
     "shell.execute_reply": "2024-03-19T09:59:02.511675Z"
    },
    "papermill": {
     "duration": 0.041055,
     "end_time": "2024-03-19T09:59:02.514548",
     "exception": false,
     "start_time": "2024-03-19T09:59:02.473493",
     "status": "completed"
    },
    "tags": []
   },
   "outputs": [
    {
     "data": {
      "text/html": [
       "<div>\n",
       "<style scoped>\n",
       "    .dataframe tbody tr th:only-of-type {\n",
       "        vertical-align: middle;\n",
       "    }\n",
       "\n",
       "    .dataframe tbody tr th {\n",
       "        vertical-align: top;\n",
       "    }\n",
       "\n",
       "    .dataframe thead th {\n",
       "        text-align: right;\n",
       "    }\n",
       "</style>\n",
       "<table border=\"1\" class=\"dataframe\">\n",
       "  <thead>\n",
       "    <tr style=\"text-align: right;\">\n",
       "      <th></th>\n",
       "      <th>id</th>\n",
       "      <th>Gender</th>\n",
       "      <th>Age</th>\n",
       "      <th>Height</th>\n",
       "      <th>Weight</th>\n",
       "      <th>family_history_with_overweight</th>\n",
       "      <th>FAVC</th>\n",
       "      <th>FCVC</th>\n",
       "      <th>NCP</th>\n",
       "      <th>CAEC</th>\n",
       "      <th>SMOKE</th>\n",
       "      <th>CH2O</th>\n",
       "      <th>SCC</th>\n",
       "      <th>FAF</th>\n",
       "      <th>TUE</th>\n",
       "      <th>CALC</th>\n",
       "      <th>MTRANS</th>\n",
       "      <th>NObeyesdad</th>\n",
       "    </tr>\n",
       "  </thead>\n",
       "  <tbody>\n",
       "    <tr>\n",
       "      <th>0</th>\n",
       "      <td>0.0</td>\n",
       "      <td>Male</td>\n",
       "      <td>24.443011</td>\n",
       "      <td>1.699998</td>\n",
       "      <td>81.669950</td>\n",
       "      <td>yes</td>\n",
       "      <td>yes</td>\n",
       "      <td>2.000000</td>\n",
       "      <td>2.983297</td>\n",
       "      <td>Sometimes</td>\n",
       "      <td>no</td>\n",
       "      <td>2.763573</td>\n",
       "      <td>no</td>\n",
       "      <td>0.000000</td>\n",
       "      <td>0.976473</td>\n",
       "      <td>Sometimes</td>\n",
       "      <td>Public_Transportation</td>\n",
       "      <td>Overweight_Level_II</td>\n",
       "    </tr>\n",
       "    <tr>\n",
       "      <th>1</th>\n",
       "      <td>1.0</td>\n",
       "      <td>Female</td>\n",
       "      <td>18.000000</td>\n",
       "      <td>1.560000</td>\n",
       "      <td>57.000000</td>\n",
       "      <td>yes</td>\n",
       "      <td>yes</td>\n",
       "      <td>2.000000</td>\n",
       "      <td>3.000000</td>\n",
       "      <td>Frequently</td>\n",
       "      <td>no</td>\n",
       "      <td>2.000000</td>\n",
       "      <td>no</td>\n",
       "      <td>1.000000</td>\n",
       "      <td>1.000000</td>\n",
       "      <td>no</td>\n",
       "      <td>Automobile</td>\n",
       "      <td>Normal_Weight</td>\n",
       "    </tr>\n",
       "    <tr>\n",
       "      <th>2</th>\n",
       "      <td>2.0</td>\n",
       "      <td>Female</td>\n",
       "      <td>18.000000</td>\n",
       "      <td>1.711460</td>\n",
       "      <td>50.165754</td>\n",
       "      <td>yes</td>\n",
       "      <td>yes</td>\n",
       "      <td>1.880534</td>\n",
       "      <td>1.411685</td>\n",
       "      <td>Sometimes</td>\n",
       "      <td>no</td>\n",
       "      <td>1.910378</td>\n",
       "      <td>no</td>\n",
       "      <td>0.866045</td>\n",
       "      <td>1.673584</td>\n",
       "      <td>no</td>\n",
       "      <td>Public_Transportation</td>\n",
       "      <td>Insufficient_Weight</td>\n",
       "    </tr>\n",
       "    <tr>\n",
       "      <th>3</th>\n",
       "      <td>3.0</td>\n",
       "      <td>Female</td>\n",
       "      <td>20.952737</td>\n",
       "      <td>1.710730</td>\n",
       "      <td>131.274851</td>\n",
       "      <td>yes</td>\n",
       "      <td>yes</td>\n",
       "      <td>3.000000</td>\n",
       "      <td>3.000000</td>\n",
       "      <td>Sometimes</td>\n",
       "      <td>no</td>\n",
       "      <td>1.674061</td>\n",
       "      <td>no</td>\n",
       "      <td>1.467863</td>\n",
       "      <td>0.780199</td>\n",
       "      <td>Sometimes</td>\n",
       "      <td>Public_Transportation</td>\n",
       "      <td>Obesity_Type_III</td>\n",
       "    </tr>\n",
       "    <tr>\n",
       "      <th>4</th>\n",
       "      <td>4.0</td>\n",
       "      <td>Male</td>\n",
       "      <td>31.641081</td>\n",
       "      <td>1.914186</td>\n",
       "      <td>93.798055</td>\n",
       "      <td>yes</td>\n",
       "      <td>yes</td>\n",
       "      <td>2.679664</td>\n",
       "      <td>1.971472</td>\n",
       "      <td>Sometimes</td>\n",
       "      <td>no</td>\n",
       "      <td>1.979848</td>\n",
       "      <td>no</td>\n",
       "      <td>1.967973</td>\n",
       "      <td>0.931721</td>\n",
       "      <td>Sometimes</td>\n",
       "      <td>Public_Transportation</td>\n",
       "      <td>Overweight_Level_II</td>\n",
       "    </tr>\n",
       "  </tbody>\n",
       "</table>\n",
       "</div>"
      ],
      "text/plain": [
       "    id  Gender        Age    Height      Weight  \\\n",
       "0  0.0    Male  24.443011  1.699998   81.669950   \n",
       "1  1.0  Female  18.000000  1.560000   57.000000   \n",
       "2  2.0  Female  18.000000  1.711460   50.165754   \n",
       "3  3.0  Female  20.952737  1.710730  131.274851   \n",
       "4  4.0    Male  31.641081  1.914186   93.798055   \n",
       "\n",
       "  family_history_with_overweight FAVC      FCVC       NCP        CAEC SMOKE  \\\n",
       "0                            yes  yes  2.000000  2.983297   Sometimes    no   \n",
       "1                            yes  yes  2.000000  3.000000  Frequently    no   \n",
       "2                            yes  yes  1.880534  1.411685   Sometimes    no   \n",
       "3                            yes  yes  3.000000  3.000000   Sometimes    no   \n",
       "4                            yes  yes  2.679664  1.971472   Sometimes    no   \n",
       "\n",
       "       CH2O SCC       FAF       TUE       CALC                 MTRANS  \\\n",
       "0  2.763573  no  0.000000  0.976473  Sometimes  Public_Transportation   \n",
       "1  2.000000  no  1.000000  1.000000         no             Automobile   \n",
       "2  1.910378  no  0.866045  1.673584         no  Public_Transportation   \n",
       "3  1.674061  no  1.467863  0.780199  Sometimes  Public_Transportation   \n",
       "4  1.979848  no  1.967973  0.931721  Sometimes  Public_Transportation   \n",
       "\n",
       "            NObeyesdad  \n",
       "0  Overweight_Level_II  \n",
       "1        Normal_Weight  \n",
       "2  Insufficient_Weight  \n",
       "3     Obesity_Type_III  \n",
       "4  Overweight_Level_II  "
      ]
     },
     "execution_count": 8,
     "metadata": {},
     "output_type": "execute_result"
    }
   ],
   "source": [
    "obesity_df.head()"
   ]
  },
  {
   "cell_type": "code",
   "execution_count": 9,
   "id": "dc95a20f",
   "metadata": {
    "execution": {
     "iopub.execute_input": "2024-03-19T09:59:02.541942Z",
     "iopub.status.busy": "2024-03-19T09:59:02.541633Z",
     "iopub.status.idle": "2024-03-19T09:59:02.559530Z",
     "shell.execute_reply": "2024-03-19T09:59:02.558658Z"
    },
    "papermill": {
     "duration": 0.034106,
     "end_time": "2024-03-19T09:59:02.561474",
     "exception": false,
     "start_time": "2024-03-19T09:59:02.527368",
     "status": "completed"
    },
    "tags": []
   },
   "outputs": [
    {
     "data": {
      "text/plain": [
       "id                                0\n",
       "Gender                            0\n",
       "Age                               0\n",
       "Height                            0\n",
       "Weight                            0\n",
       "family_history_with_overweight    0\n",
       "FAVC                              0\n",
       "FCVC                              0\n",
       "NCP                               0\n",
       "CAEC                              0\n",
       "SMOKE                             0\n",
       "CH2O                              0\n",
       "SCC                               0\n",
       "FAF                               0\n",
       "TUE                               0\n",
       "CALC                              0\n",
       "MTRANS                            0\n",
       "dtype: int64"
      ]
     },
     "execution_count": 9,
     "metadata": {},
     "output_type": "execute_result"
    }
   ],
   "source": [
    "obesity_test.isna().sum()"
   ]
  },
  {
   "cell_type": "code",
   "execution_count": 10,
   "id": "f5657b6d",
   "metadata": {
    "execution": {
     "iopub.execute_input": "2024-03-19T09:59:02.587899Z",
     "iopub.status.busy": "2024-03-19T09:59:02.587374Z",
     "iopub.status.idle": "2024-03-19T09:59:02.617458Z",
     "shell.execute_reply": "2024-03-19T09:59:02.616590Z"
    },
    "papermill": {
     "duration": 0.045313,
     "end_time": "2024-03-19T09:59:02.619445",
     "exception": false,
     "start_time": "2024-03-19T09:59:02.574132",
     "status": "completed"
    },
    "tags": []
   },
   "outputs": [
    {
     "name": "stdout",
     "output_type": "stream",
     "text": [
      "<class 'pandas.core.frame.DataFrame'>\n",
      "Index: 22845 entries, 0 to 2110\n",
      "Data columns (total 18 columns):\n",
      " #   Column                          Non-Null Count  Dtype  \n",
      "---  ------                          --------------  -----  \n",
      " 0   id                              20758 non-null  float64\n",
      " 1   Gender                          22845 non-null  object \n",
      " 2   Age                             22845 non-null  float64\n",
      " 3   Height                          22845 non-null  float64\n",
      " 4   Weight                          22845 non-null  float64\n",
      " 5   family_history_with_overweight  22845 non-null  object \n",
      " 6   FAVC                            22845 non-null  object \n",
      " 7   FCVC                            22845 non-null  float64\n",
      " 8   NCP                             22845 non-null  float64\n",
      " 9   CAEC                            22845 non-null  object \n",
      " 10  SMOKE                           22845 non-null  object \n",
      " 11  CH2O                            22845 non-null  float64\n",
      " 12  SCC                             22845 non-null  object \n",
      " 13  FAF                             22845 non-null  float64\n",
      " 14  TUE                             22845 non-null  float64\n",
      " 15  CALC                            22845 non-null  object \n",
      " 16  MTRANS                          22845 non-null  object \n",
      " 17  NObeyesdad                      22845 non-null  object \n",
      "dtypes: float64(9), object(9)\n",
      "memory usage: 3.3+ MB\n",
      "None\n",
      "(22845, 18)\n",
      "Index(['id', 'Gender', 'Age', 'Height', 'Weight',\n",
      "       'family_history_with_overweight', 'FAVC', 'FCVC', 'NCP', 'CAEC',\n",
      "       'SMOKE', 'CH2O', 'SCC', 'FAF', 'TUE', 'CALC', 'MTRANS', 'NObeyesdad'],\n",
      "      dtype='object')\n"
     ]
    }
   ],
   "source": [
    "print(obesity_df.info())\n",
    "print(obesity_df.shape)\n",
    "print(obesity_df.columns)"
   ]
  },
  {
   "cell_type": "code",
   "execution_count": 11,
   "id": "1b96be0f",
   "metadata": {
    "execution": {
     "iopub.execute_input": "2024-03-19T09:59:02.645929Z",
     "iopub.status.busy": "2024-03-19T09:59:02.645609Z",
     "iopub.status.idle": "2024-03-19T09:59:02.666851Z",
     "shell.execute_reply": "2024-03-19T09:59:02.665753Z"
    },
    "papermill": {
     "duration": 0.036963,
     "end_time": "2024-03-19T09:59:02.668844",
     "exception": false,
     "start_time": "2024-03-19T09:59:02.631881",
     "status": "completed"
    },
    "tags": []
   },
   "outputs": [
    {
     "name": "stdout",
     "output_type": "stream",
     "text": [
      "<class 'pandas.core.frame.DataFrame'>\n",
      "RangeIndex: 13840 entries, 0 to 13839\n",
      "Data columns (total 17 columns):\n",
      " #   Column                          Non-Null Count  Dtype  \n",
      "---  ------                          --------------  -----  \n",
      " 0   id                              13840 non-null  int64  \n",
      " 1   Gender                          13840 non-null  object \n",
      " 2   Age                             13840 non-null  float64\n",
      " 3   Height                          13840 non-null  float64\n",
      " 4   Weight                          13840 non-null  float64\n",
      " 5   family_history_with_overweight  13840 non-null  object \n",
      " 6   FAVC                            13840 non-null  object \n",
      " 7   FCVC                            13840 non-null  float64\n",
      " 8   NCP                             13840 non-null  float64\n",
      " 9   CAEC                            13840 non-null  object \n",
      " 10  SMOKE                           13840 non-null  object \n",
      " 11  CH2O                            13840 non-null  float64\n",
      " 12  SCC                             13840 non-null  object \n",
      " 13  FAF                             13840 non-null  float64\n",
      " 14  TUE                             13840 non-null  float64\n",
      " 15  CALC                            13840 non-null  object \n",
      " 16  MTRANS                          13840 non-null  object \n",
      "dtypes: float64(8), int64(1), object(8)\n",
      "memory usage: 1.8+ MB\n",
      "None\n",
      "(13840, 17)\n",
      "Index(['id', 'Gender', 'Age', 'Height', 'Weight',\n",
      "       'family_history_with_overweight', 'FAVC', 'FCVC', 'NCP', 'CAEC',\n",
      "       'SMOKE', 'CH2O', 'SCC', 'FAF', 'TUE', 'CALC', 'MTRANS'],\n",
      "      dtype='object')\n"
     ]
    }
   ],
   "source": [
    "print(obesity_test.info())\n",
    "print(obesity_test.shape)\n",
    "print(obesity_test.columns)"
   ]
  },
  {
   "cell_type": "code",
   "execution_count": 12,
   "id": "a37de6ad",
   "metadata": {
    "execution": {
     "iopub.execute_input": "2024-03-19T09:59:02.695400Z",
     "iopub.status.busy": "2024-03-19T09:59:02.695107Z",
     "iopub.status.idle": "2024-03-19T09:59:02.704670Z",
     "shell.execute_reply": "2024-03-19T09:59:02.703789Z"
    },
    "papermill": {
     "duration": 0.025048,
     "end_time": "2024-03-19T09:59:02.706705",
     "exception": false,
     "start_time": "2024-03-19T09:59:02.681657",
     "status": "completed"
    },
    "tags": []
   },
   "outputs": [
    {
     "data": {
      "text/plain": [
       "Index(['Gender', 'Age', 'Height', 'Weight', 'family_history_with_overweight',\n",
       "       'FAVC', 'FCVC', 'NCP', 'CAEC', 'SMOKE', 'CH2O', 'SCC', 'FAF', 'TUE',\n",
       "       'CALC', 'MTRANS', 'NObeyesdad'],\n",
       "      dtype='object')"
      ]
     },
     "execution_count": 12,
     "metadata": {},
     "output_type": "execute_result"
    }
   ],
   "source": [
    "obesity_df= obesity_df.drop('id', axis=1)\n",
    "obesity_df.columns"
   ]
  },
  {
   "cell_type": "code",
   "execution_count": 13,
   "id": "29ff07f0",
   "metadata": {
    "execution": {
     "iopub.execute_input": "2024-03-19T09:59:02.734280Z",
     "iopub.status.busy": "2024-03-19T09:59:02.733959Z",
     "iopub.status.idle": "2024-03-19T09:59:02.739950Z",
     "shell.execute_reply": "2024-03-19T09:59:02.739250Z"
    },
    "papermill": {
     "duration": 0.021246,
     "end_time": "2024-03-19T09:59:02.741831",
     "exception": false,
     "start_time": "2024-03-19T09:59:02.720585",
     "status": "completed"
    },
    "tags": []
   },
   "outputs": [],
   "source": [
    "id_forlater = obesity_test['id']\n",
    "obesity_test= obesity_test.drop('id', axis=1)"
   ]
  },
  {
   "cell_type": "code",
   "execution_count": 14,
   "id": "34b6216e",
   "metadata": {
    "execution": {
     "iopub.execute_input": "2024-03-19T09:59:02.768174Z",
     "iopub.status.busy": "2024-03-19T09:59:02.767808Z",
     "iopub.status.idle": "2024-03-19T09:59:02.772144Z",
     "shell.execute_reply": "2024-03-19T09:59:02.771279Z"
    },
    "papermill": {
     "duration": 0.019664,
     "end_time": "2024-03-19T09:59:02.774065",
     "exception": false,
     "start_time": "2024-03-19T09:59:02.754401",
     "status": "completed"
    },
    "tags": []
   },
   "outputs": [],
   "source": [
    "num_cols= ['Age', 'Height', 'Weight', 'FCVC', 'NCP','CH2O','FAF', 'TUE']\n",
    "object_cols = ['Gender', 'family_history_with_overweight', 'FAVC','CAEC','SMOKE', 'SCC','CALC', 'MTRANS']"
   ]
  },
  {
   "cell_type": "code",
   "execution_count": 15,
   "id": "81c71906",
   "metadata": {
    "execution": {
     "iopub.execute_input": "2024-03-19T09:59:02.800714Z",
     "iopub.status.busy": "2024-03-19T09:59:02.800076Z",
     "iopub.status.idle": "2024-03-19T09:59:02.828082Z",
     "shell.execute_reply": "2024-03-19T09:59:02.826958Z"
    },
    "papermill": {
     "duration": 0.043628,
     "end_time": "2024-03-19T09:59:02.830325",
     "exception": false,
     "start_time": "2024-03-19T09:59:02.786697",
     "status": "completed"
    },
    "tags": []
   },
   "outputs": [
    {
     "data": {
      "text/plain": [
       "Gender                            0\n",
       "Age                               0\n",
       "Height                            0\n",
       "Weight                            0\n",
       "family_history_with_overweight    0\n",
       "FAVC                              0\n",
       "FCVC                              0\n",
       "NCP                               0\n",
       "CAEC                              0\n",
       "SMOKE                             0\n",
       "CH2O                              0\n",
       "SCC                               0\n",
       "FAF                               0\n",
       "TUE                               0\n",
       "CALC                              0\n",
       "MTRANS                            0\n",
       "NObeyesdad                        0\n",
       "dtype: int64"
      ]
     },
     "execution_count": 15,
     "metadata": {},
     "output_type": "execute_result"
    }
   ],
   "source": [
    "obesity_df.isna().sum()"
   ]
  },
  {
   "cell_type": "code",
   "execution_count": 16,
   "id": "990df404",
   "metadata": {
    "execution": {
     "iopub.execute_input": "2024-03-19T09:59:02.858136Z",
     "iopub.status.busy": "2024-03-19T09:59:02.857407Z",
     "iopub.status.idle": "2024-03-19T09:59:02.892547Z",
     "shell.execute_reply": "2024-03-19T09:59:02.891656Z"
    },
    "papermill": {
     "duration": 0.05097,
     "end_time": "2024-03-19T09:59:02.894662",
     "exception": false,
     "start_time": "2024-03-19T09:59:02.843692",
     "status": "completed"
    },
    "tags": []
   },
   "outputs": [
    {
     "name": "stdout",
     "output_type": "stream",
     "text": [
      "Gender\n",
      "Female    11457\n",
      "Male      11388\n",
      "Name: count, dtype: int64\n",
      "family_history_with_overweight\n",
      "yes    18736\n",
      "no      4109\n",
      "Name: count, dtype: int64\n",
      "FAVC\n",
      "yes    20826\n",
      "no      2019\n",
      "Name: count, dtype: int64\n",
      "CAEC\n",
      "Sometimes     19290\n",
      "Frequently     2708\n",
      "Always          531\n",
      "no              316\n",
      "Name: count, dtype: int64\n",
      "SMOKE\n",
      "no     22556\n",
      "yes      289\n",
      "Name: count, dtype: int64\n",
      "SCC\n",
      "no     22062\n",
      "yes      783\n",
      "Name: count, dtype: int64\n",
      "CALC\n",
      "Sometimes     16446\n",
      "no             5799\n",
      "Frequently      599\n",
      "Always            1\n",
      "Name: count, dtype: int64\n",
      "MTRANS\n",
      "Public_Transportation    18245\n",
      "Automobile                3990\n",
      "Walking                    522\n",
      "Motorbike                   49\n",
      "Bike                        39\n",
      "Name: count, dtype: int64\n"
     ]
    }
   ],
   "source": [
    "for i in object_cols:\n",
    "    print(obesity_df[i].value_counts())"
   ]
  },
  {
   "cell_type": "code",
   "execution_count": 17,
   "id": "27076cbd",
   "metadata": {
    "execution": {
     "iopub.execute_input": "2024-03-19T09:59:02.921773Z",
     "iopub.status.busy": "2024-03-19T09:59:02.921099Z",
     "iopub.status.idle": "2024-03-19T09:59:02.945495Z",
     "shell.execute_reply": "2024-03-19T09:59:02.944587Z"
    },
    "papermill": {
     "duration": 0.039974,
     "end_time": "2024-03-19T09:59:02.947583",
     "exception": false,
     "start_time": "2024-03-19T09:59:02.907609",
     "status": "completed"
    },
    "tags": []
   },
   "outputs": [
    {
     "name": "stdout",
     "output_type": "stream",
     "text": [
      "Gender\n",
      "Female    6965\n",
      "Male      6875\n",
      "Name: count, dtype: int64\n",
      "family_history_with_overweight\n",
      "yes    11384\n",
      "no      2456\n",
      "Name: count, dtype: int64\n",
      "FAVC\n",
      "yes    12583\n",
      "no      1257\n",
      "Name: count, dtype: int64\n",
      "CAEC\n",
      "Sometimes     11689\n",
      "Frequently     1617\n",
      "Always          359\n",
      "no              175\n",
      "Name: count, dtype: int64\n",
      "SMOKE\n",
      "no     13660\n",
      "yes      180\n",
      "Name: count, dtype: int64\n",
      "SCC\n",
      "no     13376\n",
      "yes      464\n",
      "Name: count, dtype: int64\n",
      "CALC\n",
      "Sometimes     9979\n",
      "no            3513\n",
      "Frequently     346\n",
      "Always           2\n",
      "Name: count, dtype: int64\n",
      "MTRANS\n",
      "Public_Transportation    11111\n",
      "Automobile                2405\n",
      "Walking                    280\n",
      "Bike                        25\n",
      "Motorbike                   19\n",
      "Name: count, dtype: int64\n"
     ]
    }
   ],
   "source": [
    "for i in object_cols:\n",
    "    print(obesity_test[i].value_counts())"
   ]
  },
  {
   "cell_type": "code",
   "execution_count": 18,
   "id": "de9c562d",
   "metadata": {
    "execution": {
     "iopub.execute_input": "2024-03-19T09:59:02.974682Z",
     "iopub.status.busy": "2024-03-19T09:59:02.974109Z",
     "iopub.status.idle": "2024-03-19T09:59:02.978258Z",
     "shell.execute_reply": "2024-03-19T09:59:02.977445Z"
    },
    "papermill": {
     "duration": 0.019758,
     "end_time": "2024-03-19T09:59:02.980104",
     "exception": false,
     "start_time": "2024-03-19T09:59:02.960346",
     "status": "completed"
    },
    "tags": []
   },
   "outputs": [],
   "source": [
    "ordinal_cols = ['CAEC','CALC', 'MTRANS', 'NObeyesdad']\n",
    "binary_cols = ['Gender', 'family_history_with_overweight','FAVC','SMOKE', 'SCC']"
   ]
  },
  {
   "cell_type": "code",
   "execution_count": 19,
   "id": "e7191352",
   "metadata": {
    "execution": {
     "iopub.execute_input": "2024-03-19T09:59:03.007186Z",
     "iopub.status.busy": "2024-03-19T09:59:03.006798Z",
     "iopub.status.idle": "2024-03-19T09:59:03.050842Z",
     "shell.execute_reply": "2024-03-19T09:59:03.049862Z"
    },
    "papermill": {
     "duration": 0.06015,
     "end_time": "2024-03-19T09:59:03.053063",
     "exception": false,
     "start_time": "2024-03-19T09:59:02.992913",
     "status": "completed"
    },
    "tags": []
   },
   "outputs": [
    {
     "name": "stdout",
     "output_type": "stream",
     "text": [
      "<class 'pandas.core.frame.DataFrame'>\n",
      "Index: 22845 entries, 0 to 2110\n",
      "Data columns (total 17 columns):\n",
      " #   Column                          Non-Null Count  Dtype  \n",
      "---  ------                          --------------  -----  \n",
      " 0   Gender                          22845 non-null  object \n",
      " 1   Age                             22845 non-null  float64\n",
      " 2   Height                          22845 non-null  float64\n",
      " 3   Weight                          22845 non-null  float64\n",
      " 4   family_history_with_overweight  22845 non-null  object \n",
      " 5   FAVC                            22845 non-null  object \n",
      " 6   FCVC                            22845 non-null  float64\n",
      " 7   NCP                             22845 non-null  float64\n",
      " 8   CAEC                            22845 non-null  object \n",
      " 9   SMOKE                           22845 non-null  object \n",
      " 10  CH2O                            22845 non-null  float64\n",
      " 11  SCC                             22845 non-null  object \n",
      " 12  FAF                             22845 non-null  float64\n",
      " 13  TUE                             22845 non-null  float64\n",
      " 14  CALC                            22845 non-null  object \n",
      " 15  MTRANS                          22845 non-null  object \n",
      " 16  NObeyesdad                      22845 non-null  object \n",
      "dtypes: float64(8), object(9)\n",
      "memory usage: 3.1+ MB\n",
      "None\n",
      "<class 'pandas.core.frame.DataFrame'>\n",
      "RangeIndex: 13840 entries, 0 to 13839\n",
      "Data columns (total 16 columns):\n",
      " #   Column                          Non-Null Count  Dtype  \n",
      "---  ------                          --------------  -----  \n",
      " 0   Gender                          13840 non-null  object \n",
      " 1   Age                             13840 non-null  float64\n",
      " 2   Height                          13840 non-null  float64\n",
      " 3   Weight                          13840 non-null  float64\n",
      " 4   family_history_with_overweight  13840 non-null  object \n",
      " 5   FAVC                            13840 non-null  object \n",
      " 6   FCVC                            13840 non-null  float64\n",
      " 7   NCP                             13840 non-null  float64\n",
      " 8   CAEC                            13840 non-null  object \n",
      " 9   SMOKE                           13840 non-null  object \n",
      " 10  CH2O                            13840 non-null  float64\n",
      " 11  SCC                             13840 non-null  object \n",
      " 12  FAF                             13840 non-null  float64\n",
      " 13  TUE                             13840 non-null  float64\n",
      " 14  CALC                            13840 non-null  object \n",
      " 15  MTRANS                          13840 non-null  object \n",
      "dtypes: float64(8), object(8)\n",
      "memory usage: 1.7+ MB\n",
      "None\n"
     ]
    }
   ],
   "source": [
    "print(obesity_df.info())\n",
    "print(obesity_test.info())"
   ]
  },
  {
   "cell_type": "code",
   "execution_count": 20,
   "id": "ede03c69",
   "metadata": {
    "execution": {
     "iopub.execute_input": "2024-03-19T09:59:03.081187Z",
     "iopub.status.busy": "2024-03-19T09:59:03.080566Z",
     "iopub.status.idle": "2024-03-19T09:59:03.084454Z",
     "shell.execute_reply": "2024-03-19T09:59:03.083635Z"
    },
    "papermill": {
     "duration": 0.019805,
     "end_time": "2024-03-19T09:59:03.086301",
     "exception": false,
     "start_time": "2024-03-19T09:59:03.066496",
     "status": "completed"
    },
    "tags": []
   },
   "outputs": [],
   "source": [
    "# # Apply ordinal encoder to each column with categorical data\n",
    "# ordinal_encoder = OrdinalEncoder()\n",
    "# obesity_df[binary_cols] = ordinal_encoder.fit_transform(obesity_df[binary_cols])"
   ]
  },
  {
   "cell_type": "code",
   "execution_count": 21,
   "id": "54f253f6",
   "metadata": {
    "execution": {
     "iopub.execute_input": "2024-03-19T09:59:03.113878Z",
     "iopub.status.busy": "2024-03-19T09:59:03.113284Z",
     "iopub.status.idle": "2024-03-19T09:59:03.122709Z",
     "shell.execute_reply": "2024-03-19T09:59:03.121814Z"
    },
    "papermill": {
     "duration": 0.025357,
     "end_time": "2024-03-19T09:59:03.124619",
     "exception": false,
     "start_time": "2024-03-19T09:59:03.099262",
     "status": "completed"
    },
    "tags": []
   },
   "outputs": [
    {
     "data": {
      "text/plain": [
       "array(['Overweight_Level_II', 'Normal_Weight', 'Insufficient_Weight',\n",
       "       'Obesity_Type_III', 'Obesity_Type_II', 'Overweight_Level_I',\n",
       "       'Obesity_Type_I'], dtype=object)"
      ]
     },
     "execution_count": 21,
     "metadata": {},
     "output_type": "execute_result"
    }
   ],
   "source": [
    "obesity_df['NObeyesdad'].unique()"
   ]
  },
  {
   "cell_type": "code",
   "execution_count": 22,
   "id": "7805f3e6",
   "metadata": {
    "execution": {
     "iopub.execute_input": "2024-03-19T09:59:03.152268Z",
     "iopub.status.busy": "2024-03-19T09:59:03.151737Z",
     "iopub.status.idle": "2024-03-19T09:59:03.157535Z",
     "shell.execute_reply": "2024-03-19T09:59:03.156730Z"
    },
    "papermill": {
     "duration": 0.021585,
     "end_time": "2024-03-19T09:59:03.159380",
     "exception": false,
     "start_time": "2024-03-19T09:59:03.137795",
     "status": "completed"
    },
    "tags": []
   },
   "outputs": [],
   "source": [
    "CAEC = pd.CategoricalDtype(['no','Sometimes', 'Frequently', 'Always'], ordered=True)\n",
    "CALC = pd.CategoricalDtype(['no', 'Sometimes', 'Frequently', 'Always'], ordered=True)\n",
    "MTRANS = pd.CategoricalDtype(['Public_Transportation', 'Automobile', 'Walking', 'Motorbike', 'Bike'], ordered=False)\n",
    "# NObeyesdad = pd.CategoricalDtype([ 'Insufficient_Weight','Normal_Weight', 'Overweight_Level_I','Overweight_Level_II','Obesity_Type_I','Obesity_Type_II','Obesity_Type_III'], ordered=True)"
   ]
  },
  {
   "cell_type": "code",
   "execution_count": 23,
   "id": "493c9c89",
   "metadata": {
    "execution": {
     "iopub.execute_input": "2024-03-19T09:59:03.187684Z",
     "iopub.status.busy": "2024-03-19T09:59:03.187171Z",
     "iopub.status.idle": "2024-03-19T09:59:03.200837Z",
     "shell.execute_reply": "2024-03-19T09:59:03.200012Z"
    },
    "papermill": {
     "duration": 0.030201,
     "end_time": "2024-03-19T09:59:03.202710",
     "exception": false,
     "start_time": "2024-03-19T09:59:03.172509",
     "status": "completed"
    },
    "tags": []
   },
   "outputs": [],
   "source": [
    "obesity_df['CAEC']= obesity_df['CAEC'].astype(CAEC)\n",
    "obesity_df['CALC']= obesity_df['CALC'].astype(CALC)\n",
    "obesity_df['MTRANS']= obesity_df['MTRANS'].astype(MTRANS)\n",
    "# obesity_df['NObeyesdad']= obesity_df['NObeyesdad'].astype(NObeyesdad)"
   ]
  },
  {
   "cell_type": "code",
   "execution_count": 24,
   "id": "9bf251fb",
   "metadata": {
    "execution": {
     "iopub.execute_input": "2024-03-19T09:59:03.230722Z",
     "iopub.status.busy": "2024-03-19T09:59:03.230141Z",
     "iopub.status.idle": "2024-03-19T09:59:03.240548Z",
     "shell.execute_reply": "2024-03-19T09:59:03.239709Z"
    },
    "papermill": {
     "duration": 0.026586,
     "end_time": "2024-03-19T09:59:03.242390",
     "exception": false,
     "start_time": "2024-03-19T09:59:03.215804",
     "status": "completed"
    },
    "tags": []
   },
   "outputs": [],
   "source": [
    "obesity_test['CAEC']= obesity_test['CAEC'].astype(CAEC)\n",
    "obesity_test['CALC']= obesity_test['CALC'].astype(CALC)\n",
    "obesity_test['MTRANS']= obesity_test['MTRANS'].astype(MTRANS)"
   ]
  },
  {
   "cell_type": "code",
   "execution_count": 25,
   "id": "415649f3",
   "metadata": {
    "execution": {
     "iopub.execute_input": "2024-03-19T09:59:03.315714Z",
     "iopub.status.busy": "2024-03-19T09:59:03.314836Z",
     "iopub.status.idle": "2024-03-19T09:59:03.354073Z",
     "shell.execute_reply": "2024-03-19T09:59:03.353125Z"
    },
    "papermill": {
     "duration": 0.056673,
     "end_time": "2024-03-19T09:59:03.356784",
     "exception": false,
     "start_time": "2024-03-19T09:59:03.300111",
     "status": "completed"
    },
    "tags": []
   },
   "outputs": [
    {
     "name": "stdout",
     "output_type": "stream",
     "text": [
      "<class 'pandas.core.frame.DataFrame'>\n",
      "Index: 22845 entries, 0 to 2110\n",
      "Data columns (total 17 columns):\n",
      " #   Column                          Non-Null Count  Dtype   \n",
      "---  ------                          --------------  -----   \n",
      " 0   Gender                          22845 non-null  object  \n",
      " 1   Age                             22845 non-null  float64 \n",
      " 2   Height                          22845 non-null  float64 \n",
      " 3   Weight                          22845 non-null  float64 \n",
      " 4   family_history_with_overweight  22845 non-null  object  \n",
      " 5   FAVC                            22845 non-null  object  \n",
      " 6   FCVC                            22845 non-null  float64 \n",
      " 7   NCP                             22845 non-null  float64 \n",
      " 8   CAEC                            22845 non-null  category\n",
      " 9   SMOKE                           22845 non-null  object  \n",
      " 10  CH2O                            22845 non-null  float64 \n",
      " 11  SCC                             22845 non-null  object  \n",
      " 12  FAF                             22845 non-null  float64 \n",
      " 13  TUE                             22845 non-null  float64 \n",
      " 14  CALC                            22845 non-null  category\n",
      " 15  MTRANS                          22845 non-null  category\n",
      " 16  NObeyesdad                      22845 non-null  object  \n",
      "dtypes: category(3), float64(8), object(6)\n",
      "memory usage: 2.7+ MB\n",
      "None\n",
      "<class 'pandas.core.frame.DataFrame'>\n",
      "RangeIndex: 13840 entries, 0 to 13839\n",
      "Data columns (total 16 columns):\n",
      " #   Column                          Non-Null Count  Dtype   \n",
      "---  ------                          --------------  -----   \n",
      " 0   Gender                          13840 non-null  object  \n",
      " 1   Age                             13840 non-null  float64 \n",
      " 2   Height                          13840 non-null  float64 \n",
      " 3   Weight                          13840 non-null  float64 \n",
      " 4   family_history_with_overweight  13840 non-null  object  \n",
      " 5   FAVC                            13840 non-null  object  \n",
      " 6   FCVC                            13840 non-null  float64 \n",
      " 7   NCP                             13840 non-null  float64 \n",
      " 8   CAEC                            13840 non-null  category\n",
      " 9   SMOKE                           13840 non-null  object  \n",
      " 10  CH2O                            13840 non-null  float64 \n",
      " 11  SCC                             13840 non-null  object  \n",
      " 12  FAF                             13840 non-null  float64 \n",
      " 13  TUE                             13840 non-null  float64 \n",
      " 14  CALC                            13840 non-null  category\n",
      " 15  MTRANS                          13840 non-null  category\n",
      "dtypes: category(3), float64(8), object(5)\n",
      "memory usage: 1.4+ MB\n",
      "None\n"
     ]
    }
   ],
   "source": [
    "print(obesity_df.info())\n",
    "print(obesity_test.info())"
   ]
  },
  {
   "cell_type": "code",
   "execution_count": 26,
   "id": "b4fa3c20",
   "metadata": {
    "execution": {
     "iopub.execute_input": "2024-03-19T09:59:03.385810Z",
     "iopub.status.busy": "2024-03-19T09:59:03.385477Z",
     "iopub.status.idle": "2024-03-19T09:59:03.389542Z",
     "shell.execute_reply": "2024-03-19T09:59:03.388679Z"
    },
    "papermill": {
     "duration": 0.020624,
     "end_time": "2024-03-19T09:59:03.391531",
     "exception": false,
     "start_time": "2024-03-19T09:59:03.370907",
     "status": "completed"
    },
    "tags": []
   },
   "outputs": [],
   "source": [
    "# relevant_experience = pd.CategoricalDtype(['Has relevant experience','No relevant experience'], ordered=True)\n",
    "# ds_jobs_clean['relevant_experience']= ds_jobs_clean['relevant_experience'].astype(relevant_experience)"
   ]
  },
  {
   "cell_type": "code",
   "execution_count": 27,
   "id": "cccedde9",
   "metadata": {
    "execution": {
     "iopub.execute_input": "2024-03-19T09:59:03.419961Z",
     "iopub.status.busy": "2024-03-19T09:59:03.419409Z",
     "iopub.status.idle": "2024-03-19T09:59:03.423442Z",
     "shell.execute_reply": "2024-03-19T09:59:03.422629Z"
    },
    "papermill": {
     "duration": 0.020316,
     "end_time": "2024-03-19T09:59:03.425380",
     "exception": false,
     "start_time": "2024-03-19T09:59:03.405064",
     "status": "completed"
    },
    "tags": []
   },
   "outputs": [],
   "source": [
    "# OH_encoder = OneHotEncoder(handle_unknown='ignore', sparse=False)\n",
    "# obesity_cols_oh = pd.DataFrame(OH_encoder.fit_transform(obesity_df[ordinal_cols]))\n",
    "\n",
    "# # One-hot encoding removed index; put it back\n",
    "# obesity_cols_oh.index = obesity_df.index\n",
    "\n",
    "# # Remove categorical columns (will replace with one-hot encoding)\n",
    "# nums = obesity_df.drop(ordinal_cols, axis=1)\n",
    "\n",
    "# # Add one-hot encoded columns to numerical features\n",
    "# obesity_df_oh = pd.concat([nums, obesity_cols_oh], axis=1)"
   ]
  },
  {
   "cell_type": "code",
   "execution_count": 28,
   "id": "80bc7946",
   "metadata": {
    "execution": {
     "iopub.execute_input": "2024-03-19T09:59:03.453721Z",
     "iopub.status.busy": "2024-03-19T09:59:03.453155Z",
     "iopub.status.idle": "2024-03-19T09:59:03.519730Z",
     "shell.execute_reply": "2024-03-19T09:59:03.518815Z"
    },
    "papermill": {
     "duration": 0.08318,
     "end_time": "2024-03-19T09:59:03.522073",
     "exception": false,
     "start_time": "2024-03-19T09:59:03.438893",
     "status": "completed"
    },
    "tags": []
   },
   "outputs": [],
   "source": [
    "ordinal_encoder = OrdinalEncoder(handle_unknown=\"use_encoded_value\", unknown_value=-1)\n",
    "obesity_df[object_cols] = ordinal_encoder.fit_transform(obesity_df[object_cols])"
   ]
  },
  {
   "cell_type": "code",
   "execution_count": 29,
   "id": "929b2234",
   "metadata": {
    "execution": {
     "iopub.execute_input": "2024-03-19T09:59:03.550675Z",
     "iopub.status.busy": "2024-03-19T09:59:03.550090Z",
     "iopub.status.idle": "2024-03-19T09:59:03.588189Z",
     "shell.execute_reply": "2024-03-19T09:59:03.587190Z"
    },
    "papermill": {
     "duration": 0.05456,
     "end_time": "2024-03-19T09:59:03.590424",
     "exception": false,
     "start_time": "2024-03-19T09:59:03.535864",
     "status": "completed"
    },
    "tags": []
   },
   "outputs": [],
   "source": [
    "obesity_test[object_cols] = ordinal_encoder.transform(obesity_test[object_cols])"
   ]
  },
  {
   "cell_type": "code",
   "execution_count": 30,
   "id": "2a1dac55",
   "metadata": {
    "execution": {
     "iopub.execute_input": "2024-03-19T09:59:03.619185Z",
     "iopub.status.busy": "2024-03-19T09:59:03.618674Z",
     "iopub.status.idle": "2024-03-19T09:59:03.632318Z",
     "shell.execute_reply": "2024-03-19T09:59:03.631193Z"
    },
    "papermill": {
     "duration": 0.030423,
     "end_time": "2024-03-19T09:59:03.634492",
     "exception": false,
     "start_time": "2024-03-19T09:59:03.604069",
     "status": "completed"
    },
    "tags": []
   },
   "outputs": [
    {
     "name": "stdout",
     "output_type": "stream",
     "text": [
      "<class 'pandas.core.frame.DataFrame'>\n",
      "Index: 22845 entries, 0 to 2110\n",
      "Data columns (total 17 columns):\n",
      " #   Column                          Non-Null Count  Dtype  \n",
      "---  ------                          --------------  -----  \n",
      " 0   Gender                          22845 non-null  float64\n",
      " 1   Age                             22845 non-null  float64\n",
      " 2   Height                          22845 non-null  float64\n",
      " 3   Weight                          22845 non-null  float64\n",
      " 4   family_history_with_overweight  22845 non-null  float64\n",
      " 5   FAVC                            22845 non-null  float64\n",
      " 6   FCVC                            22845 non-null  float64\n",
      " 7   NCP                             22845 non-null  float64\n",
      " 8   CAEC                            22845 non-null  float64\n",
      " 9   SMOKE                           22845 non-null  float64\n",
      " 10  CH2O                            22845 non-null  float64\n",
      " 11  SCC                             22845 non-null  float64\n",
      " 12  FAF                             22845 non-null  float64\n",
      " 13  TUE                             22845 non-null  float64\n",
      " 14  CALC                            22845 non-null  float64\n",
      " 15  MTRANS                          22845 non-null  float64\n",
      " 16  NObeyesdad                      22845 non-null  object \n",
      "dtypes: float64(16), object(1)\n",
      "memory usage: 3.1+ MB\n"
     ]
    }
   ],
   "source": [
    "obesity_df.info()"
   ]
  },
  {
   "cell_type": "code",
   "execution_count": 31,
   "id": "92894b4c",
   "metadata": {
    "execution": {
     "iopub.execute_input": "2024-03-19T09:59:03.663292Z",
     "iopub.status.busy": "2024-03-19T09:59:03.662965Z",
     "iopub.status.idle": "2024-03-19T09:59:03.685077Z",
     "shell.execute_reply": "2024-03-19T09:59:03.684167Z"
    },
    "papermill": {
     "duration": 0.038426,
     "end_time": "2024-03-19T09:59:03.687055",
     "exception": false,
     "start_time": "2024-03-19T09:59:03.648629",
     "status": "completed"
    },
    "tags": []
   },
   "outputs": [
    {
     "data": {
      "text/html": [
       "<div>\n",
       "<style scoped>\n",
       "    .dataframe tbody tr th:only-of-type {\n",
       "        vertical-align: middle;\n",
       "    }\n",
       "\n",
       "    .dataframe tbody tr th {\n",
       "        vertical-align: top;\n",
       "    }\n",
       "\n",
       "    .dataframe thead th {\n",
       "        text-align: right;\n",
       "    }\n",
       "</style>\n",
       "<table border=\"1\" class=\"dataframe\">\n",
       "  <thead>\n",
       "    <tr style=\"text-align: right;\">\n",
       "      <th></th>\n",
       "      <th>Gender</th>\n",
       "      <th>Age</th>\n",
       "      <th>Height</th>\n",
       "      <th>Weight</th>\n",
       "      <th>family_history_with_overweight</th>\n",
       "      <th>FAVC</th>\n",
       "      <th>FCVC</th>\n",
       "      <th>NCP</th>\n",
       "      <th>CAEC</th>\n",
       "      <th>SMOKE</th>\n",
       "      <th>CH2O</th>\n",
       "      <th>SCC</th>\n",
       "      <th>FAF</th>\n",
       "      <th>TUE</th>\n",
       "      <th>CALC</th>\n",
       "      <th>MTRANS</th>\n",
       "      <th>NObeyesdad</th>\n",
       "    </tr>\n",
       "  </thead>\n",
       "  <tbody>\n",
       "    <tr>\n",
       "      <th>0</th>\n",
       "      <td>1.0</td>\n",
       "      <td>24.443011</td>\n",
       "      <td>1.699998</td>\n",
       "      <td>81.669950</td>\n",
       "      <td>1.0</td>\n",
       "      <td>1.0</td>\n",
       "      <td>2.000000</td>\n",
       "      <td>2.983297</td>\n",
       "      <td>2.0</td>\n",
       "      <td>0.0</td>\n",
       "      <td>2.763573</td>\n",
       "      <td>0.0</td>\n",
       "      <td>0.000000</td>\n",
       "      <td>0.976473</td>\n",
       "      <td>2.0</td>\n",
       "      <td>3.0</td>\n",
       "      <td>Overweight_Level_II</td>\n",
       "    </tr>\n",
       "    <tr>\n",
       "      <th>1</th>\n",
       "      <td>0.0</td>\n",
       "      <td>18.000000</td>\n",
       "      <td>1.560000</td>\n",
       "      <td>57.000000</td>\n",
       "      <td>1.0</td>\n",
       "      <td>1.0</td>\n",
       "      <td>2.000000</td>\n",
       "      <td>3.000000</td>\n",
       "      <td>1.0</td>\n",
       "      <td>0.0</td>\n",
       "      <td>2.000000</td>\n",
       "      <td>0.0</td>\n",
       "      <td>1.000000</td>\n",
       "      <td>1.000000</td>\n",
       "      <td>3.0</td>\n",
       "      <td>0.0</td>\n",
       "      <td>Normal_Weight</td>\n",
       "    </tr>\n",
       "    <tr>\n",
       "      <th>2</th>\n",
       "      <td>0.0</td>\n",
       "      <td>18.000000</td>\n",
       "      <td>1.711460</td>\n",
       "      <td>50.165754</td>\n",
       "      <td>1.0</td>\n",
       "      <td>1.0</td>\n",
       "      <td>1.880534</td>\n",
       "      <td>1.411685</td>\n",
       "      <td>2.0</td>\n",
       "      <td>0.0</td>\n",
       "      <td>1.910378</td>\n",
       "      <td>0.0</td>\n",
       "      <td>0.866045</td>\n",
       "      <td>1.673584</td>\n",
       "      <td>3.0</td>\n",
       "      <td>3.0</td>\n",
       "      <td>Insufficient_Weight</td>\n",
       "    </tr>\n",
       "    <tr>\n",
       "      <th>3</th>\n",
       "      <td>0.0</td>\n",
       "      <td>20.952737</td>\n",
       "      <td>1.710730</td>\n",
       "      <td>131.274851</td>\n",
       "      <td>1.0</td>\n",
       "      <td>1.0</td>\n",
       "      <td>3.000000</td>\n",
       "      <td>3.000000</td>\n",
       "      <td>2.0</td>\n",
       "      <td>0.0</td>\n",
       "      <td>1.674061</td>\n",
       "      <td>0.0</td>\n",
       "      <td>1.467863</td>\n",
       "      <td>0.780199</td>\n",
       "      <td>2.0</td>\n",
       "      <td>3.0</td>\n",
       "      <td>Obesity_Type_III</td>\n",
       "    </tr>\n",
       "    <tr>\n",
       "      <th>4</th>\n",
       "      <td>1.0</td>\n",
       "      <td>31.641081</td>\n",
       "      <td>1.914186</td>\n",
       "      <td>93.798055</td>\n",
       "      <td>1.0</td>\n",
       "      <td>1.0</td>\n",
       "      <td>2.679664</td>\n",
       "      <td>1.971472</td>\n",
       "      <td>2.0</td>\n",
       "      <td>0.0</td>\n",
       "      <td>1.979848</td>\n",
       "      <td>0.0</td>\n",
       "      <td>1.967973</td>\n",
       "      <td>0.931721</td>\n",
       "      <td>2.0</td>\n",
       "      <td>3.0</td>\n",
       "      <td>Overweight_Level_II</td>\n",
       "    </tr>\n",
       "  </tbody>\n",
       "</table>\n",
       "</div>"
      ],
      "text/plain": [
       "   Gender        Age    Height      Weight  family_history_with_overweight  \\\n",
       "0     1.0  24.443011  1.699998   81.669950                             1.0   \n",
       "1     0.0  18.000000  1.560000   57.000000                             1.0   \n",
       "2     0.0  18.000000  1.711460   50.165754                             1.0   \n",
       "3     0.0  20.952737  1.710730  131.274851                             1.0   \n",
       "4     1.0  31.641081  1.914186   93.798055                             1.0   \n",
       "\n",
       "   FAVC      FCVC       NCP  CAEC  SMOKE      CH2O  SCC       FAF       TUE  \\\n",
       "0   1.0  2.000000  2.983297   2.0    0.0  2.763573  0.0  0.000000  0.976473   \n",
       "1   1.0  2.000000  3.000000   1.0    0.0  2.000000  0.0  1.000000  1.000000   \n",
       "2   1.0  1.880534  1.411685   2.0    0.0  1.910378  0.0  0.866045  1.673584   \n",
       "3   1.0  3.000000  3.000000   2.0    0.0  1.674061  0.0  1.467863  0.780199   \n",
       "4   1.0  2.679664  1.971472   2.0    0.0  1.979848  0.0  1.967973  0.931721   \n",
       "\n",
       "   CALC  MTRANS           NObeyesdad  \n",
       "0   2.0     3.0  Overweight_Level_II  \n",
       "1   3.0     0.0        Normal_Weight  \n",
       "2   3.0     3.0  Insufficient_Weight  \n",
       "3   2.0     3.0     Obesity_Type_III  \n",
       "4   2.0     3.0  Overweight_Level_II  "
      ]
     },
     "execution_count": 31,
     "metadata": {},
     "output_type": "execute_result"
    }
   ],
   "source": [
    "obesity_df.head()"
   ]
  },
  {
   "cell_type": "code",
   "execution_count": 32,
   "id": "b9d6186f",
   "metadata": {
    "execution": {
     "iopub.execute_input": "2024-03-19T09:59:03.718065Z",
     "iopub.status.busy": "2024-03-19T09:59:03.717210Z",
     "iopub.status.idle": "2024-03-19T09:59:03.724444Z",
     "shell.execute_reply": "2024-03-19T09:59:03.723363Z"
    },
    "papermill": {
     "duration": 0.025084,
     "end_time": "2024-03-19T09:59:03.726702",
     "exception": false,
     "start_time": "2024-03-19T09:59:03.701618",
     "status": "completed"
    },
    "tags": []
   },
   "outputs": [],
   "source": [
    "X= obesity_df.drop('NObeyesdad', axis=1)\n",
    "y= obesity_df['NObeyesdad']"
   ]
  },
  {
   "cell_type": "code",
   "execution_count": 33,
   "id": "4e964b59",
   "metadata": {
    "execution": {
     "iopub.execute_input": "2024-03-19T09:59:03.756086Z",
     "iopub.status.busy": "2024-03-19T09:59:03.755482Z",
     "iopub.status.idle": "2024-03-19T09:59:04.519538Z",
     "shell.execute_reply": "2024-03-19T09:59:04.518582Z"
    },
    "papermill": {
     "duration": 0.781694,
     "end_time": "2024-03-19T09:59:04.522276",
     "exception": false,
     "start_time": "2024-03-19T09:59:03.740582",
     "status": "completed"
    },
    "tags": []
   },
   "outputs": [
    {
     "data": {
      "image/png": "[encoded data removed]",
      "text/plain": [
       "<Figure size 1500x1100 with 2 Axes>"
      ]
     },
     "metadata": {},
     "output_type": "display_data"
    }
   ],
   "source": [
    "corr_matrix=X.corr()\n",
    "\n",
    "mask = np.zeros_like(corr_matrix)\n",
    "mask[np.triu_indices_from(mask)] = True\n",
    "\n",
    "f,ax=plt.subplots(figsize=(15,11))\n",
    "sns.heatmap(corr_matrix, mask=mask, annot=True)\n",
    "plt.suptitle('Correlation Matrix')\n",
    "plt.show()"
   ]
  },
  {
   "cell_type": "code",
   "execution_count": 34,
   "id": "9e490f71",
   "metadata": {
    "execution": {
     "iopub.execute_input": "2024-03-19T09:59:04.556790Z",
     "iopub.status.busy": "2024-03-19T09:59:04.556181Z",
     "iopub.status.idle": "2024-03-19T09:59:04.559926Z",
     "shell.execute_reply": "2024-03-19T09:59:04.559129Z"
    },
    "papermill": {
     "duration": 0.022177,
     "end_time": "2024-03-19T09:59:04.561745",
     "exception": false,
     "start_time": "2024-03-19T09:59:04.539568",
     "status": "completed"
    },
    "tags": []
   },
   "outputs": [],
   "source": [
    "# y_encoder= OrdinalEncoder()\n",
    "# y = y_encoder.fit_transform(y.array.reshape(-1, 1))"
   ]
  },
  {
   "cell_type": "code",
   "execution_count": 35,
   "id": "afb2b416",
   "metadata": {
    "execution": {
     "iopub.execute_input": "2024-03-19T09:59:04.594748Z",
     "iopub.status.busy": "2024-03-19T09:59:04.593956Z",
     "iopub.status.idle": "2024-03-19T09:59:04.606946Z",
     "shell.execute_reply": "2024-03-19T09:59:04.606039Z"
    },
    "papermill": {
     "duration": 0.031695,
     "end_time": "2024-03-19T09:59:04.609048",
     "exception": false,
     "start_time": "2024-03-19T09:59:04.577353",
     "status": "completed"
    },
    "tags": []
   },
   "outputs": [],
   "source": [
    "X_train, X_test, y_train, y_test = train_test_split(X,y, test_size=0.2, random_state=42)"
   ]
  },
  {
   "cell_type": "code",
   "execution_count": 36,
   "id": "fe3a1946",
   "metadata": {
    "execution": {
     "iopub.execute_input": "2024-03-19T09:59:04.643334Z",
     "iopub.status.busy": "2024-03-19T09:59:04.642976Z",
     "iopub.status.idle": "2024-03-19T09:59:04.649092Z",
     "shell.execute_reply": "2024-03-19T09:59:04.648244Z"
    },
    "papermill": {
     "duration": 0.02663,
     "end_time": "2024-03-19T09:59:04.651439",
     "exception": false,
     "start_time": "2024-03-19T09:59:04.624809",
     "status": "completed"
    },
    "tags": []
   },
   "outputs": [],
   "source": [
    "\n",
    "# # Define the objective function for Optuna optimization\n",
    "# import optuna\n",
    "# from optuna.samplers import TPESampler\n",
    "\n",
    "# def objective(trial, X_train, y_train, X_test, y_test):\n",
    "#      # Define parameters to be optimized for the LGBMClassifier\n",
    "#      param = {\n",
    "#          \"objective\": \"multiclass\",\n",
    "#          \"metric\": \"multi_logloss\",\n",
    "#          \"verbosity\": -1,\n",
    "#          \"boosting_type\": \"gbdt\",\n",
    "#          \"random_state\": 42,\n",
    "#          \"num_class\": 7,\n",
    "#          \"learning_rate\": trial.suggest_float(\"learning_rate\", 0.001, 0.2),\n",
    "#          \"n_estimators\": trial.suggest_int(\"n_estimators\", 100, 1000),\n",
    "#          \"lambda_l1\": trial.suggest_float(\"lambda_l1\", 0.005, 0.015),\n",
    "#          \"lambda_l2\": trial.suggest_float(\"lambda_l2\", 0.02, 0.06),\n",
    "#          \"max_depth\": trial.suggest_int(\"max_depth\", 5, 20),\n",
    "#          \"colsample_bytree\": trial.suggest_float(\"colsample_bytree\", 0.3, 0.9),\n",
    "#          \"subsample\": trial.suggest_float(\"subsample\", 0.8, 1.0),\n",
    "#          \"min_child_samples\": trial.suggest_int(\"min_child_samples\", 5, 50),\n",
    "#      }\n",
    "\n",
    "#  # LGBMClassifier with the suggested parameters\n",
    "#      test_model = LGBMClassifier(**param)\n",
    "    \n",
    "# # Fit \n",
    "#      test_model.fit(X_train, y_train)\n",
    "\n",
    "# # Evaluate\n",
    "#      score = test_model.score(X_test, y_test)\n",
    "\n",
    "#      return score\n",
    "\n",
    "# # Train Test split\n",
    "# X_train, X_test, y_train, y_test = train_test_split(X, y, test_size=0.2, random_state=42) \n",
    "\n",
    "\n",
    "# #sampler for Optuna optimization\n",
    "# sampler = optuna.samplers.TPESampler(seed=42)  # Using Tree-structured Parzen Estimator sampler for optimization\n",
    "\n",
    "# # Create a study object\n",
    "# study = optuna.create_study(direction=\"maximize\", sampler=sampler)\n",
    "\n",
    "# # Run the optimization process\n",
    "# study.optimize(lambda trial: objective(trial, X_train, y_train, X_test, y_test), n_trials=50)\n",
    "\n",
    "# # best parameters after optimization\n",
    "# best_params = study.best_params\n",
    "\n",
    "# print('='*50)\n",
    "# print(best_params)"
   ]
  },
  {
   "cell_type": "code",
   "execution_count": 37,
   "id": "27adce60",
   "metadata": {
    "execution": {
     "iopub.execute_input": "2024-03-19T09:59:04.689709Z",
     "iopub.status.busy": "2024-03-19T09:59:04.689408Z",
     "iopub.status.idle": "2024-03-19T09:59:04.695595Z",
     "shell.execute_reply": "2024-03-19T09:59:04.694754Z"
    },
    "papermill": {
     "duration": 0.027551,
     "end_time": "2024-03-19T09:59:04.697451",
     "exception": false,
     "start_time": "2024-03-19T09:59:04.669900",
     "status": "completed"
    },
    "tags": []
   },
   "outputs": [],
   "source": [
    "best_params = {\n",
    "    \"objective\": \"multiclass\",          # Objective function for the model\n",
    "    \"metric\": \"multi_logloss\",          # Evaluation metric\n",
    "    \"verbosity\": -1,                    # Verbosity level (-1 for silent)\n",
    "    \"boosting_type\": \"gbdt\",            # Gradient boosting type\n",
    "    \"random_state\": 42,       # Random state for reproducibility\n",
    "    \"num_class\": 7,                     # Number of classes in the dataset\n",
    "    'learning_rate': 0.02936906933290947, \n",
    "    'n_estimators': 359, \n",
    "    'lambda_l1': 0.014125838338031285, \n",
    "    'lambda_l2': 0.034510251329305505, \n",
    "    'max_depth': 14, \n",
    "    'colsample_bytree': 0.393655304699096, \n",
    "    'subsample': 0.9893518624562953, \n",
    "    'min_child_samples': 22\n",
    "#     'learning_rate': 0.01197852738297134,  # Learning rate for gradient boosting\n",
    "#     'n_estimators': 509,                # Number of boosting iterations\n",
    "#     'lambda_l1': 0.009715116714365275,  # L1 regularization term\n",
    "#     'lambda_l2': 0.03853395161282091,   # L2 regularization term\n",
    "#     'max_depth': 11,                    # Maximum depth of the trees\n",
    "#     'colsample_bytree': 0.7364306508830604,  # Fraction of features to consider for each tree\n",
    "#     'subsample': 0.9529973839959326,    # Fraction of samples to consider for each boosting iteration\n",
    "#     'min_child_samples': 17             # Minimum number of data needed in a leaf\n",
    "}"
   ]
  },
  {
   "cell_type": "code",
   "execution_count": 38,
   "id": "4e2bed1e",
   "metadata": {
    "execution": {
     "iopub.execute_input": "2024-03-19T09:59:04.729976Z",
     "iopub.status.busy": "2024-03-19T09:59:04.729635Z",
     "iopub.status.idle": "2024-03-19T09:59:11.233534Z",
     "shell.execute_reply": "2024-03-19T09:59:11.232568Z"
    },
    "papermill": {
     "duration": 6.52337,
     "end_time": "2024-03-19T09:59:11.236401",
     "exception": false,
     "start_time": "2024-03-19T09:59:04.713031",
     "status": "completed"
    },
    "tags": []
   },
   "outputs": [],
   "source": [
    "model = LGBMClassifier(**best_params)\n",
    "\n",
    "model.fit(X_train,y_train)\n",
    "y_pred= model.predict(X_test)"
   ]
  },
  {
   "cell_type": "code",
   "execution_count": 39,
   "id": "61fe8f25",
   "metadata": {
    "execution": {
     "iopub.execute_input": "2024-03-19T09:59:11.274175Z",
     "iopub.status.busy": "2024-03-19T09:59:11.273296Z",
     "iopub.status.idle": "2024-03-19T09:59:11.305791Z",
     "shell.execute_reply": "2024-03-19T09:59:11.304803Z"
    },
    "papermill": {
     "duration": 0.052605,
     "end_time": "2024-03-19T09:59:11.308055",
     "exception": false,
     "start_time": "2024-03-19T09:59:11.255450",
     "status": "completed"
    },
    "tags": []
   },
   "outputs": [
    {
     "data": {
      "text/plain": [
       "array([[543,  28,   0,   0,   0,   2,   1],\n",
       "       [ 32, 612,   0,   0,   0,  30,   3],\n",
       "       [  1,   3, 601,  22,   2,  19,  34],\n",
       "       [  0,   0,  14, 679,   0,   0,   4],\n",
       "       [  0,   1,   3,   0, 874,   0,   0],\n",
       "       [  5,  32,   5,   0,   0, 429,  54],\n",
       "       [  0,   6,  27,   2,   0,  50, 451]])"
      ]
     },
     "execution_count": 39,
     "metadata": {},
     "output_type": "execute_result"
    }
   ],
   "source": [
    "confusion_matrix(y_test, y_pred)"
   ]
  },
  {
   "cell_type": "code",
   "execution_count": 40,
   "id": "c34c8bac",
   "metadata": {
    "execution": {
     "iopub.execute_input": "2024-03-19T09:59:11.343028Z",
     "iopub.status.busy": "2024-03-19T09:59:11.342701Z",
     "iopub.status.idle": "2024-03-19T09:59:11.567463Z",
     "shell.execute_reply": "2024-03-19T09:59:11.566451Z"
    },
    "papermill": {
     "duration": 0.244297,
     "end_time": "2024-03-19T09:59:11.569877",
     "exception": false,
     "start_time": "2024-03-19T09:59:11.325580",
     "status": "completed"
    },
    "tags": []
   },
   "outputs": [
    {
     "name": "stdout",
     "output_type": "stream",
     "text": [
      "Decision Tree (XGBoost) Model's performance on Train, and Test set:\n",
      "The model's accuracy on the test set is: 0.9168308163711972\n",
      "\n",
      "The model's classification report on the test set\n",
      "                      precision    recall  f1-score   support\n",
      "\n",
      "Insufficient_Weight       0.93      0.95      0.94       574\n",
      "      Normal_Weight       0.90      0.90      0.90       677\n",
      "     Obesity_Type_I       0.92      0.88      0.90       682\n",
      "    Obesity_Type_II       0.97      0.97      0.97       697\n",
      "   Obesity_Type_III       1.00      1.00      1.00       878\n",
      " Overweight_Level_I       0.81      0.82      0.81       525\n",
      "Overweight_Level_II       0.82      0.84      0.83       536\n",
      "\n",
      "           accuracy                           0.92      4569\n",
      "          macro avg       0.91      0.91      0.91      4569\n",
      "       weighted avg       0.92      0.92      0.92      4569\n",
      "\n"
     ]
    }
   ],
   "source": [
    "#Displaying model's performance on Train and Test set\n",
    "print(\"Decision Tree (XGBoost) Model's performance on Train, and Test set:\")\n",
    "print(f\"The model's accuracy on the test set is: {accuracy_score(y_test,y_pred)}\\n\")\n",
    "print(f\"The model's classification report on the test set\\n {classification_report(y_test,y_pred)}\")"
   ]
  },
  {
   "cell_type": "code",
   "execution_count": 41,
   "id": "a80a9108",
   "metadata": {
    "execution": {
     "iopub.execute_input": "2024-03-19T09:59:11.605129Z",
     "iopub.status.busy": "2024-03-19T09:59:11.604749Z",
     "iopub.status.idle": "2024-03-19T09:59:13.544931Z",
     "shell.execute_reply": "2024-03-19T09:59:13.543967Z"
    },
    "papermill": {
     "duration": 1.959588,
     "end_time": "2024-03-19T09:59:13.547266",
     "exception": false,
     "start_time": "2024-03-19T09:59:11.587678",
     "status": "completed"
    },
    "tags": []
   },
   "outputs": [],
   "source": [
    "predictions = model.predict(obesity_test)"
   ]
  },
  {
   "cell_type": "code",
   "execution_count": 42,
   "id": "6f9a6b84",
   "metadata": {
    "execution": {
     "iopub.execute_input": "2024-03-19T09:59:13.580713Z",
     "iopub.status.busy": "2024-03-19T09:59:13.580390Z",
     "iopub.status.idle": "2024-03-19T09:59:13.585939Z",
     "shell.execute_reply": "2024-03-19T09:59:13.585160Z"
    },
    "papermill": {
     "duration": 0.024389,
     "end_time": "2024-03-19T09:59:13.587973",
     "exception": false,
     "start_time": "2024-03-19T09:59:13.563584",
     "status": "completed"
    },
    "tags": []
   },
   "outputs": [
    {
     "data": {
      "text/plain": [
       "array(['Obesity_Type_II', 'Overweight_Level_I', 'Obesity_Type_III', ...,\n",
       "       'Insufficient_Weight', 'Normal_Weight', 'Obesity_Type_II'],\n",
       "      dtype=object)"
      ]
     },
     "execution_count": 42,
     "metadata": {},
     "output_type": "execute_result"
    }
   ],
   "source": [
    "predictions"
   ]
  },
  {
   "cell_type": "code",
   "execution_count": 43,
   "id": "99a36b32",
   "metadata": {
    "execution": {
     "iopub.execute_input": "2024-03-19T09:59:13.622128Z",
     "iopub.status.busy": "2024-03-19T09:59:13.621769Z",
     "iopub.status.idle": "2024-03-19T09:59:13.653508Z",
     "shell.execute_reply": "2024-03-19T09:59:13.652770Z"
    },
    "papermill": {
     "duration": 0.051602,
     "end_time": "2024-03-19T09:59:13.655740",
     "exception": false,
     "start_time": "2024-03-19T09:59:13.604138",
     "status": "completed"
    },
    "tags": []
   },
   "outputs": [],
   "source": [
    "submission = pd.DataFrame({\"id\": test_data[\"id\"], \"NObeyesdad\": predictions})\n",
    "submission.to_csv(\"submission.csv\", index=False)"
   ]
  },
  {
   "cell_type": "code",
   "execution_count": 44,
   "id": "d2b44d6a",
   "metadata": {
    "execution": {
     "iopub.execute_input": "2024-03-19T09:59:13.689550Z",
     "iopub.status.busy": "2024-03-19T09:59:13.688960Z",
     "iopub.status.idle": "2024-03-19T09:59:13.697505Z",
     "shell.execute_reply": "2024-03-19T09:59:13.696662Z"
    },
    "papermill": {
     "duration": 0.02737,
     "end_time": "2024-03-19T09:59:13.699464",
     "exception": false,
     "start_time": "2024-03-19T09:59:13.672094",
     "status": "completed"
    },
    "tags": []
   },
   "outputs": [
    {
     "data": {
      "text/html": [
       "<div>\n",
       "<style scoped>\n",
       "    .dataframe tbody tr th:only-of-type {\n",
       "        vertical-align: middle;\n",
       "    }\n",
       "\n",
       "    .dataframe tbody tr th {\n",
       "        vertical-align: top;\n",
       "    }\n",
       "\n",
       "    .dataframe thead th {\n",
       "        text-align: right;\n",
       "    }\n",
       "</style>\n",
       "<table border=\"1\" class=\"dataframe\">\n",
       "  <thead>\n",
       "    <tr style=\"text-align: right;\">\n",
       "      <th></th>\n",
       "      <th>id</th>\n",
       "      <th>NObeyesdad</th>\n",
       "    </tr>\n",
       "  </thead>\n",
       "  <tbody>\n",
       "    <tr>\n",
       "      <th>0</th>\n",
       "      <td>20758</td>\n",
       "      <td>Obesity_Type_II</td>\n",
       "    </tr>\n",
       "    <tr>\n",
       "      <th>1</th>\n",
       "      <td>20759</td>\n",
       "      <td>Overweight_Level_I</td>\n",
       "    </tr>\n",
       "    <tr>\n",
       "      <th>2</th>\n",
       "      <td>20760</td>\n",
       "      <td>Obesity_Type_III</td>\n",
       "    </tr>\n",
       "    <tr>\n",
       "      <th>3</th>\n",
       "      <td>20761</td>\n",
       "      <td>Obesity_Type_I</td>\n",
       "    </tr>\n",
       "    <tr>\n",
       "      <th>4</th>\n",
       "      <td>20762</td>\n",
       "      <td>Obesity_Type_III</td>\n",
       "    </tr>\n",
       "  </tbody>\n",
       "</table>\n",
       "</div>"
      ],
      "text/plain": [
       "      id          NObeyesdad\n",
       "0  20758     Obesity_Type_II\n",
       "1  20759  Overweight_Level_I\n",
       "2  20760    Obesity_Type_III\n",
       "3  20761      Obesity_Type_I\n",
       "4  20762    Obesity_Type_III"
      ]
     },
     "execution_count": 44,
     "metadata": {},
     "output_type": "execute_result"
    }
   ],
   "source": [
    "submission.head()"
   ]
  }
 ],
 "metadata": {
  "kaggle": {
   "accelerator": "nvidiaTeslaT4",
   "dataSources": [
    {
     "databundleVersionId": 7609535,
     "sourceId": 68479,
     "sourceType": "competition"
    },
    {
     "datasetId": 4030196,
     "sourceId": 7009925,
     "sourceType": "datasetVersion"
    }
   ],
   "dockerImageVersionId": 30646,
   "isGpuEnabled": true,
   "isInternetEnabled": true,
   "language": "python",
   "sourceType": "notebook"
  },
  "kernelspec": {
   "display_name": "Python 3",
   "language": "python",
   "name": "python3"
  },
  "language_info": {
   "codemirror_mode": {
    "name": "ipython",
    "version": 3
   },
   "file_extension": ".py",
   "mimetype": "text/x-python",
   "name": "python",
   "nbconvert_exporter": "python",
   "pygments_lexer": "ipython3",
   "version": "3.10.13"
  },
  "papermill": {
   "default_parameters": {},
   "duration": 22.404907,
   "end_time": "2024-03-19T09:59:14.535069",
   "environment_variables": {},
   "exception": null,
   "input_path": "__notebook__.ipynb",
   "output_path": "__notebook__.ipynb",
   "parameters": {},
   "start_time": "2024-03-19T09:58:52.130162",
   "version": "2.5.0"
  }
 },
 "nbformat": 4,
 "nbformat_minor": 5
}
